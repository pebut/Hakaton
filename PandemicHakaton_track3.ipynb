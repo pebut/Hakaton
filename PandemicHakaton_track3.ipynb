{
  "nbformat": 4,
  "nbformat_minor": 0,
  "metadata": {
    "colab": {
      "name": "PandemicHakaton track3",
      "provenance": [],
      "collapsed_sections": [
        "t6Qo4UKqldyH"
      ],
      "machine_shape": "hm",
      "include_colab_link": true
    },
    "kernelspec": {
      "name": "python3",
      "display_name": "Python 3"
    },
    "accelerator": "GPU"
  },
  "cells": [
    {
      "cell_type": "markdown",
      "metadata": {
        "id": "view-in-github",
        "colab_type": "text"
      },
      "source": [
        "<a href=\"https://colab.research.google.com/github/pebut/Hakaton/blob/main/PandemicHakaton_track3.ipynb\" target=\"_parent\"><img src=\"https://colab.research.google.com/assets/colab-badge.svg\" alt=\"Open In Colab\"/></a>"
      ]
    },
    {
      "cell_type": "markdown",
      "metadata": {
        "id": "sBjq9WQRFSmh"
      },
      "source": [
        "*Теоретический материал:* https://youtu.be/J-lunIrxy1U"
      ]
    },
    {
      "cell_type": "markdown",
      "metadata": {
        "id": "Xls0bGCyT7aM"
      },
      "source": [
        "# Импорт Библиотек\n",
        "\n",
        "*Разбор данного раздела:* https://youtu.be/h8cOCvlYmN8?t=18"
      ]
    },
    {
      "cell_type": "code",
      "metadata": {
        "id": "SkQ2zSVRR_De"
      },
      "source": [
        "import numpy as np #Библиотека работы с массивами\n",
        "import pandas as pd # Библиотека для работы с базами\n",
        "import math\n",
        "\n",
        "from tensorflow.keras.models import Sequential, Model # \n",
        "from tensorflow.keras.layers import concatenate, Input, Dense, Dropout, BatchNormalization, Flatten #\n",
        "from tensorflow.keras import utils #Используем для to_categoricall\n",
        "from tensorflow.keras.optimizers import Adam,Adadelta,SGD,Adagrad,RMSprop #\n",
        "from tensorflow.keras.preprocessing.text import Tokenizer, text_to_word_sequence #\n",
        "from tensorflow.keras.preprocessing.sequence import pad_sequences #\n",
        "from tensorflow.keras.callbacks import LambdaCallback # подключаем колбэки\n",
        "\n",
        "from sklearn.preprocessing import StandardScaler # \n",
        "from sklearn.model_selection import train_test_split # Для разбивки на выборки\n",
        "from sklearn.metrics import mean_squared_error, mean_absolute_error #\n",
        "#from google.colab import files #Для загрузки своей картинки\n",
        "\n",
        "import random #Для генерации случайных чисел \n",
        "import math # Для округления\n",
        "#import os #Для работы с файлами \n",
        "import re #\n",
        "import matplotlib.pyplot as plt #\n",
        "%matplotlib inline\n",
        "\n",
        "from IPython.display import clear_output\n"
      ],
      "execution_count": 71,
      "outputs": []
    },
    {
      "cell_type": "code",
      "metadata": {
        "id": "3Ywrz1ojUx1-",
        "colab": {
          "base_uri": "https://localhost:8080/",
          "height": 122
        },
        "outputId": "f299bc53-f880-4cca-9073-425455668e17"
      },
      "source": [
        "from google.colab import drive # Подключаем диск\n",
        "drive.mount('/content/drive')"
      ],
      "execution_count": null,
      "outputs": [
        {
          "output_type": "stream",
          "text": [
            "Go to this URL in a browser: https://accounts.google.com/o/oauth2/auth?client_id=947318989803-6bn6qk8qdgf4n4g3pfee6491hc0brc4i.apps.googleusercontent.com&redirect_uri=urn%3aietf%3awg%3aoauth%3a2.0%3aoob&scope=email%20https%3a%2f%2fwww.googleapis.com%2fauth%2fdocs.test%20https%3a%2f%2fwww.googleapis.com%2fauth%2fdrive%20https%3a%2f%2fwww.googleapis.com%2fauth%2fdrive.photos.readonly%20https%3a%2f%2fwww.googleapis.com%2fauth%2fpeopleapi.readonly&response_type=code\n",
            "\n",
            "Enter your authorization code:\n",
            "4/4AE3K4tlvKERuBIWVfXr8LlxeTU9ahErbGWAygYyJ79bjEkQdfJuJP4\n",
            "Mounted at /content/drive\n"
          ],
          "name": "stdout"
        }
      ]
    },
    {
      "cell_type": "markdown",
      "metadata": {
        "id": "sToPAfpCGz58"
      },
      "source": [
        "Осторожно! Запуск всех разделов сразу, может привести к недостатку памяти и сессия перезапустится."
      ]
    },
    {
      "cell_type": "markdown",
      "metadata": {
        "id": "K7KW7FalUo6O"
      },
      "source": [
        "# Оценка зарплаты на базе HeadHunter"
      ]
    },
    {
      "cell_type": "markdown",
      "metadata": {
        "id": "2xBnS-kldFyq"
      },
      "source": [
        "##Загружаем базу и смотрим содержание\n",
        "\n",
        "*Разбор данного раздела:* https://youtu.be/h8cOCvlYmN8?t=55"
      ]
    },
    {
      "cell_type": "code",
      "metadata": {
        "id": "iNeVYpiLdBpe",
        "colab": {
          "base_uri": "https://localhost:8080/",
          "height": 381
        },
        "outputId": "ce1019d6-3152-4283-e95c-b3a165281c9e"
      },
      "source": [
        "fixed_df = pd.read_csv('/content/drive/My Drive/Базы/hh_fixed.csv')# Это то, куда вы скачали файл"
      ],
      "execution_count": 21,
      "outputs": [
        {
          "output_type": "error",
          "ename": "FileNotFoundError",
          "evalue": "ignored",
          "traceback": [
            "\u001b[0;31m---------------------------------------------------------------------------\u001b[0m",
            "\u001b[0;31mFileNotFoundError\u001b[0m                         Traceback (most recent call last)",
            "\u001b[0;32m<ipython-input-21-da6b57cc5a9d>\u001b[0m in \u001b[0;36m<module>\u001b[0;34m()\u001b[0m\n\u001b[0;32m----> 1\u001b[0;31m \u001b[0mfixed_df\u001b[0m \u001b[0;34m=\u001b[0m \u001b[0mpd\u001b[0m\u001b[0;34m.\u001b[0m\u001b[0mread_csv\u001b[0m\u001b[0;34m(\u001b[0m\u001b[0;34m'/content/drive/My Drive/Базы/hh_fixed.csv'\u001b[0m\u001b[0;34m)\u001b[0m\u001b[0;31m# Это то, куда вы скачали файл\u001b[0m\u001b[0;34m\u001b[0m\u001b[0;34m\u001b[0m\u001b[0m\n\u001b[0m",
            "\u001b[0;32m/usr/local/lib/python3.6/dist-packages/pandas/io/parsers.py\u001b[0m in \u001b[0;36mread_csv\u001b[0;34m(filepath_or_buffer, sep, delimiter, header, names, index_col, usecols, squeeze, prefix, mangle_dupe_cols, dtype, engine, converters, true_values, false_values, skipinitialspace, skiprows, skipfooter, nrows, na_values, keep_default_na, na_filter, verbose, skip_blank_lines, parse_dates, infer_datetime_format, keep_date_col, date_parser, dayfirst, cache_dates, iterator, chunksize, compression, thousands, decimal, lineterminator, quotechar, quoting, doublequote, escapechar, comment, encoding, dialect, error_bad_lines, warn_bad_lines, delim_whitespace, low_memory, memory_map, float_precision)\u001b[0m\n\u001b[1;32m    686\u001b[0m     )\n\u001b[1;32m    687\u001b[0m \u001b[0;34m\u001b[0m\u001b[0m\n\u001b[0;32m--> 688\u001b[0;31m     \u001b[0;32mreturn\u001b[0m \u001b[0m_read\u001b[0m\u001b[0;34m(\u001b[0m\u001b[0mfilepath_or_buffer\u001b[0m\u001b[0;34m,\u001b[0m \u001b[0mkwds\u001b[0m\u001b[0;34m)\u001b[0m\u001b[0;34m\u001b[0m\u001b[0;34m\u001b[0m\u001b[0m\n\u001b[0m\u001b[1;32m    689\u001b[0m \u001b[0;34m\u001b[0m\u001b[0m\n\u001b[1;32m    690\u001b[0m \u001b[0;34m\u001b[0m\u001b[0m\n",
            "\u001b[0;32m/usr/local/lib/python3.6/dist-packages/pandas/io/parsers.py\u001b[0m in \u001b[0;36m_read\u001b[0;34m(filepath_or_buffer, kwds)\u001b[0m\n\u001b[1;32m    452\u001b[0m \u001b[0;34m\u001b[0m\u001b[0m\n\u001b[1;32m    453\u001b[0m     \u001b[0;31m# Create the parser.\u001b[0m\u001b[0;34m\u001b[0m\u001b[0;34m\u001b[0m\u001b[0;34m\u001b[0m\u001b[0m\n\u001b[0;32m--> 454\u001b[0;31m     \u001b[0mparser\u001b[0m \u001b[0;34m=\u001b[0m \u001b[0mTextFileReader\u001b[0m\u001b[0;34m(\u001b[0m\u001b[0mfp_or_buf\u001b[0m\u001b[0;34m,\u001b[0m \u001b[0;34m**\u001b[0m\u001b[0mkwds\u001b[0m\u001b[0;34m)\u001b[0m\u001b[0;34m\u001b[0m\u001b[0;34m\u001b[0m\u001b[0m\n\u001b[0m\u001b[1;32m    455\u001b[0m \u001b[0;34m\u001b[0m\u001b[0m\n\u001b[1;32m    456\u001b[0m     \u001b[0;32mif\u001b[0m \u001b[0mchunksize\u001b[0m \u001b[0;32mor\u001b[0m \u001b[0miterator\u001b[0m\u001b[0;34m:\u001b[0m\u001b[0;34m\u001b[0m\u001b[0;34m\u001b[0m\u001b[0m\n",
            "\u001b[0;32m/usr/local/lib/python3.6/dist-packages/pandas/io/parsers.py\u001b[0m in \u001b[0;36m__init__\u001b[0;34m(self, f, engine, **kwds)\u001b[0m\n\u001b[1;32m    946\u001b[0m             \u001b[0mself\u001b[0m\u001b[0;34m.\u001b[0m\u001b[0moptions\u001b[0m\u001b[0;34m[\u001b[0m\u001b[0;34m\"has_index_names\"\u001b[0m\u001b[0;34m]\u001b[0m \u001b[0;34m=\u001b[0m \u001b[0mkwds\u001b[0m\u001b[0;34m[\u001b[0m\u001b[0;34m\"has_index_names\"\u001b[0m\u001b[0;34m]\u001b[0m\u001b[0;34m\u001b[0m\u001b[0;34m\u001b[0m\u001b[0m\n\u001b[1;32m    947\u001b[0m \u001b[0;34m\u001b[0m\u001b[0m\n\u001b[0;32m--> 948\u001b[0;31m         \u001b[0mself\u001b[0m\u001b[0;34m.\u001b[0m\u001b[0m_make_engine\u001b[0m\u001b[0;34m(\u001b[0m\u001b[0mself\u001b[0m\u001b[0;34m.\u001b[0m\u001b[0mengine\u001b[0m\u001b[0;34m)\u001b[0m\u001b[0;34m\u001b[0m\u001b[0;34m\u001b[0m\u001b[0m\n\u001b[0m\u001b[1;32m    949\u001b[0m \u001b[0;34m\u001b[0m\u001b[0m\n\u001b[1;32m    950\u001b[0m     \u001b[0;32mdef\u001b[0m \u001b[0mclose\u001b[0m\u001b[0;34m(\u001b[0m\u001b[0mself\u001b[0m\u001b[0;34m)\u001b[0m\u001b[0;34m:\u001b[0m\u001b[0;34m\u001b[0m\u001b[0;34m\u001b[0m\u001b[0m\n",
            "\u001b[0;32m/usr/local/lib/python3.6/dist-packages/pandas/io/parsers.py\u001b[0m in \u001b[0;36m_make_engine\u001b[0;34m(self, engine)\u001b[0m\n\u001b[1;32m   1178\u001b[0m     \u001b[0;32mdef\u001b[0m \u001b[0m_make_engine\u001b[0m\u001b[0;34m(\u001b[0m\u001b[0mself\u001b[0m\u001b[0;34m,\u001b[0m \u001b[0mengine\u001b[0m\u001b[0;34m=\u001b[0m\u001b[0;34m\"c\"\u001b[0m\u001b[0;34m)\u001b[0m\u001b[0;34m:\u001b[0m\u001b[0;34m\u001b[0m\u001b[0;34m\u001b[0m\u001b[0m\n\u001b[1;32m   1179\u001b[0m         \u001b[0;32mif\u001b[0m \u001b[0mengine\u001b[0m \u001b[0;34m==\u001b[0m \u001b[0;34m\"c\"\u001b[0m\u001b[0;34m:\u001b[0m\u001b[0;34m\u001b[0m\u001b[0;34m\u001b[0m\u001b[0m\n\u001b[0;32m-> 1180\u001b[0;31m             \u001b[0mself\u001b[0m\u001b[0;34m.\u001b[0m\u001b[0m_engine\u001b[0m \u001b[0;34m=\u001b[0m \u001b[0mCParserWrapper\u001b[0m\u001b[0;34m(\u001b[0m\u001b[0mself\u001b[0m\u001b[0;34m.\u001b[0m\u001b[0mf\u001b[0m\u001b[0;34m,\u001b[0m \u001b[0;34m**\u001b[0m\u001b[0mself\u001b[0m\u001b[0;34m.\u001b[0m\u001b[0moptions\u001b[0m\u001b[0;34m)\u001b[0m\u001b[0;34m\u001b[0m\u001b[0;34m\u001b[0m\u001b[0m\n\u001b[0m\u001b[1;32m   1181\u001b[0m         \u001b[0;32melse\u001b[0m\u001b[0;34m:\u001b[0m\u001b[0;34m\u001b[0m\u001b[0;34m\u001b[0m\u001b[0m\n\u001b[1;32m   1182\u001b[0m             \u001b[0;32mif\u001b[0m \u001b[0mengine\u001b[0m \u001b[0;34m==\u001b[0m \u001b[0;34m\"python\"\u001b[0m\u001b[0;34m:\u001b[0m\u001b[0;34m\u001b[0m\u001b[0;34m\u001b[0m\u001b[0m\n",
            "\u001b[0;32m/usr/local/lib/python3.6/dist-packages/pandas/io/parsers.py\u001b[0m in \u001b[0;36m__init__\u001b[0;34m(self, src, **kwds)\u001b[0m\n\u001b[1;32m   2008\u001b[0m         \u001b[0mkwds\u001b[0m\u001b[0;34m[\u001b[0m\u001b[0;34m\"usecols\"\u001b[0m\u001b[0;34m]\u001b[0m \u001b[0;34m=\u001b[0m \u001b[0mself\u001b[0m\u001b[0;34m.\u001b[0m\u001b[0musecols\u001b[0m\u001b[0;34m\u001b[0m\u001b[0;34m\u001b[0m\u001b[0m\n\u001b[1;32m   2009\u001b[0m \u001b[0;34m\u001b[0m\u001b[0m\n\u001b[0;32m-> 2010\u001b[0;31m         \u001b[0mself\u001b[0m\u001b[0;34m.\u001b[0m\u001b[0m_reader\u001b[0m \u001b[0;34m=\u001b[0m \u001b[0mparsers\u001b[0m\u001b[0;34m.\u001b[0m\u001b[0mTextReader\u001b[0m\u001b[0;34m(\u001b[0m\u001b[0msrc\u001b[0m\u001b[0;34m,\u001b[0m \u001b[0;34m**\u001b[0m\u001b[0mkwds\u001b[0m\u001b[0;34m)\u001b[0m\u001b[0;34m\u001b[0m\u001b[0;34m\u001b[0m\u001b[0m\n\u001b[0m\u001b[1;32m   2011\u001b[0m         \u001b[0mself\u001b[0m\u001b[0;34m.\u001b[0m\u001b[0munnamed_cols\u001b[0m \u001b[0;34m=\u001b[0m \u001b[0mself\u001b[0m\u001b[0;34m.\u001b[0m\u001b[0m_reader\u001b[0m\u001b[0;34m.\u001b[0m\u001b[0munnamed_cols\u001b[0m\u001b[0;34m\u001b[0m\u001b[0;34m\u001b[0m\u001b[0m\n\u001b[1;32m   2012\u001b[0m \u001b[0;34m\u001b[0m\u001b[0m\n",
            "\u001b[0;32mpandas/_libs/parsers.pyx\u001b[0m in \u001b[0;36mpandas._libs.parsers.TextReader.__cinit__\u001b[0;34m()\u001b[0m\n",
            "\u001b[0;32mpandas/_libs/parsers.pyx\u001b[0m in \u001b[0;36mpandas._libs.parsers.TextReader._setup_parser_source\u001b[0;34m()\u001b[0m\n",
            "\u001b[0;31mFileNotFoundError\u001b[0m: [Errno 2] No such file or directory: '/content/drive/My Drive/Базы/hh_fixed.csv'"
          ]
        }
      ]
    },
    {
      "cell_type": "code",
      "metadata": {
        "colab": {
          "base_uri": "https://localhost:8080/"
        },
        "id": "fD8EloxuPHj2",
        "outputId": "b54276a6-5464-4ce8-86fb-545eb006a0b8"
      },
      "source": [
        "from google.colab import drive\r\n",
        "drive.mount('/content/drive')"
      ],
      "execution_count": 22,
      "outputs": [
        {
          "output_type": "stream",
          "text": [
            "Drive already mounted at /content/drive; to attempt to forcibly remount, call drive.mount(\"/content/drive\", force_remount=True).\n"
          ],
          "name": "stdout"
        }
      ]
    },
    {
      "cell_type": "code",
      "metadata": {
        "id": "_9NNZQ87OVOz"
      },
      "source": [
        "\r\n",
        "fixed_df = pd.read_csv('/content/drive/MyDrive/Hakaton/train.csv', sep=';',encoding='utf8')\r\n",
        "test = pd.read_csv('/content/drive/MyDrive/Hakaton/test.csv', sep=';',encoding='utf8')\r\n"
      ],
      "execution_count": null,
      "outputs": []
    },
    {
      "cell_type": "code",
      "metadata": {
        "id": "rTvbR5UZX3jq"
      },
      "source": [
        "pos = pd.read_csv('/content/drive/MyDrive/Hakaton/unique_pos.txt', sep=',',encoding='utf8')"
      ],
      "execution_count": 183,
      "outputs": []
    },
    {
      "cell_type": "code",
      "metadata": {
        "colab": {
          "base_uri": "https://localhost:8080/"
        },
        "id": "aPsLtD6NYXDT",
        "outputId": "c81107ab-7ed1-476a-bfa0-7b0022e0ed09"
      },
      "source": [
        "pos.shape"
      ],
      "execution_count": 184,
      "outputs": [
        {
          "output_type": "execute_result",
          "data": {
            "text/plain": [
              "(0, 63694)"
            ]
          },
          "metadata": {
            "tags": []
          },
          "execution_count": 184
        }
      ]
    },
    {
      "cell_type": "code",
      "metadata": {
        "id": "bhxskfl6gWiZ",
        "colab": {
          "base_uri": "https://localhost:8080/"
        },
        "outputId": "9e8d37cd-c379-450c-955a-3e0dc8676740"
      },
      "source": [
        "# Количество резюме и критерии\n",
        "print(fixed_df.shape)"
      ],
      "execution_count": 153,
      "outputs": [
        {
          "output_type": "stream",
          "text": [
            "(306270, 25)\n"
          ],
          "name": "stdout"
        }
      ]
    },
    {
      "cell_type": "code",
      "metadata": {
        "id": "fAIunUIBnNGD",
        "colab": {
          "base_uri": "https://localhost:8080/",
          "height": 826
        },
        "outputId": "ed4e1573-1d80-4f70-bef0-79f8571fc9fe"
      },
      "source": [
        "fixed_df.head(10)"
      ],
      "execution_count": 169,
      "outputs": [
        {
          "output_type": "execute_result",
          "data": {
            "text/html": [
              "<div>\n",
              "<style scoped>\n",
              "    .dataframe tbody tr th:only-of-type {\n",
              "        vertical-align: middle;\n",
              "    }\n",
              "\n",
              "    .dataframe tbody tr th {\n",
              "        vertical-align: top;\n",
              "    }\n",
              "\n",
              "    .dataframe thead th {\n",
              "        text-align: right;\n",
              "    }\n",
              "</style>\n",
              "<table border=\"1\" class=\"dataframe\">\n",
              "  <thead>\n",
              "    <tr style=\"text-align: right;\">\n",
              "      <th></th>\n",
              "      <th>id</th>\n",
              "      <th>position</th>\n",
              "      <th>region</th>\n",
              "      <th>industry</th>\n",
              "      <th>locality</th>\n",
              "      <th>locality_name</th>\n",
              "      <th>education_type</th>\n",
              "      <th>drive_licences</th>\n",
              "      <th>citizenship</th>\n",
              "      <th>schedule</th>\n",
              "      <th>employement_type</th>\n",
              "      <th>age</th>\n",
              "      <th>gender</th>\n",
              "      <th>experience</th>\n",
              "      <th>salary_desired</th>\n",
              "      <th>relocation_ready</th>\n",
              "      <th>travel_ready</th>\n",
              "      <th>retraining_ready</th>\n",
              "      <th>is_worldskills_participant</th>\n",
              "      <th>has_qualifications</th>\n",
              "      <th>completeness_rate</th>\n",
              "      <th>creation_date</th>\n",
              "      <th>modification_date</th>\n",
              "      <th>publish_date</th>\n",
              "      <th>salary</th>\n",
              "    </tr>\n",
              "  </thead>\n",
              "  <tbody>\n",
              "    <tr>\n",
              "      <th>0</th>\n",
              "      <td>0</td>\n",
              "      <td>Специалист</td>\n",
              "      <td>Тульская область</td>\n",
              "      <td>Государственная служба, некоммерческие организ...</td>\n",
              "      <td>7100000100000</td>\n",
              "      <td>Тула</td>\n",
              "      <td>Незаконченное высшее</td>\n",
              "      <td>[B]</td>\n",
              "      <td>Российская Федерация</td>\n",
              "      <td>Полный рабочий день</td>\n",
              "      <td>Полная занятость</td>\n",
              "      <td>21.0</td>\n",
              "      <td>Мужской</td>\n",
              "      <td>3</td>\n",
              "      <td>35000</td>\n",
              "      <td>False</td>\n",
              "      <td>False</td>\n",
              "      <td>True</td>\n",
              "      <td>NaN</td>\n",
              "      <td>NaN</td>\n",
              "      <td>64.0</td>\n",
              "      <td>2020-05-07</td>\n",
              "      <td>2020-05-08</td>\n",
              "      <td>2020-05-07</td>\n",
              "      <td>37500</td>\n",
              "    </tr>\n",
              "    <tr>\n",
              "      <th>1</th>\n",
              "      <td>1</td>\n",
              "      <td>Лаборант</td>\n",
              "      <td>Алтайский край</td>\n",
              "      <td>Государственная служба, некоммерческие организ...</td>\n",
              "      <td>2200000100000</td>\n",
              "      <td>Барнаул</td>\n",
              "      <td>Высшее</td>\n",
              "      <td>[B]</td>\n",
              "      <td>Российская Федерация</td>\n",
              "      <td>Полный рабочий день</td>\n",
              "      <td>Полная занятость</td>\n",
              "      <td>26.0</td>\n",
              "      <td>Женский</td>\n",
              "      <td>4</td>\n",
              "      <td>15000</td>\n",
              "      <td>False</td>\n",
              "      <td>True</td>\n",
              "      <td>True</td>\n",
              "      <td>NaN</td>\n",
              "      <td>NaN</td>\n",
              "      <td>88.0</td>\n",
              "      <td>2020-10-21</td>\n",
              "      <td>2020-10-27</td>\n",
              "      <td>2020-10-27</td>\n",
              "      <td>14000</td>\n",
              "    </tr>\n",
              "    <tr>\n",
              "      <th>2</th>\n",
              "      <td>3</td>\n",
              "      <td>Специалист, администратор, бухгалтер, экономист</td>\n",
              "      <td>Ульяновская область</td>\n",
              "      <td>Административная работа, секретариат, АХО</td>\n",
              "      <td>7300000200000</td>\n",
              "      <td>Димитровград</td>\n",
              "      <td>Высшее</td>\n",
              "      <td>[B]</td>\n",
              "      <td>Российская Федерация</td>\n",
              "      <td>Полный рабочий день</td>\n",
              "      <td>Полная занятость</td>\n",
              "      <td>36.0</td>\n",
              "      <td>Женский</td>\n",
              "      <td>12</td>\n",
              "      <td>20000</td>\n",
              "      <td>False</td>\n",
              "      <td>NaN</td>\n",
              "      <td>True</td>\n",
              "      <td>NaN</td>\n",
              "      <td>NaN</td>\n",
              "      <td>78.0</td>\n",
              "      <td>2019-04-25</td>\n",
              "      <td>2020-02-04</td>\n",
              "      <td>2020-02-04</td>\n",
              "      <td>24600</td>\n",
              "    </tr>\n",
              "    <tr>\n",
              "      <th>3</th>\n",
              "      <td>4</td>\n",
              "      <td>Специалист</td>\n",
              "      <td>Свердловская область</td>\n",
              "      <td>Государственная служба, некоммерческие организ...</td>\n",
              "      <td>6600002300000</td>\n",
              "      <td>Нижний Тагил</td>\n",
              "      <td>Высшее</td>\n",
              "      <td>[B]</td>\n",
              "      <td>Российская Федерация</td>\n",
              "      <td>Полный рабочий день</td>\n",
              "      <td>Полная занятость</td>\n",
              "      <td>34.0</td>\n",
              "      <td>Женский</td>\n",
              "      <td>9</td>\n",
              "      <td>30000</td>\n",
              "      <td>False</td>\n",
              "      <td>False</td>\n",
              "      <td>False</td>\n",
              "      <td>NaN</td>\n",
              "      <td>NaN</td>\n",
              "      <td>91.0</td>\n",
              "      <td>2020-09-19</td>\n",
              "      <td>2020-09-20</td>\n",
              "      <td>2020-09-19</td>\n",
              "      <td>16075</td>\n",
              "    </tr>\n",
              "    <tr>\n",
              "      <th>4</th>\n",
              "      <td>5</td>\n",
              "      <td>Инструктор по плаванию</td>\n",
              "      <td>Иркутская область</td>\n",
              "      <td>Здравоохранение, спорт, красота, социальное об...</td>\n",
              "      <td>3800000400000</td>\n",
              "      <td>Ангарск</td>\n",
              "      <td>NaN</td>\n",
              "      <td>NaN</td>\n",
              "      <td>Российская Федерация</td>\n",
              "      <td>Полный рабочий день</td>\n",
              "      <td>Полная занятость</td>\n",
              "      <td>25.0</td>\n",
              "      <td>Мужской</td>\n",
              "      <td>1</td>\n",
              "      <td>40000</td>\n",
              "      <td>False</td>\n",
              "      <td>NaN</td>\n",
              "      <td>NaN</td>\n",
              "      <td>NaN</td>\n",
              "      <td>NaN</td>\n",
              "      <td>58.0</td>\n",
              "      <td>2020-04-20</td>\n",
              "      <td>2020-09-09</td>\n",
              "      <td>2020-04-21</td>\n",
              "      <td>22080</td>\n",
              "    </tr>\n",
              "    <tr>\n",
              "      <th>5</th>\n",
              "      <td>8</td>\n",
              "      <td>учитель технологии</td>\n",
              "      <td>Тюменская область</td>\n",
              "      <td>Образование, наука</td>\n",
              "      <td>7200000000000</td>\n",
              "      <td>Тюменская</td>\n",
              "      <td>NaN</td>\n",
              "      <td>NaN</td>\n",
              "      <td>Российская Федерация</td>\n",
              "      <td>Полный рабочий день</td>\n",
              "      <td>Полная занятость</td>\n",
              "      <td>49.0</td>\n",
              "      <td>Женский</td>\n",
              "      <td>0</td>\n",
              "      <td>31140</td>\n",
              "      <td>False</td>\n",
              "      <td>True</td>\n",
              "      <td>True</td>\n",
              "      <td>NaN</td>\n",
              "      <td>NaN</td>\n",
              "      <td>57.0</td>\n",
              "      <td>2019-08-09</td>\n",
              "      <td>2019-08-09</td>\n",
              "      <td>2019-08-09</td>\n",
              "      <td>31140</td>\n",
              "    </tr>\n",
              "    <tr>\n",
              "      <th>6</th>\n",
              "      <td>9</td>\n",
              "      <td>контролер отк</td>\n",
              "      <td>Республика Татарстан</td>\n",
              "      <td>Строительство, ремонт, стройматериалы, недвижи...</td>\n",
              "      <td>1600000000000</td>\n",
              "      <td>Татарстан</td>\n",
              "      <td>Среднее профессиональное</td>\n",
              "      <td>NaN</td>\n",
              "      <td>Российская Федерация</td>\n",
              "      <td>Полный рабочий день</td>\n",
              "      <td>Полная занятость</td>\n",
              "      <td>NaN</td>\n",
              "      <td>NaN</td>\n",
              "      <td>17</td>\n",
              "      <td>20000</td>\n",
              "      <td>False</td>\n",
              "      <td>True</td>\n",
              "      <td>True</td>\n",
              "      <td>NaN</td>\n",
              "      <td>NaN</td>\n",
              "      <td>62.0</td>\n",
              "      <td>2020-07-23</td>\n",
              "      <td>2020-10-22</td>\n",
              "      <td>2020-08-01</td>\n",
              "      <td>27600</td>\n",
              "    </tr>\n",
              "    <tr>\n",
              "      <th>7</th>\n",
              "      <td>10</td>\n",
              "      <td>Юрист, Юриспруденция, ФССП, Федеральная Служба...</td>\n",
              "      <td>Республика Саха (Якутия)</td>\n",
              "      <td>Государственная служба, некоммерческие организ...</td>\n",
              "      <td>1400000100000</td>\n",
              "      <td>Якутск</td>\n",
              "      <td>Высшее</td>\n",
              "      <td>NaN</td>\n",
              "      <td>Российская Федерация</td>\n",
              "      <td>Полный рабочий день</td>\n",
              "      <td>Полная занятость</td>\n",
              "      <td>25.0</td>\n",
              "      <td>Мужской</td>\n",
              "      <td>1</td>\n",
              "      <td>30000</td>\n",
              "      <td>False</td>\n",
              "      <td>True</td>\n",
              "      <td>True</td>\n",
              "      <td>NaN</td>\n",
              "      <td>NaN</td>\n",
              "      <td>88.0</td>\n",
              "      <td>2020-05-26</td>\n",
              "      <td>2020-05-27</td>\n",
              "      <td>2020-05-27</td>\n",
              "      <td>33120</td>\n",
              "    </tr>\n",
              "    <tr>\n",
              "      <th>8</th>\n",
              "      <td>12</td>\n",
              "      <td>Кондитер</td>\n",
              "      <td>Забайкальский край</td>\n",
              "      <td>Пищевая промышленность</td>\n",
              "      <td>7500000100000</td>\n",
              "      <td>Чита</td>\n",
              "      <td>Среднее профессиональное</td>\n",
              "      <td>NaN</td>\n",
              "      <td>Российская Федерация</td>\n",
              "      <td>Полный рабочий день</td>\n",
              "      <td>Полная занятость</td>\n",
              "      <td>28.0</td>\n",
              "      <td>Мужской</td>\n",
              "      <td>2</td>\n",
              "      <td>30000</td>\n",
              "      <td>False</td>\n",
              "      <td>NaN</td>\n",
              "      <td>True</td>\n",
              "      <td>NaN</td>\n",
              "      <td>NaN</td>\n",
              "      <td>63.0</td>\n",
              "      <td>2020-04-25</td>\n",
              "      <td>2020-07-27</td>\n",
              "      <td>2020-04-25</td>\n",
              "      <td>22500</td>\n",
              "    </tr>\n",
              "    <tr>\n",
              "      <th>9</th>\n",
              "      <td>13</td>\n",
              "      <td>Бурильщик ЭРБС</td>\n",
              "      <td>Пермский край</td>\n",
              "      <td>Добывающая промышленность</td>\n",
              "      <td>5900000000000</td>\n",
              "      <td>Пермский</td>\n",
              "      <td>NaN</td>\n",
              "      <td>NaN</td>\n",
              "      <td>Российская Федерация</td>\n",
              "      <td>Полный рабочий день,Вахтовый метод</td>\n",
              "      <td>Полная занятость</td>\n",
              "      <td>32.0</td>\n",
              "      <td>Мужской</td>\n",
              "      <td>0</td>\n",
              "      <td>60000</td>\n",
              "      <td>False</td>\n",
              "      <td>True</td>\n",
              "      <td>True</td>\n",
              "      <td>NaN</td>\n",
              "      <td>NaN</td>\n",
              "      <td>52.0</td>\n",
              "      <td>2020-04-17</td>\n",
              "      <td>2020-07-10</td>\n",
              "      <td>2020-04-20</td>\n",
              "      <td>139104</td>\n",
              "    </tr>\n",
              "  </tbody>\n",
              "</table>\n",
              "</div>"
            ],
            "text/plain": [
              "   id                                           position  ... publish_date  salary\n",
              "0   0                                         Специалист  ...   2020-05-07   37500\n",
              "1   1                                           Лаборант  ...   2020-10-27   14000\n",
              "2   3    Специалист, администратор, бухгалтер, экономист  ...   2020-02-04   24600\n",
              "3   4                                         Специалист  ...   2020-09-19   16075\n",
              "4   5                             Инструктор по плаванию  ...   2020-04-21   22080\n",
              "5   8                                 учитель технологии  ...   2019-08-09   31140\n",
              "6   9                                      контролер отк  ...   2020-08-01   27600\n",
              "7  10  Юрист, Юриспруденция, ФССП, Федеральная Служба...  ...   2020-05-27   33120\n",
              "8  12                                           Кондитер  ...   2020-04-25   22500\n",
              "9  13                                     Бурильщик ЭРБС  ...   2020-04-20  139104\n",
              "\n",
              "[10 rows x 25 columns]"
            ]
          },
          "metadata": {
            "tags": []
          },
          "execution_count": 169
        }
      ]
    },
    {
      "cell_type": "code",
      "metadata": {
        "colab": {
          "base_uri": "https://localhost:8080/",
          "height": 465
        },
        "id": "aU8HlATBPdak",
        "outputId": "13bb358d-f086-4e2e-c502-8ecad52f6728"
      },
      "source": [
        "fixed_df.head()"
      ],
      "execution_count": 155,
      "outputs": [
        {
          "output_type": "execute_result",
          "data": {
            "text/html": [
              "<div>\n",
              "<style scoped>\n",
              "    .dataframe tbody tr th:only-of-type {\n",
              "        vertical-align: middle;\n",
              "    }\n",
              "\n",
              "    .dataframe tbody tr th {\n",
              "        vertical-align: top;\n",
              "    }\n",
              "\n",
              "    .dataframe thead th {\n",
              "        text-align: right;\n",
              "    }\n",
              "</style>\n",
              "<table border=\"1\" class=\"dataframe\">\n",
              "  <thead>\n",
              "    <tr style=\"text-align: right;\">\n",
              "      <th></th>\n",
              "      <th>id</th>\n",
              "      <th>position</th>\n",
              "      <th>region</th>\n",
              "      <th>industry</th>\n",
              "      <th>locality</th>\n",
              "      <th>locality_name</th>\n",
              "      <th>education_type</th>\n",
              "      <th>drive_licences</th>\n",
              "      <th>citizenship</th>\n",
              "      <th>schedule</th>\n",
              "      <th>employement_type</th>\n",
              "      <th>age</th>\n",
              "      <th>gender</th>\n",
              "      <th>experience</th>\n",
              "      <th>salary_desired</th>\n",
              "      <th>relocation_ready</th>\n",
              "      <th>travel_ready</th>\n",
              "      <th>retraining_ready</th>\n",
              "      <th>is_worldskills_participant</th>\n",
              "      <th>has_qualifications</th>\n",
              "      <th>completeness_rate</th>\n",
              "      <th>creation_date</th>\n",
              "      <th>modification_date</th>\n",
              "      <th>publish_date</th>\n",
              "      <th>salary</th>\n",
              "    </tr>\n",
              "  </thead>\n",
              "  <tbody>\n",
              "    <tr>\n",
              "      <th>0</th>\n",
              "      <td>0</td>\n",
              "      <td>Специалист</td>\n",
              "      <td>Тульская область</td>\n",
              "      <td>Государственная служба, некоммерческие организ...</td>\n",
              "      <td>7100000100000</td>\n",
              "      <td>Тула</td>\n",
              "      <td>Незаконченное высшее</td>\n",
              "      <td>[B]</td>\n",
              "      <td>Российская Федерация</td>\n",
              "      <td>Полный рабочий день</td>\n",
              "      <td>Полная занятость</td>\n",
              "      <td>21.0</td>\n",
              "      <td>Мужской</td>\n",
              "      <td>3</td>\n",
              "      <td>35000</td>\n",
              "      <td>False</td>\n",
              "      <td>False</td>\n",
              "      <td>True</td>\n",
              "      <td>NaN</td>\n",
              "      <td>NaN</td>\n",
              "      <td>64.0</td>\n",
              "      <td>2020-05-07</td>\n",
              "      <td>2020-05-08</td>\n",
              "      <td>2020-05-07</td>\n",
              "      <td>37500</td>\n",
              "    </tr>\n",
              "    <tr>\n",
              "      <th>1</th>\n",
              "      <td>1</td>\n",
              "      <td>Лаборант</td>\n",
              "      <td>Алтайский край</td>\n",
              "      <td>Государственная служба, некоммерческие организ...</td>\n",
              "      <td>2200000100000</td>\n",
              "      <td>Барнаул</td>\n",
              "      <td>Высшее</td>\n",
              "      <td>[B]</td>\n",
              "      <td>Российская Федерация</td>\n",
              "      <td>Полный рабочий день</td>\n",
              "      <td>Полная занятость</td>\n",
              "      <td>26.0</td>\n",
              "      <td>Женский</td>\n",
              "      <td>4</td>\n",
              "      <td>15000</td>\n",
              "      <td>False</td>\n",
              "      <td>True</td>\n",
              "      <td>True</td>\n",
              "      <td>NaN</td>\n",
              "      <td>NaN</td>\n",
              "      <td>88.0</td>\n",
              "      <td>2020-10-21</td>\n",
              "      <td>2020-10-27</td>\n",
              "      <td>2020-10-27</td>\n",
              "      <td>14000</td>\n",
              "    </tr>\n",
              "    <tr>\n",
              "      <th>2</th>\n",
              "      <td>3</td>\n",
              "      <td>Специалист, администратор, бухгалтер, экономист</td>\n",
              "      <td>Ульяновская область</td>\n",
              "      <td>Административная работа, секретариат, АХО</td>\n",
              "      <td>7300000200000</td>\n",
              "      <td>Димитровград</td>\n",
              "      <td>Высшее</td>\n",
              "      <td>[B]</td>\n",
              "      <td>Российская Федерация</td>\n",
              "      <td>Полный рабочий день</td>\n",
              "      <td>Полная занятость</td>\n",
              "      <td>36.0</td>\n",
              "      <td>Женский</td>\n",
              "      <td>12</td>\n",
              "      <td>20000</td>\n",
              "      <td>False</td>\n",
              "      <td>NaN</td>\n",
              "      <td>True</td>\n",
              "      <td>NaN</td>\n",
              "      <td>NaN</td>\n",
              "      <td>78.0</td>\n",
              "      <td>2019-04-25</td>\n",
              "      <td>2020-02-04</td>\n",
              "      <td>2020-02-04</td>\n",
              "      <td>24600</td>\n",
              "    </tr>\n",
              "    <tr>\n",
              "      <th>3</th>\n",
              "      <td>4</td>\n",
              "      <td>Специалист</td>\n",
              "      <td>Свердловская область</td>\n",
              "      <td>Государственная служба, некоммерческие организ...</td>\n",
              "      <td>6600002300000</td>\n",
              "      <td>Нижний Тагил</td>\n",
              "      <td>Высшее</td>\n",
              "      <td>[B]</td>\n",
              "      <td>Российская Федерация</td>\n",
              "      <td>Полный рабочий день</td>\n",
              "      <td>Полная занятость</td>\n",
              "      <td>34.0</td>\n",
              "      <td>Женский</td>\n",
              "      <td>9</td>\n",
              "      <td>30000</td>\n",
              "      <td>False</td>\n",
              "      <td>False</td>\n",
              "      <td>False</td>\n",
              "      <td>NaN</td>\n",
              "      <td>NaN</td>\n",
              "      <td>91.0</td>\n",
              "      <td>2020-09-19</td>\n",
              "      <td>2020-09-20</td>\n",
              "      <td>2020-09-19</td>\n",
              "      <td>16075</td>\n",
              "    </tr>\n",
              "    <tr>\n",
              "      <th>4</th>\n",
              "      <td>5</td>\n",
              "      <td>Инструктор по плаванию</td>\n",
              "      <td>Иркутская область</td>\n",
              "      <td>Здравоохранение, спорт, красота, социальное об...</td>\n",
              "      <td>3800000400000</td>\n",
              "      <td>Ангарск</td>\n",
              "      <td>NaN</td>\n",
              "      <td>NaN</td>\n",
              "      <td>Российская Федерация</td>\n",
              "      <td>Полный рабочий день</td>\n",
              "      <td>Полная занятость</td>\n",
              "      <td>25.0</td>\n",
              "      <td>Мужской</td>\n",
              "      <td>1</td>\n",
              "      <td>40000</td>\n",
              "      <td>False</td>\n",
              "      <td>NaN</td>\n",
              "      <td>NaN</td>\n",
              "      <td>NaN</td>\n",
              "      <td>NaN</td>\n",
              "      <td>58.0</td>\n",
              "      <td>2020-04-20</td>\n",
              "      <td>2020-09-09</td>\n",
              "      <td>2020-04-21</td>\n",
              "      <td>22080</td>\n",
              "    </tr>\n",
              "  </tbody>\n",
              "</table>\n",
              "</div>"
            ],
            "text/plain": [
              "   id                                         position  ... publish_date salary\n",
              "0   0                                       Специалист  ...   2020-05-07  37500\n",
              "1   1                                         Лаборант  ...   2020-10-27  14000\n",
              "2   3  Специалист, администратор, бухгалтер, экономист  ...   2020-02-04  24600\n",
              "3   4                                       Специалист  ...   2020-09-19  16075\n",
              "4   5                           Инструктор по плаванию  ...   2020-04-21  22080\n",
              "\n",
              "[5 rows x 25 columns]"
            ]
          },
          "metadata": {
            "tags": []
          },
          "execution_count": 155
        }
      ]
    },
    {
      "cell_type": "code",
      "metadata": {
        "id": "uJDzeCxKgqkS",
        "colab": {
          "base_uri": "https://localhost:8080/"
        },
        "outputId": "9f50264a-d8fb-4ffe-ed8a-1963fecd861c"
      },
      "source": [
        "# Пример данных\n",
        "n = 0 # Берем первое резюме\n",
        "for i in range(len(fixed_df.values[n])): # Выводим значение каждой графы резюме\n",
        "  print(i, \" \", fixed_df.values[n][i])"
      ],
      "execution_count": 131,
      "outputs": [
        {
          "output_type": "stream",
          "text": [
            "0   0\n",
            "1   Специалист\n",
            "2   Тульская область\n",
            "3   Государственная служба, некоммерческие организации\n",
            "4   7100000100000\n",
            "5   Тула\n",
            "6   Незаконченное высшее\n",
            "7   [B]\n",
            "8   Российская Федерация\n",
            "9   Полный рабочий день\n",
            "10   Полная занятость\n",
            "11   21.0\n",
            "12   Мужской\n",
            "13   3\n",
            "14   35000\n",
            "15   False\n",
            "16   False\n",
            "17   True\n",
            "18   nan\n",
            "19   nan\n",
            "20   64.0\n",
            "21   2020-05-07\n",
            "22   2020-05-08\n",
            "23   2020-05-07\n",
            "24   37500\n"
          ],
          "name": "stdout"
        }
      ]
    },
    {
      "cell_type": "markdown",
      "metadata": {
        "id": "JS293Wo3lGMd"
      },
      "source": [
        "## Парсим базу\n",
        "\n",
        "*Разбор данного раздела:* https://youtu.be/h8cOCvlYmN8?t=183\n",
        "\n",
        "\n",
        "\n"
      ]
    },
    {
      "cell_type": "code",
      "metadata": {
        "id": "ne15zckQlJ_f",
        "colab": {
          "base_uri": "https://localhost:8080/",
          "height": 381
        },
        "outputId": "3aa033c0-f678-4aa7-bf57-9eb07862bf3b"
      },
      "source": [
        "##############################################\n",
        "####Убрать кодировку в описаниях \\xa0 \\n\n",
        "##############################################\n",
        "fixed_df = fixed_df.drop(fixed_df.columns[0],axis = 1) # Убираем первый столбец с продублированными индексами. Он нам не нужен\n",
        "\n",
        "i=0\n",
        "for j in range(24):  # Для каждого из столбцов таблицы\n",
        "    for i in range(fixed_df.shape[0]): # По всем резюме\n",
        "        if type(fixed_df.values[i][j])!=float: # если данные текстовые, то заменяем фрагменты кодировки ASCII на отсутствие символов\n",
        "            fixed_df.values[i][j] = fixed_df.values[i][j].replace(\"\\xa0\",\"\")\n",
        "            fixed_df.values[i][j] = fixed_df.values[i][j].replace(\"\\n\",\" \")"
      ],
      "execution_count": 11,
      "outputs": [
        {
          "output_type": "error",
          "ename": "KeyboardInterrupt",
          "evalue": "ignored",
          "traceback": [
            "\u001b[0;31m---------------------------------------------------------------------------\u001b[0m",
            "\u001b[0;31mKeyboardInterrupt\u001b[0m                         Traceback (most recent call last)",
            "\u001b[0;32m<ipython-input-11-1a23b2eb945c>\u001b[0m in \u001b[0;36m<module>\u001b[0;34m()\u001b[0m\n\u001b[1;32m      7\u001b[0m \u001b[0;32mfor\u001b[0m \u001b[0mj\u001b[0m \u001b[0;32min\u001b[0m \u001b[0mrange\u001b[0m\u001b[0;34m(\u001b[0m\u001b[0;36m24\u001b[0m\u001b[0;34m)\u001b[0m\u001b[0;34m:\u001b[0m  \u001b[0;31m# Для каждого из столбцов таблицы\u001b[0m\u001b[0;34m\u001b[0m\u001b[0;34m\u001b[0m\u001b[0m\n\u001b[1;32m      8\u001b[0m     \u001b[0;32mfor\u001b[0m \u001b[0mi\u001b[0m \u001b[0;32min\u001b[0m \u001b[0mrange\u001b[0m\u001b[0;34m(\u001b[0m\u001b[0mfixed_df\u001b[0m\u001b[0;34m.\u001b[0m\u001b[0mshape\u001b[0m\u001b[0;34m[\u001b[0m\u001b[0;36m0\u001b[0m\u001b[0;34m]\u001b[0m\u001b[0;34m)\u001b[0m\u001b[0;34m:\u001b[0m \u001b[0;31m# По всем резюме\u001b[0m\u001b[0;34m\u001b[0m\u001b[0;34m\u001b[0m\u001b[0m\n\u001b[0;32m----> 9\u001b[0;31m         \u001b[0;32mif\u001b[0m \u001b[0mtype\u001b[0m\u001b[0;34m(\u001b[0m\u001b[0mfixed_df\u001b[0m\u001b[0;34m.\u001b[0m\u001b[0mvalues\u001b[0m\u001b[0;34m[\u001b[0m\u001b[0mi\u001b[0m\u001b[0;34m]\u001b[0m\u001b[0;34m[\u001b[0m\u001b[0mj\u001b[0m\u001b[0;34m]\u001b[0m\u001b[0;34m)\u001b[0m\u001b[0;34m!=\u001b[0m\u001b[0mfloat\u001b[0m\u001b[0;34m:\u001b[0m \u001b[0;31m# если данные текстовые, то заменяем фрагменты кодировки ASCII на отсутствие символов\u001b[0m\u001b[0;34m\u001b[0m\u001b[0;34m\u001b[0m\u001b[0m\n\u001b[0m\u001b[1;32m     10\u001b[0m             \u001b[0mfixed_df\u001b[0m\u001b[0;34m.\u001b[0m\u001b[0mvalues\u001b[0m\u001b[0;34m[\u001b[0m\u001b[0mi\u001b[0m\u001b[0;34m]\u001b[0m\u001b[0;34m[\u001b[0m\u001b[0mj\u001b[0m\u001b[0;34m]\u001b[0m \u001b[0;34m=\u001b[0m \u001b[0mfixed_df\u001b[0m\u001b[0;34m.\u001b[0m\u001b[0mvalues\u001b[0m\u001b[0;34m[\u001b[0m\u001b[0mi\u001b[0m\u001b[0;34m]\u001b[0m\u001b[0;34m[\u001b[0m\u001b[0mj\u001b[0m\u001b[0;34m]\u001b[0m\u001b[0;34m.\u001b[0m\u001b[0mreplace\u001b[0m\u001b[0;34m(\u001b[0m\u001b[0;34m\"\\xa0\"\u001b[0m\u001b[0;34m,\u001b[0m\u001b[0;34m\"\"\u001b[0m\u001b[0;34m)\u001b[0m\u001b[0;34m\u001b[0m\u001b[0;34m\u001b[0m\u001b[0m\n\u001b[1;32m     11\u001b[0m             \u001b[0mfixed_df\u001b[0m\u001b[0;34m.\u001b[0m\u001b[0mvalues\u001b[0m\u001b[0;34m[\u001b[0m\u001b[0mi\u001b[0m\u001b[0;34m]\u001b[0m\u001b[0;34m[\u001b[0m\u001b[0mj\u001b[0m\u001b[0;34m]\u001b[0m \u001b[0;34m=\u001b[0m \u001b[0mfixed_df\u001b[0m\u001b[0;34m.\u001b[0m\u001b[0mvalues\u001b[0m\u001b[0;34m[\u001b[0m\u001b[0mi\u001b[0m\u001b[0;34m]\u001b[0m\u001b[0;34m[\u001b[0m\u001b[0mj\u001b[0m\u001b[0;34m]\u001b[0m\u001b[0;34m.\u001b[0m\u001b[0mreplace\u001b[0m\u001b[0;34m(\u001b[0m\u001b[0;34m\"\\n\"\u001b[0m\u001b[0;34m,\u001b[0m\u001b[0;34m\" \"\u001b[0m\u001b[0;34m)\u001b[0m\u001b[0;34m\u001b[0m\u001b[0;34m\u001b[0m\u001b[0m\n",
            "\u001b[0;32m/usr/local/lib/python3.6/dist-packages/pandas/core/generic.py\u001b[0m in \u001b[0;36mvalues\u001b[0;34m(self)\u001b[0m\n\u001b[1;32m   5343\u001b[0m         \"\"\"\n\u001b[1;32m   5344\u001b[0m         \u001b[0mself\u001b[0m\u001b[0;34m.\u001b[0m\u001b[0m_consolidate_inplace\u001b[0m\u001b[0;34m(\u001b[0m\u001b[0;34m)\u001b[0m\u001b[0;34m\u001b[0m\u001b[0;34m\u001b[0m\u001b[0m\n\u001b[0;32m-> 5345\u001b[0;31m         \u001b[0;32mreturn\u001b[0m \u001b[0mself\u001b[0m\u001b[0;34m.\u001b[0m\u001b[0m_mgr\u001b[0m\u001b[0;34m.\u001b[0m\u001b[0mas_array\u001b[0m\u001b[0;34m(\u001b[0m\u001b[0mtranspose\u001b[0m\u001b[0;34m=\u001b[0m\u001b[0mself\u001b[0m\u001b[0;34m.\u001b[0m\u001b[0m_AXIS_REVERSED\u001b[0m\u001b[0;34m)\u001b[0m\u001b[0;34m\u001b[0m\u001b[0;34m\u001b[0m\u001b[0m\n\u001b[0m\u001b[1;32m   5346\u001b[0m \u001b[0;34m\u001b[0m\u001b[0m\n\u001b[1;32m   5347\u001b[0m     \u001b[0;34m@\u001b[0m\u001b[0mproperty\u001b[0m\u001b[0;34m\u001b[0m\u001b[0;34m\u001b[0m\u001b[0m\n",
            "\u001b[0;32m/usr/local/lib/python3.6/dist-packages/pandas/core/internals/managers.py\u001b[0m in \u001b[0;36mas_array\u001b[0;34m(self, transpose, dtype, copy, na_value)\u001b[0m\n\u001b[1;32m    860\u001b[0m                     \u001b[0marr\u001b[0m \u001b[0;34m=\u001b[0m \u001b[0marr\u001b[0m\u001b[0;34m.\u001b[0m\u001b[0mastype\u001b[0m\u001b[0;34m(\u001b[0m\u001b[0mdtype\u001b[0m\u001b[0;34m,\u001b[0m \u001b[0mcopy\u001b[0m\u001b[0;34m=\u001b[0m\u001b[0;32mFalse\u001b[0m\u001b[0;34m)\u001b[0m\u001b[0;34m\u001b[0m\u001b[0;34m\u001b[0m\u001b[0m\n\u001b[1;32m    861\u001b[0m         \u001b[0;32melse\u001b[0m\u001b[0;34m:\u001b[0m\u001b[0;34m\u001b[0m\u001b[0;34m\u001b[0m\u001b[0m\n\u001b[0;32m--> 862\u001b[0;31m             \u001b[0marr\u001b[0m \u001b[0;34m=\u001b[0m \u001b[0mself\u001b[0m\u001b[0;34m.\u001b[0m\u001b[0m_interleave\u001b[0m\u001b[0;34m(\u001b[0m\u001b[0mdtype\u001b[0m\u001b[0;34m=\u001b[0m\u001b[0mdtype\u001b[0m\u001b[0;34m,\u001b[0m \u001b[0mna_value\u001b[0m\u001b[0;34m=\u001b[0m\u001b[0mna_value\u001b[0m\u001b[0;34m)\u001b[0m\u001b[0;34m\u001b[0m\u001b[0;34m\u001b[0m\u001b[0m\n\u001b[0m\u001b[1;32m    863\u001b[0m             \u001b[0;31m# The underlying data was copied within _interleave\u001b[0m\u001b[0;34m\u001b[0m\u001b[0;34m\u001b[0m\u001b[0;34m\u001b[0m\u001b[0m\n\u001b[1;32m    864\u001b[0m             \u001b[0mcopy\u001b[0m \u001b[0;34m=\u001b[0m \u001b[0;32mFalse\u001b[0m\u001b[0;34m\u001b[0m\u001b[0;34m\u001b[0m\u001b[0m\n",
            "\u001b[0;32m/usr/local/lib/python3.6/dist-packages/pandas/core/internals/managers.py\u001b[0m in \u001b[0;36m_interleave\u001b[0;34m(self, dtype, na_value)\u001b[0m\n\u001b[1;32m    900\u001b[0m             \u001b[0;32melse\u001b[0m\u001b[0;34m:\u001b[0m\u001b[0;34m\u001b[0m\u001b[0;34m\u001b[0m\u001b[0m\n\u001b[1;32m    901\u001b[0m                 \u001b[0marr\u001b[0m \u001b[0;34m=\u001b[0m \u001b[0mblk\u001b[0m\u001b[0;34m.\u001b[0m\u001b[0mget_values\u001b[0m\u001b[0;34m(\u001b[0m\u001b[0mdtype\u001b[0m\u001b[0;34m)\u001b[0m\u001b[0;34m\u001b[0m\u001b[0;34m\u001b[0m\u001b[0m\n\u001b[0;32m--> 902\u001b[0;31m             \u001b[0mresult\u001b[0m\u001b[0;34m[\u001b[0m\u001b[0mrl\u001b[0m\u001b[0;34m.\u001b[0m\u001b[0mindexer\u001b[0m\u001b[0;34m]\u001b[0m \u001b[0;34m=\u001b[0m \u001b[0marr\u001b[0m\u001b[0;34m\u001b[0m\u001b[0;34m\u001b[0m\u001b[0m\n\u001b[0m\u001b[1;32m    903\u001b[0m             \u001b[0mitemmask\u001b[0m\u001b[0;34m[\u001b[0m\u001b[0mrl\u001b[0m\u001b[0;34m.\u001b[0m\u001b[0mindexer\u001b[0m\u001b[0;34m]\u001b[0m \u001b[0;34m=\u001b[0m \u001b[0;36m1\u001b[0m\u001b[0;34m\u001b[0m\u001b[0;34m\u001b[0m\u001b[0m\n\u001b[1;32m    904\u001b[0m \u001b[0;34m\u001b[0m\u001b[0m\n",
            "\u001b[0;31mKeyboardInterrupt\u001b[0m: "
          ]
        }
      ]
    },
    {
      "cell_type": "code",
      "metadata": {
        "colab": {
          "base_uri": "https://localhost:8080/"
        },
        "id": "tdrnilmpFiC4",
        "outputId": "451ad663-ea2e-4f49-cc5b-d9611dfdf515"
      },
      "source": [
        "fixed_df = fixed_df.drop(fixed_df[fixed_df.salary<10].index, axis=0 )\r\n",
        "fixed_df.shape"
      ],
      "execution_count": 157,
      "outputs": [
        {
          "output_type": "execute_result",
          "data": {
            "text/plain": [
              "(303851, 25)"
            ]
          },
          "metadata": {
            "tags": []
          },
          "execution_count": 157
        }
      ]
    },
    {
      "cell_type": "code",
      "metadata": {
        "id": "g-nYtToClWt4"
      },
      "source": [
        "#! Boolean тип кодирования с учетом NaN\n",
        "def getParameterBool(arg):\n",
        "  out = [0,0]\n",
        "  if arg =='True':\n",
        "    out = [1,0]\n",
        "  elif arg=='False':\n",
        "    out = [0,1]\n",
        "  return out\n",
        "\n",
        "#! Данные о поле gender\n",
        "def getParameterSex(arg):\n",
        "  out = [0,0]\n",
        "  #Если М, то 1. По умолчанию 0 - Ж\n",
        "  if arg=='Мужской':\n",
        "    out = [1,0]\n",
        "  elif arg=='Женский':\n",
        "    out = [0,1]\n",
        "  return out\n",
        "\n",
        "#! Полученный возраст превращаем в класс возрастной категории\n",
        "def getParameterAgeVect(arg):\n",
        "  if arg > 14 and arg < 80:\n",
        "    arg=arg\n",
        "  else: arg = 0\n",
        "  outClass =int((arg-13)/5)\n",
        "  outClass = max(0, min(10,outClass))\n",
        "  \n",
        "  # На выходе получаем вектор с нужной категорией возраста\n",
        "  return list(utils.to_categorical(outClass, 11).astype('int'))\n",
        "\n",
        "#! Получаем параметер водительских прав\n",
        "def getParameterdriveLicence(arg):\n",
        "  out = [0, 0, 0, 0, 0, 0]\n",
        "  if arg ==arg:\n",
        "    if (\"A\" in arg):    out[0]=1\n",
        "    if (\"B\" in arg):      out[1]=1\n",
        "    if (\"C\" in arg):   out[2]=1\n",
        "    if (\"D\" in arg): out[3]=1\n",
        "    if (\"E\" in arg): out[4]=1\n",
        "    if (\"А\" in arg):    out[0]=1\n",
        "    if (\"В\" in arg):      out[1]=1\n",
        "    if (\"С\" in arg):   out[2]=1\n",
        "    if (\"Е\" in arg): out[4]=1\n",
        "  return out\n",
        "\n",
        "\n",
        "\n",
        "# Зарплата\n",
        "def getParameterSalary(arg):\n",
        "    num = arg\n",
        "    # Сначала получаем чистое число, убираем лишние знаки\n",
        "    if (type(num) == str):\n",
        "        num = re.sub(' ','',num)\n",
        "        num = re.sub('[а-яА-ЯёЁ]','',num)\n",
        "        num = re.sub('[a-zA-Z]','',num)\n",
        "        num = num.replace('.','')\n",
        "        \n",
        "        # Получаем чисто валюту, убираем цифры\n",
        "        curr = re.sub('[0-9]','',arg)\n",
        "        curr = curr.replace('.','').strip()\n",
        "        \n",
        "        # Конвертируем в рубли, если валюта\n",
        "        if curr == 'USD':\n",
        "           num = float(num)*65\n",
        "        elif curr == 'KZT':\n",
        "           num = float(num)*0.17\n",
        "        elif curr=='грн':\n",
        "           num = float(num)*2.6\n",
        "        elif curr=='белруб':\n",
        "           num = float(num)*30.5\n",
        "        elif curr=='EUR':\n",
        "           num = float(num)*70\n",
        "        elif curr=='KGS':\n",
        "           num = float(num)*0.9\n",
        "        elif curr=='сум':\n",
        "           num = float(num)*0.007\n",
        "        elif curr=='AZN':\n",
        "           num = float(num)*37.5\n",
        "             \n",
        "    salaryStr = int(num) \n",
        "\n",
        "    \n",
        "    return salaryStr\n",
        "\n",
        "\n",
        "# Данные о городе\n",
        "def getParameterCity(arg):\n",
        "  millionCities = \"Новосибирск Екатеринбург Нижний Новгород Казань Челябинск Омск Самара Ростов-на-Дону Уфа Красноярск Пермь Воронеж Волгоград\"\n",
        "  sarg=arg.split(',')\n",
        "  for item in sarg:\n",
        "    item= item.strip()\n",
        "    if item == \"Москва\":          return [1, 0, 0, 0]\n",
        "    if item == \"Санкт-Петербург\": return [0, 1, 0, 0]\n",
        "    if item in millionCities:     return [0, 0, 1, 0]\n",
        "  return [0, 0, 0, 1]\n",
        "\n",
        "#! Данные о желаемой занятости\n",
        "def getParameterEmployment(arg):\n",
        "  out= [0, 0, 0, 0, 0, 0]\n",
        "  if ('Полная занятость' in arg):           out[0]=1\n",
        "  if ('Частичная занятость' in arg):  out[1]=1\n",
        "  if ('Удаленная' in arg):     out[2]=1\n",
        "  if ('Сезонная' in arg):     out[3]=1\n",
        "  if ('Временная' in arg):     out[4]=1\n",
        "  if ('Стажировка' in arg):     out[5]=1\n",
        "  return out\n",
        "  \n",
        "\n",
        "\n",
        "\n",
        "#! Данные о желаемом графике работы\n",
        "def getParameterSchedule(arg):\n",
        "  out = [0, 0, 0, 0, 0, 0]\n",
        "  if (\"Полный рабочий день\" in arg):    out[0]=1\n",
        "  if (\"Ненормированный рабочий день\" in arg):      out[1]=1\n",
        "  if (\"Неполный рабочий день\" in arg):   out[2]=1\n",
        "  if (\"Сменный график\" in arg): out[3]=1\n",
        "  if (\"Гибкий график\" in arg): out[4]=1\n",
        "  if (\"Вахтовый метод\" in arg): out[5]=1\n",
        "  return out\n",
        "\n",
        "\n",
        "#! Данные об образовании\n",
        "def getParameterEducation(arg):\n",
        "  out = [0, 0, 0, 0] #По умолчанию не указано\n",
        "  if arg == \"Высшее\":  out[0] = 1\n",
        "  if arg == \"Незаконченное высшее\":      out[1] = 1\n",
        "  if arg == \"Среднее профессиональное\":      out[2] = 1\n",
        "  if arg == \"Среднее\":      out[3] = 1\n",
        "  return out\n",
        "\n",
        "\n",
        "List = ['Государственная служба, некоммерческие организации',\n",
        "       'Административная работа, секретариат, АХО',\n",
        "       'Здравоохранение, спорт, красота, социальное обеспечение',\n",
        "       'Образование, наука',\n",
        "       'Строительство, ремонт, стройматериалы, недвижимость',\n",
        "       'Пищевая промышленность', 'Добывающая промышленность',\n",
        "       'Производство', 'Туризм, гостиницы, рестораны',\n",
        "       'Работы, не требующие квалификации', 'Юриспруденция',\n",
        "       'Финансы, кредит, страхование, пенсионное обеспечение',\n",
        "       'Продажи, закупки, снабжение, торговля',\n",
        "       'Информационные технологии, телекоммуникации, связь',\n",
        "       'Транспорт, автобизнес, логистика, склад, ВЭД',\n",
        "       'Безопасность, службы охраны', 'ЖКХ, эксплуатация',\n",
        "       'Электроэнергетика', 'Маркетинг, реклама, PR',\n",
        "       'Рабочие специальности',\n",
        "       'Химическая, нефтехимическая, топливная промышленность',\n",
        "       'Высший менеджмент', 'Легкая промышленность',\n",
        "       'Услуги населению, сервисное обслуживание', 'Машиностроение',\n",
        "       'Сельское хозяйство, экология, ветеринария',\n",
        "       'Кадровая служба, управление персоналом',\n",
        "       'Искусство, культура и развлечения',\n",
        "       'Лесная, деревообрабатывающая, целлюлозно-бумажная промышленность',\n",
        "       'Металлургия, металлообработка', 'Домашний персонал',\n",
        "       'Консалтинг, стратегическое развитие, управление',\n",
        "       'Начал трудовую деятельность']\n",
        "\n",
        "#! Данные о индустрии\n",
        "def getParameterIndustry(arg):\n",
        "  out=[]\n",
        "  for i in range(len(List)):\n",
        "   out.append(0)\n",
        "  out[List.index(arg)] = 1\n",
        "  return out\n",
        "\n",
        "#! Данные о гражданстве\n",
        "def getParameterCitizenship(arg):\n",
        "   out=[0,0]\n",
        "   if arg =='Российская Федерация': out = [1,0]\n",
        "   else: out = [0,1]\n",
        "   return out\n",
        "\n",
        "\n",
        "List_reg = ['Алтайский край', 'Свердловская область', 'Ульяновская область',\n",
        "       'Краснодарский край', 'Московская область',\n",
        "       'Нижегородская область', 'Республика Бурятия',\n",
        "       'Калининградская область', 'Омская область', 'Ростовская область',\n",
        "       'Красноярский край', 'Ямало-Ненецкий автономный округ',\n",
        "       'Республика Татарстан', 'Пензенская область', 'Самарская область',\n",
        "       'Тульская область', 'Республика Хакасия', 'Костромская область',\n",
        "       'Тюменская область', 'г. Москва', 'Белгородская область',\n",
        "       'Пермский край', 'Новгородская область',\n",
        "       'Ханты-Мансийский автономный округ - Югра',\n",
        "       'Волгоградская область', 'Иркутская область', 'Курская область',\n",
        "       'Псковская область', 'Приморский край', 'Курганская область',\n",
        "       'Забайкальский край', 'г. Санкт-Петербург', 'Камчатский край',\n",
        "       'Новосибирская область', 'Оренбургская область',\n",
        "       'Челябинская область', 'Ярославская область', 'Томская область',\n",
        "       'Орловская область', 'Чеченская Республика', 'Республика Алтай',\n",
        "       'Республика Дагестан', 'Республика Коми',\n",
        "       'Республика Саха (Якутия)', 'Республика Крым',\n",
        "       'Республика Марий Эл', 'Рязанская область', 'Ивановская область',\n",
        "       'Калужская область', 'Республика Башкортостан',\n",
        "       'Воронежская область', 'Ставропольский край',\n",
        "       'Кемеровская область', 'Вологодская область', 'Хабаровский край',\n",
        "       'Саратовская область', 'Мурманская область',\n",
        "       'Ленинградская область', 'Астраханская область',\n",
        "       'Владимирская область', 'Амурская область', 'Тверская область',\n",
        "       'Архангельская область', 'Магаданская область',\n",
        "       'Чувашская Республика', 'Липецкая область',\n",
        "       'Республика Северная Осетия-Алания', 'Удмуртская Республика',\n",
        "       'Смоленская область', 'Брянская область', 'Республика Калмыкия',\n",
        "       'г. Севастополь', 'Республика Карачаево-Черкесия',\n",
        "       'Республика Кабардино-Балкария', 'Республика Адыгея',\n",
        "       'Республика Мордовия', 'Республика Ингушетия',\n",
        "       'Республика Карелия', 'Республика Тыва', 'Кировская область',\n",
        "       'Тамбовская область', 'Сахалинская область',\n",
        "       'Чукотский автономный округ', 'Еврейская автономная область',\n",
        "       'Ненецкий автономный округ', 'г. Байконур']\n",
        "\n",
        "#! Данные о регионе\n",
        "def getParameterRegion(arg):\n",
        "  out = [0, 0, 0, 0, 0, 0, 0, 0, 0, 0, 0, 0, 0, 0, 0, 0, 0, 0, 0, 0, 0, 0, 0, 0, 0, 0, 0, 0, 0, 0, 0, 0, 0, 0, 0, 0, 0, 0, 0, 0, 0, 0, 0, 0, 0, 0, 0, 0, 0, 0, 0, 0, 0, 0, 0, 0, 0, 0, 0, 0, 0, 0, 0, 0, 0, 0, 0, 0, 0, 0, 0, 0, 0, 0, 0, 0, 0, 0, 0, 0, 0, 0, 0, 0, 0, 0]\n",
        "  #for i in range(len(List_reg)-1):\n",
        "  # out.append(0)\n",
        "  if arg==arg:\n",
        "    out[List_reg.index(arg)] = 1\n",
        "   \n",
        "  return out     \n",
        "\n",
        "\n",
        "# Данные об опыте работы\n",
        "def getParameterExperience(arg):\n",
        "  arg = str(arg)\n",
        "  #Проверяем, если не пустая строка\n",
        "  symbols = 0\n",
        "  years = 0\n",
        "  months = 0\n",
        "  for s in arg:\n",
        "    if (s != \" \"):\n",
        "      symbols += 1\n",
        "  \n",
        "  #Находим индексы пробелов около фразы \"опыт работы\"\n",
        "  if (symbols > 10):\n",
        "      spacesIndexes = []\n",
        "      index = 0\n",
        "      while ((len(spacesIndexes) < 5) & (index < len(arg))):\n",
        "          if (arg[index] == \" \"):\n",
        "              spacesIndexes.append(index)\n",
        "          index += 1\n",
        "\n",
        "      years = 0\n",
        "      months = 0\n",
        "      if (arg[spacesIndexes[2]+1] != \"м\"):\n",
        "         if (len(spacesIndexes) >= 3):\n",
        "            yearsStr = arg[spacesIndexes[1]:spacesIndexes[2]] # Записываем в строку значение лет\n",
        "            years = int(yearsStr)\n",
        "      \n",
        "         if (len(spacesIndexes) >= 5):\n",
        "            monthsStr = arg[spacesIndexes[3]:spacesIndexes[4]] # Записываем в строку значение месяцев\n",
        "            if(arg[spacesIndexes[2]+1] == \"м\"):\n",
        "                months = int(monthsStr)\n",
        "      else:\n",
        "        if (len(spacesIndexes) >= 3):\n",
        "          monthsStr = arg[spacesIndexes[1]:spacesIndexes[2]]\n",
        "          months = int(monthsStr)\n",
        "      \n",
        "  return 12*years+months\n",
        "\n",
        "#! Категориальное представление опыта работы\n",
        "def getParameterExperienceVector(arg):\n",
        "  out = getParameterExperience(arg)*12\n",
        "  outClass = 0\n",
        "  if (out > 6): # если больше 6 месяцев\n",
        "    outClass = 1\n",
        "  if (out > 12): # если больше 12 месяцев\n",
        "    outClass = 2\n",
        "  if (out > 24): # если больше 24 месяцев\n",
        "    outClass = 3\n",
        "  if (out > 36): # если больше 36 месяцев\n",
        "    outClass = 4\n",
        "  if (out > 60): # если больше 60 месяцев\n",
        "    outClass = 5\n",
        "  if (out > 96): # если больше 96 месяцев\n",
        "    outClass = 6\n",
        "  if (out > 120): # если больше 120 месяцев\n",
        "    outClass = 7\n",
        "  if (out > 156): # если больше 156 месяцев\n",
        "    outClass = 8\n",
        "  if (out > 192): # если больше 192 месяцев\n",
        "    outClass = 9 \n",
        "  if (out > 240): # если больше 240 месяцев\n",
        "    outClass = 10\n",
        "  \n",
        "  return list(utils.to_categorical(outClass, 11).astype('int'))\n",
        "\n",
        "\n",
        "\n"
      ],
      "execution_count": 174,
      "outputs": []
    },
    {
      "cell_type": "code",
      "metadata": {
        "id": "hg7SgFJ5dSXR"
      },
      "source": [
        "def getAllParameters(val):\r\n",
        "# position = getParameterPosition(val[1])\r\n",
        "  region = getParameterRegion(val[2])\r\n",
        "  industry = getParameterIndustry(val[3])\r\n",
        "# locality_name =getParameterLocality(val[5])\r\n",
        "  education_type = getParameterEducation(val[6])\r\n",
        "  drive_licences = getParameterdriveLicence(val[7])\r\n",
        "  citizenship = getParameterCitizenship([val[8]])\r\n",
        "  schedule = getParameterSchedule(val[9])\r\n",
        "  employement_type = getParameterEmployment(val[10])\r\n",
        "  age = getParameterAgeVect(val[11])\r\n",
        "  gender = getParameterSex(val[12])\r\n",
        "  experience = getParameterExperienceVector(val[13])\r\n",
        "  relocation_ready = getParameterBool(val[15])\r\n",
        "  travel_ready = getParameterBool(val[16])\r\n",
        "  retraining_ready = getParameterBool(val[17])\r\n",
        "  is_worldskills_participant = getParameterBool(val[18])\r\n",
        "  has_qualifications = getParameterBool(val[19])\r\n",
        "  #completeness_rate\t=val[20]\r\n",
        "  \r\n",
        "  out = []\r\n",
        "# out.append(position)\r\n",
        "  out +=(region)\r\n",
        "  out += industry\r\n",
        "# out += locality_name\r\n",
        "  out +=education_type\r\n",
        "  out +=drive_licences\r\n",
        "  out +=citizenship\r\n",
        "  out +=schedule\r\n",
        "  out +=employement_type\r\n",
        "  out +=age\r\n",
        "  out +=gender\r\n",
        "  out +=experience\r\n",
        "  out +=relocation_ready\r\n",
        "  out +=travel_ready\r\n",
        "  out +=retraining_ready\r\n",
        "  out +=is_worldskills_participant\r\n",
        "  out +=has_qualifications\r\n",
        "  #out +=completeness_rate\r\n",
        "\r\n",
        "  return out\r\n",
        " "
      ],
      "execution_count": 171,
      "outputs": []
    },
    {
      "cell_type": "code",
      "metadata": {
        "id": "DTfYoLrWnYVn"
      },
      "source": [
        "# Создаем тренировочную выборку\r\n",
        "def get01Data(values):\r\n",
        "  xTrain = []\r\n",
        "  yTrain = []\r\n",
        "  \r\n",
        "  # Предсказывать будем зарплату\r\n",
        "  for val in values:\r\n",
        "    y = getParameterSalary(val[24])\r\n",
        "    \r\n",
        "    # Все, что не зарплата - обучающая выборка\r\n",
        "    if (y != -1):\r\n",
        "      x = getAllParameters(val)\r\n",
        "      xTrain.append(x)\r\n",
        "      yTrain.append(y/1000)\r\n",
        "  \r\n",
        "  xTrain = np.array(xTrain)\r\n",
        "  yTrain = np.array(yTrain)\r\n",
        "\r\n",
        "  \r\n",
        "  return (xTrain, yTrain)"
      ],
      "execution_count": 175,
      "outputs": []
    },
    {
      "cell_type": "code",
      "metadata": {
        "id": "Tifx-oybnblk"
      },
      "source": [
        "(xTrain01, yTrain) = get01Data(fixed_df.values) # Извлекаем значения загруженного набора данных"
      ],
      "execution_count": 176,
      "outputs": []
    },
    {
      "cell_type": "code",
      "metadata": {
        "id": "PijGnVvdxx1j",
        "colab": {
          "base_uri": "https://localhost:8080/"
        },
        "outputId": "f0eafc59-996c-4ce3-9c95-13ce4da08075"
      },
      "source": [
        "# Размер набора параметров и зарплат\n",
        "print(xTrain01.shape) \n",
        "print(yTrain.shape)\n",
        "# Пример обработанных данных\n",
        "n = 30000 \n",
        "print(xTrain01[n])\n",
        "print(yTrain[n])"
      ],
      "execution_count": 160,
      "outputs": [
        {
          "output_type": "stream",
          "text": [
            "(303851, 171)\n",
            "(303851,)\n",
            "[0 0 0 0 0 0 0 0 0 0 0 1 0 0 0 0 0 0 0 0 0 0 0 0 0 0 0 0 0 0 0 0 0 0 0 0 0\n",
            " 0 0 0 0 0 0 0 0 0 0 0 0 0 0 0 0 0 0 0 0 0 0 0 0 0 0 0 0 0 0 0 0 0 0 0 0 0\n",
            " 0 0 0 0 0 0 0 0 0 0 0 0 0 0 0 0 0 0 0 0 0 0 0 0 0 0 0 0 0 0 0 1 0 0 0 0 0\n",
            " 0 0 0 0 0 0 0 0 0 0 0 1 0 1 1 0 0 1 0 1 1 0 0 0 0 0 0 0 0 0 0 0 0 1 0 0 0\n",
            " 1 0 1 0 0 0 0 0 0 0 0 0 0 0 0 0 0 0 0 0 0 0 0]\n",
            "39.55\n"
          ],
          "name": "stdout"
        }
      ]
    },
    {
      "cell_type": "markdown",
      "metadata": {
        "id": "Y3hv5M9D_2rX"
      },
      "source": [
        "## Нейронка по простым данным\n",
        "\n",
        "*Разбор данного раздела:* https://youtu.be/h8cOCvlYmN8?t=964"
      ]
    },
    {
      "cell_type": "code",
      "metadata": {
        "id": "wKmHi8XjyAVA",
        "colab": {
          "base_uri": "https://localhost:8080/",
          "height": 1000
        },
        "outputId": "dcd0cc7c-a6a7-4828-a782-bc5cda232465"
      },
      "source": [
        "# Обучаем модель полученными данными\n",
        "model = Sequential()\n",
        "model.add(BatchNormalization(input_shape=(xTrain01.shape[1],)))\n",
        "model.add(Dense(128, activation='relu'))\n",
        "model.add(Dense(1000, activation='tanh'))\n",
        "model.add(Dense(100, activation='relu'))\n",
        "model.add(Dense(1, activation='linear'))\n",
        "\n",
        "model.compile(optimizer=Adam(lr=1e-5), loss='mse', metrics=['mae'])\n",
        "\n",
        "history = model.fit(xTrain01, \n",
        "                    yTrain, \n",
        "                    epochs=50, \n",
        "                    batch_size=500,\n",
        "                    validation_split=0.15, \n",
        "                    verbose=2)\n",
        "\n",
        "plt.plot(history.history['mae'], \n",
        "         label='Средняя абсолютная ошибка на обучающем наборе')\n",
        "plt.plot(history.history['val_mae'], \n",
        "         label='Средняя абсолютная ошибка на проверочном наборе')\n",
        "plt.xlabel('Эпоха обучения')\n",
        "plt.ylabel('Средняя абсолютная ошибка')\n",
        "plt.legend()\n",
        "plt.show()"
      ],
      "execution_count": 177,
      "outputs": [
        {
          "output_type": "stream",
          "text": [
            "Epoch 1/50\n",
            "517/517 - 2s - loss: 2323.1167 - mae: 32.8720 - val_loss: 1776.6302 - val_mae: 23.9823\n",
            "Epoch 2/50\n",
            "517/517 - 1s - loss: 1295.6831 - mae: 19.9870 - val_loss: 1202.1534 - val_mae: 20.1455\n",
            "Epoch 3/50\n",
            "517/517 - 1s - loss: 1111.3123 - mae: 19.8383 - val_loss: 1143.0369 - val_mae: 19.9228\n",
            "Epoch 4/50\n",
            "517/517 - 1s - loss: 1062.3635 - mae: 19.3307 - val_loss: 1099.6061 - val_mae: 19.3521\n",
            "Epoch 5/50\n",
            "517/517 - 2s - loss: 1022.3926 - mae: 18.7970 - val_loss: 1063.9634 - val_mae: 18.8527\n",
            "Epoch 6/50\n",
            "517/517 - 2s - loss: 992.2172 - mae: 18.3503 - val_loss: 1036.1083 - val_mae: 18.4463\n",
            "Epoch 7/50\n",
            "517/517 - 1s - loss: 970.1899 - mae: 18.0503 - val_loss: 1017.0327 - val_mae: 18.1904\n",
            "Epoch 8/50\n",
            "517/517 - 1s - loss: 955.3902 - mae: 17.8439 - val_loss: 1004.3529 - val_mae: 17.8832\n",
            "Epoch 9/50\n",
            "517/517 - 1s - loss: 946.4824 - mae: 17.6923 - val_loss: 997.2122 - val_mae: 17.8630\n",
            "Epoch 10/50\n",
            "517/517 - 1s - loss: 940.5115 - mae: 17.5935 - val_loss: 991.5667 - val_mae: 17.6281\n",
            "Epoch 11/50\n",
            "517/517 - 1s - loss: 935.3403 - mae: 17.4873 - val_loss: 989.0506 - val_mae: 17.7652\n",
            "Epoch 12/50\n",
            "517/517 - 2s - loss: 933.1360 - mae: 17.4583 - val_loss: 985.6304 - val_mae: 17.5169\n",
            "Epoch 13/50\n",
            "517/517 - 2s - loss: 931.3073 - mae: 17.3916 - val_loss: 983.8304 - val_mae: 17.5051\n",
            "Epoch 14/50\n",
            "517/517 - 1s - loss: 929.4330 - mae: 17.3548 - val_loss: 982.7371 - val_mae: 17.5865\n",
            "Epoch 15/50\n",
            "517/517 - 1s - loss: 928.2902 - mae: 17.3268 - val_loss: 980.8273 - val_mae: 17.4844\n",
            "Epoch 16/50\n",
            "517/517 - 1s - loss: 926.0187 - mae: 17.2903 - val_loss: 979.9551 - val_mae: 17.5184\n",
            "Epoch 17/50\n",
            "517/517 - 2s - loss: 925.7658 - mae: 17.2878 - val_loss: 978.6364 - val_mae: 17.3694\n",
            "Epoch 18/50\n",
            "517/517 - 2s - loss: 923.7694 - mae: 17.2482 - val_loss: 977.5332 - val_mae: 17.3765\n",
            "Epoch 19/50\n",
            "517/517 - 2s - loss: 923.4144 - mae: 17.2321 - val_loss: 976.8395 - val_mae: 17.4156\n",
            "Epoch 20/50\n",
            "517/517 - 1s - loss: 921.5912 - mae: 17.2050 - val_loss: 976.2732 - val_mae: 17.4705\n",
            "Epoch 21/50\n",
            "517/517 - 1s - loss: 920.2750 - mae: 17.1874 - val_loss: 975.0394 - val_mae: 17.3574\n",
            "Epoch 22/50\n",
            "517/517 - 2s - loss: 918.9250 - mae: 17.1600 - val_loss: 974.7090 - val_mae: 17.4476\n",
            "Epoch 23/50\n",
            "517/517 - 2s - loss: 918.1369 - mae: 17.1589 - val_loss: 973.4082 - val_mae: 17.2598\n",
            "Epoch 24/50\n",
            "517/517 - 1s - loss: 917.5104 - mae: 17.1328 - val_loss: 972.6497 - val_mae: 17.2511\n",
            "Epoch 25/50\n",
            "517/517 - 1s - loss: 917.3229 - mae: 17.1221 - val_loss: 972.3785 - val_mae: 17.3730\n",
            "Epoch 26/50\n",
            "517/517 - 1s - loss: 915.9540 - mae: 17.1045 - val_loss: 971.6886 - val_mae: 17.3808\n",
            "Epoch 27/50\n",
            "517/517 - 1s - loss: 915.2126 - mae: 17.0920 - val_loss: 970.7656 - val_mae: 17.2546\n",
            "Epoch 28/50\n",
            "517/517 - 2s - loss: 914.2150 - mae: 17.0744 - val_loss: 970.0585 - val_mae: 17.1698\n",
            "Epoch 29/50\n",
            "517/517 - 1s - loss: 913.2341 - mae: 17.0645 - val_loss: 969.5233 - val_mae: 17.2050\n",
            "Epoch 30/50\n",
            "517/517 - 1s - loss: 912.0494 - mae: 17.0349 - val_loss: 969.1145 - val_mae: 17.2835\n",
            "Epoch 31/50\n",
            "517/517 - 1s - loss: 912.0463 - mae: 17.0357 - val_loss: 968.4211 - val_mae: 17.2426\n",
            "Epoch 32/50\n",
            "517/517 - 1s - loss: 911.3328 - mae: 17.0309 - val_loss: 967.7960 - val_mae: 17.1944\n",
            "Epoch 33/50\n",
            "517/517 - 1s - loss: 910.6899 - mae: 17.0211 - val_loss: 967.3600 - val_mae: 17.2378\n",
            "Epoch 34/50\n",
            "517/517 - 1s - loss: 909.6517 - mae: 17.0070 - val_loss: 966.7201 - val_mae: 17.1378\n",
            "Epoch 35/50\n",
            "517/517 - 1s - loss: 908.7650 - mae: 16.9841 - val_loss: 966.3086 - val_mae: 17.2039\n",
            "Epoch 36/50\n",
            "517/517 - 1s - loss: 907.8603 - mae: 16.9751 - val_loss: 966.4739 - val_mae: 17.3426\n",
            "Epoch 37/50\n",
            "517/517 - 1s - loss: 907.3735 - mae: 16.9730 - val_loss: 965.4761 - val_mae: 17.2253\n",
            "Epoch 38/50\n",
            "517/517 - 1s - loss: 906.5457 - mae: 16.9636 - val_loss: 964.8021 - val_mae: 17.1394\n",
            "Epoch 39/50\n",
            "517/517 - 1s - loss: 906.3782 - mae: 16.9586 - val_loss: 964.3467 - val_mae: 17.0331\n",
            "Epoch 40/50\n",
            "517/517 - 1s - loss: 905.3378 - mae: 16.9358 - val_loss: 963.9072 - val_mae: 17.1654\n",
            "Epoch 41/50\n",
            "517/517 - 1s - loss: 905.4307 - mae: 16.9387 - val_loss: 963.5098 - val_mae: 17.0707\n",
            "Epoch 42/50\n",
            "517/517 - 1s - loss: 904.6736 - mae: 16.9239 - val_loss: 963.1338 - val_mae: 17.1055\n",
            "Epoch 43/50\n",
            "517/517 - 1s - loss: 904.4000 - mae: 16.9265 - val_loss: 962.6487 - val_mae: 16.9903\n",
            "Epoch 44/50\n",
            "517/517 - 1s - loss: 903.6476 - mae: 16.9071 - val_loss: 962.3439 - val_mae: 17.0527\n",
            "Epoch 45/50\n",
            "517/517 - 1s - loss: 902.7300 - mae: 16.9122 - val_loss: 961.9968 - val_mae: 16.9926\n",
            "Epoch 46/50\n",
            "517/517 - 1s - loss: 902.3289 - mae: 16.8891 - val_loss: 961.5596 - val_mae: 16.9693\n",
            "Epoch 47/50\n",
            "517/517 - 1s - loss: 901.5150 - mae: 16.8713 - val_loss: 961.2411 - val_mae: 17.0966\n",
            "Epoch 48/50\n",
            "517/517 - 2s - loss: 901.1071 - mae: 16.8895 - val_loss: 960.7771 - val_mae: 17.0541\n",
            "Epoch 49/50\n",
            "517/517 - 1s - loss: 900.7821 - mae: 16.8663 - val_loss: 960.6227 - val_mae: 17.0721\n",
            "Epoch 50/50\n",
            "517/517 - 1s - loss: 900.0770 - mae: 16.8752 - val_loss: 960.3099 - val_mae: 16.9820\n"
          ],
          "name": "stdout"
        },
        {
          "output_type": "display_data",
          "data": {
            "image/png": "[encoded data removed]",
            "text/plain": [
              "<Figure size 432x288 with 1 Axes>"
            ]
          },
          "metadata": {
            "tags": [],
            "needs_background": "light"
          }
        }
      ]
    },
    {
      "cell_type": "code",
      "metadata": {
        "id": "LVvS-1r-3WaY",
        "colab": {
          "base_uri": "https://localhost:8080/"
        },
        "outputId": "f262de8b-b998-4174-d981-8226decddc87"
      },
      "source": [
        "# Делаем предсказание и приводим его к начальному виду\n",
        "pred = model.predict(xTrain01)\n",
        "pred = pred.flatten()\n",
        "# Среднее значение ошибки \n",
        "delta = pred - yTrain\n",
        "absDelta = abs(delta)\n",
        "print(sum(absDelta) / len(absDelta))"
      ],
      "execution_count": 162,
      "outputs": [
        {
          "output_type": "stream",
          "text": [
            "16.931615848991438\n"
          ],
          "name": "stdout"
        }
      ]
    },
    {
      "cell_type": "code",
      "metadata": {
        "id": "QTozmRhkyf5-",
        "colab": {
          "base_uri": "https://localhost:8080/"
        },
        "outputId": "b8b144ad-6c90-492d-85f0-22b574e02db7"
      },
      "source": [
        "# В качестве нормализации данных используем готовую библиотеку \n",
        "yScaler = StandardScaler()\n",
        "\n",
        "# Скармливаем объекту двумерный вектор\n",
        "yScaler.fit(yTrain.reshape(-1, 1))\n",
        "\n",
        "# Нормализуем по нормальному распределению\n",
        "yTrainScaled = yScaler.transform(yTrain.reshape(-1, 1))\n",
        "\n",
        "print(yTrainScaled.shape)\n",
        "print(yTrain[1])\n",
        "print(yTrainScaled[1])"
      ],
      "execution_count": 179,
      "outputs": [
        {
          "output_type": "stream",
          "text": [
            "(303851, 1)\n",
            "14.0\n",
            "[-0.77223925]\n"
          ],
          "name": "stdout"
        }
      ]
    },
    {
      "cell_type": "code",
      "metadata": {
        "id": "YGFRAg1kRXb7",
        "colab": {
          "base_uri": "https://localhost:8080/"
        },
        "outputId": "de53cf62-e36b-4e9a-e7a2-e188cbdff955"
      },
      "source": [
        "print(min(yTrain), max(yTrain))\n",
        "print(min(yTrainScaled), max(yTrainScaled))"
      ],
      "execution_count": 164,
      "outputs": [
        {
          "output_type": "stream",
          "text": [
            "0.026 2283.641\n",
            "[-1.16799849] [63.50652087]\n"
          ],
          "name": "stdout"
        }
      ]
    },
    {
      "cell_type": "code",
      "metadata": {
        "id": "BzyVBg4SyqEH",
        "colab": {
          "base_uri": "https://localhost:8080/",
          "height": 1000
        },
        "outputId": "4b9d072a-90a1-42cf-a919-20be7c893451"
      },
      "source": [
        "# Обучаем модель стандартизированными данными\n",
        "modelS = Sequential()\n",
        "modelS.add(BatchNormalization(input_shape=(xTrain01.shape[1],)))\n",
        "modelS.add(Dense(128, activation='relu'))\n",
        "modelS.add(Dense(1000, activation='tanh'))\n",
        "modelS.add(Dense(100, activation='relu'))\n",
        "modelS.add(Dense(1, activation='linear'))\n",
        "\n",
        "modelS.compile(optimizer=Adam(lr=1e-5), loss='mse', metrics=['mae'])\n",
        "\n",
        "history = modelS.fit(xTrain01, \n",
        "                    yTrainScaled, \n",
        "                    epochs=50, \n",
        "                    batch_size=1500,\n",
        "                    validation_split=0.15, \n",
        "                    verbose=2)\n",
        "\n",
        "plt.plot(history.history['mae'], \n",
        "         label='Средняя абсолютная ошибка на обучающем наборе')\n",
        "plt.plot(history.history['val_mae'], \n",
        "         label='Средняя абсолютная ошибка на проверочном наборе')\n",
        "plt.xlabel('Эпоха обучения')\n",
        "plt.ylabel('Средняя абсолютная ошибка')\n",
        "plt.legend()\n",
        "plt.show()"
      ],
      "execution_count": 178,
      "outputs": [
        {
          "output_type": "stream",
          "text": [
            "Epoch 1/50\n",
            "173/173 - 1s - loss: 0.9858 - mae: 0.6296 - val_loss: 0.9481 - val_mae: 0.5627\n",
            "Epoch 2/50\n",
            "173/173 - 1s - loss: 0.8451 - mae: 0.5453 - val_loss: 0.8699 - val_mae: 0.5305\n",
            "Epoch 3/50\n",
            "173/173 - 1s - loss: 0.8016 - mae: 0.5240 - val_loss: 0.8343 - val_mae: 0.5131\n",
            "Epoch 4/50\n",
            "173/173 - 1s - loss: 0.7806 - mae: 0.5129 - val_loss: 0.8185 - val_mae: 0.5109\n",
            "Epoch 5/50\n",
            "173/173 - 1s - loss: 0.7679 - mae: 0.5059 - val_loss: 0.8090 - val_mae: 0.5062\n",
            "Epoch 6/50\n",
            "173/173 - 1s - loss: 0.7597 - mae: 0.5013 - val_loss: 0.8023 - val_mae: 0.5027\n",
            "Epoch 7/50\n",
            "173/173 - 1s - loss: 0.7536 - mae: 0.4977 - val_loss: 0.7973 - val_mae: 0.4972\n",
            "Epoch 8/50\n",
            "173/173 - 1s - loss: 0.7488 - mae: 0.4951 - val_loss: 0.7936 - val_mae: 0.4944\n",
            "Epoch 9/50\n",
            "173/173 - 1s - loss: 0.7450 - mae: 0.4930 - val_loss: 0.7908 - val_mae: 0.4893\n",
            "Epoch 10/50\n",
            "173/173 - 1s - loss: 0.7414 - mae: 0.4904 - val_loss: 0.7877 - val_mae: 0.4948\n",
            "Epoch 11/50\n",
            "173/173 - 1s - loss: 0.7385 - mae: 0.4890 - val_loss: 0.7853 - val_mae: 0.4911\n",
            "Epoch 12/50\n",
            "173/173 - 1s - loss: 0.7362 - mae: 0.4873 - val_loss: 0.7837 - val_mae: 0.4890\n",
            "Epoch 13/50\n",
            "173/173 - 1s - loss: 0.7338 - mae: 0.4864 - val_loss: 0.7826 - val_mae: 0.4843\n",
            "Epoch 14/50\n",
            "173/173 - 1s - loss: 0.7314 - mae: 0.4851 - val_loss: 0.7821 - val_mae: 0.4811\n",
            "Epoch 15/50\n",
            "173/173 - 1s - loss: 0.7298 - mae: 0.4836 - val_loss: 0.7800 - val_mae: 0.4936\n",
            "Epoch 16/50\n",
            "173/173 - 1s - loss: 0.7282 - mae: 0.4833 - val_loss: 0.7785 - val_mae: 0.4871\n",
            "Epoch 17/50\n",
            "173/173 - 1s - loss: 0.7271 - mae: 0.4821 - val_loss: 0.7782 - val_mae: 0.4937\n",
            "Epoch 18/50\n",
            "173/173 - 1s - loss: 0.7256 - mae: 0.4821 - val_loss: 0.7765 - val_mae: 0.4853\n",
            "Epoch 19/50\n",
            "173/173 - 1s - loss: 0.7245 - mae: 0.4809 - val_loss: 0.7763 - val_mae: 0.4804\n",
            "Epoch 20/50\n",
            "173/173 - 1s - loss: 0.7228 - mae: 0.4801 - val_loss: 0.7753 - val_mae: 0.4839\n",
            "Epoch 21/50\n",
            "173/173 - 1s - loss: 0.7219 - mae: 0.4798 - val_loss: 0.7744 - val_mae: 0.4847\n",
            "Epoch 22/50\n",
            "173/173 - 1s - loss: 0.7208 - mae: 0.4791 - val_loss: 0.7739 - val_mae: 0.4834\n",
            "Epoch 23/50\n",
            "173/173 - 1s - loss: 0.7198 - mae: 0.4784 - val_loss: 0.7735 - val_mae: 0.4840\n",
            "Epoch 24/50\n",
            "173/173 - 1s - loss: 0.7189 - mae: 0.4784 - val_loss: 0.7729 - val_mae: 0.4796\n",
            "Epoch 25/50\n",
            "173/173 - 1s - loss: 0.7180 - mae: 0.4775 - val_loss: 0.7724 - val_mae: 0.4851\n",
            "Epoch 26/50\n",
            "173/173 - 1s - loss: 0.7171 - mae: 0.4776 - val_loss: 0.7720 - val_mae: 0.4805\n",
            "Epoch 27/50\n",
            "173/173 - 1s - loss: 0.7160 - mae: 0.4770 - val_loss: 0.7717 - val_mae: 0.4798\n",
            "Epoch 28/50\n",
            "173/173 - 1s - loss: 0.7155 - mae: 0.4769 - val_loss: 0.7713 - val_mae: 0.4790\n",
            "Epoch 29/50\n",
            "173/173 - 1s - loss: 0.7145 - mae: 0.4761 - val_loss: 0.7711 - val_mae: 0.4775\n",
            "Epoch 30/50\n",
            "173/173 - 1s - loss: 0.7139 - mae: 0.4760 - val_loss: 0.7704 - val_mae: 0.4800\n",
            "Epoch 31/50\n",
            "173/173 - 1s - loss: 0.7134 - mae: 0.4755 - val_loss: 0.7700 - val_mae: 0.4783\n",
            "Epoch 32/50\n",
            "173/173 - 1s - loss: 0.7127 - mae: 0.4756 - val_loss: 0.7702 - val_mae: 0.4761\n",
            "Epoch 33/50\n",
            "173/173 - 1s - loss: 0.7118 - mae: 0.4750 - val_loss: 0.7692 - val_mae: 0.4799\n",
            "Epoch 34/50\n",
            "173/173 - 1s - loss: 0.7113 - mae: 0.4746 - val_loss: 0.7694 - val_mae: 0.4770\n",
            "Epoch 35/50\n",
            "173/173 - 1s - loss: 0.7107 - mae: 0.4746 - val_loss: 0.7688 - val_mae: 0.4821\n",
            "Epoch 36/50\n",
            "173/173 - 1s - loss: 0.7103 - mae: 0.4743 - val_loss: 0.7692 - val_mae: 0.4762\n",
            "Epoch 37/50\n",
            "173/173 - 1s - loss: 0.7097 - mae: 0.4741 - val_loss: 0.7687 - val_mae: 0.4784\n",
            "Epoch 38/50\n",
            "173/173 - 1s - loss: 0.7088 - mae: 0.4736 - val_loss: 0.7682 - val_mae: 0.4798\n",
            "Epoch 39/50\n",
            "173/173 - 1s - loss: 0.7084 - mae: 0.4735 - val_loss: 0.7679 - val_mae: 0.4766\n",
            "Epoch 40/50\n",
            "173/173 - 1s - loss: 0.7082 - mae: 0.4732 - val_loss: 0.7675 - val_mae: 0.4812\n",
            "Epoch 41/50\n",
            "173/173 - 1s - loss: 0.7074 - mae: 0.4732 - val_loss: 0.7674 - val_mae: 0.4807\n",
            "Epoch 42/50\n",
            "173/173 - 1s - loss: 0.7068 - mae: 0.4727 - val_loss: 0.7675 - val_mae: 0.4769\n",
            "Epoch 43/50\n",
            "173/173 - 1s - loss: 0.7063 - mae: 0.4726 - val_loss: 0.7676 - val_mae: 0.4745\n",
            "Epoch 44/50\n",
            "173/173 - 1s - loss: 0.7058 - mae: 0.4724 - val_loss: 0.7670 - val_mae: 0.4803\n",
            "Epoch 45/50\n",
            "173/173 - 1s - loss: 0.7054 - mae: 0.4722 - val_loss: 0.7672 - val_mae: 0.4850\n",
            "Epoch 46/50\n",
            "173/173 - 1s - loss: 0.7050 - mae: 0.4724 - val_loss: 0.7665 - val_mae: 0.4776\n",
            "Epoch 47/50\n",
            "173/173 - 1s - loss: 0.7044 - mae: 0.4716 - val_loss: 0.7669 - val_mae: 0.4843\n",
            "Epoch 48/50\n",
            "173/173 - 1s - loss: 0.7043 - mae: 0.4720 - val_loss: 0.7664 - val_mae: 0.4770\n",
            "Epoch 49/50\n",
            "173/173 - 1s - loss: 0.7035 - mae: 0.4716 - val_loss: 0.7664 - val_mae: 0.4781\n",
            "Epoch 50/50\n",
            "173/173 - 1s - loss: 0.7031 - mae: 0.4713 - val_loss: 0.7664 - val_mae: 0.4768\n"
          ],
          "name": "stdout"
        },
        {
          "output_type": "display_data",
          "data": {
            "image/png": "[encoded data removed]",
            "text/plain": [
              "<Figure size 432x288 with 1 Axes>"
            ]
          },
          "metadata": {
            "tags": [],
            "needs_background": "light"
          }
        }
      ]
    },
    {
      "cell_type": "code",
      "metadata": {
        "id": "nBDWXDOg0lLf",
        "colab": {
          "base_uri": "https://localhost:8080/"
        },
        "outputId": "977aaf19-e7e6-4cff-aaa8-8c7f2dbaf8be"
      },
      "source": [
        "# Делаем предсказание и приводим его к начальному виду\n",
        "pred = modelS.predict(xTrain01)\n",
        "predUnscaled = yScaler.inverse_transform(pred).flatten()\n",
        "\n",
        "# Среднее значение ошибки \n",
        "delta = predUnscaled - yTrain\n",
        "absDelta = abs(delta)\n",
        "print(sum(absDelta) / len(absDelta))"
      ],
      "execution_count": 180,
      "outputs": [
        {
          "output_type": "stream",
          "text": [
            "16.618643034961945\n"
          ],
          "name": "stdout"
        }
      ]
    },
    {
      "cell_type": "markdown",
      "metadata": {
        "id": "xVlFRTyEAWHq"
      },
      "source": [
        "## Оценка результатов\n",
        "\n",
        "*Разбор данного раздела:* https://youtu.be/h8cOCvlYmN8?t=1314\n",
        "\n"
      ]
    },
    {
      "cell_type": "code",
      "metadata": {
        "id": "xaYqwbsVAb4k"
      },
      "source": [
        "yy = model.predict(xTrain01) # Результат для всего тренировочного набора"
      ],
      "execution_count": 181,
      "outputs": []
    },
    {
      "cell_type": "code",
      "metadata": {
        "id": "dasuOh89Af3u",
        "colab": {
          "base_uri": "https://localhost:8080/"
        },
        "outputId": "806f3234-bf97-4502-d955-fbe057a12c0e"
      },
      "source": [
        "n = 10\n",
        "for i in range(n):\n",
        "  print('Реальное значение - ',yTrain[i], \" Предсказанное значение - \", yy[i][0], \" Разница - \", abs(yTrain[i]-yy[i][0]))"
      ],
      "execution_count": 182,
      "outputs": [
        {
          "output_type": "stream",
          "text": [
            "Реальное значение -  37.5  Предсказанное значение -  39.3924  Разница -  1.8923988342285156\n",
            "Реальное значение -  14.0  Предсказанное значение -  33.939663  Разница -  19.93966293334961\n",
            "Реальное значение -  24.6  Предсказанное значение -  30.290564  Разница -  5.690563583374022\n",
            "Реальное значение -  16.075  Предсказанное значение -  35.841686  Разница -  19.766686248779298\n",
            "Реальное значение -  22.08  Предсказанное значение -  45.813236  Разница -  23.733236236572267\n",
            "Реальное значение -  31.14  Предсказанное значение -  30.56076  Разница -  0.5792395019531256\n",
            "Реальное значение -  27.6  Предсказанное значение -  37.081024  Разница -  9.481024169921874\n",
            "Реальное значение -  33.12  Предсказанное значение -  62.625874  Разница -  29.50587356567383\n",
            "Реальное значение -  22.5  Предсказанное значение -  38.527752  Разница -  16.027751922607422\n",
            "Реальное значение -  139.104  Предсказанное значение -  84.289894  Разница -  54.81410589599611\n"
          ],
          "name": "stdout"
        }
      ]
    },
    {
      "cell_type": "markdown",
      "metadata": {
        "id": "3paVWC1-BDpX"
      },
      "source": [
        "##Используем простые текстовые данные\n",
        "\n",
        "*Разбор данного раздела:* https://youtu.be/h8cOCvlYmN8?t=1361"
      ]
    },
    {
      "cell_type": "code",
      "metadata": {
        "id": "vBCbgQ0lBF5z"
      },
      "source": [
        "# Выкачиваем данные по профессиям\n",
        "def getXTrainTProf(values):\n",
        "  xTrainTProf = []\n",
        "  \n",
        "  for val in values:\n",
        "    currText = \"\"\n",
        "    if (type(val[2]) != float):\n",
        "      currText += val[2]\n",
        "    if (type(val[7]) != float):\n",
        "      currText += \" \" + val[7]\n",
        "    \n",
        "    if (getParameterSalary(val[1]) != -1): # Проверяем, если есть данные о зарплате\n",
        "      xTrainTProf.append(currText)\n",
        "  \n",
        "  xTrainTProf = np.array(xTrainTProf)\n",
        "  \n",
        "  return xTrainTProf"
      ],
      "execution_count": null,
      "outputs": []
    },
    {
      "cell_type": "code",
      "metadata": {
        "id": "N03XjgjaBR0r",
        "colab": {
          "base_uri": "https://localhost:8080/",
          "height": 34
        },
        "outputId": "1bc332e9-1cbe-436d-c439-596172f12489"
      },
      "source": [
        "# Вытаскиваем професии для выборки\n",
        "xTrainTProf = getXTrainTProf(fixed_df.values) \n",
        "print(xTrainTProf[123]) # пример профессии 11го резюме"
      ],
      "execution_count": null,
      "outputs": [
        {
          "output_type": "stream",
          "text": [
            "Аналитик Комсомольская правда, ИД\n"
          ],
          "name": "stdout"
        }
      ]
    },
    {
      "cell_type": "code",
      "metadata": {
        "id": "ivYtke6XBaCN"
      },
      "source": [
        "#################\n",
        "#Преобразовываем текстовые данные в числовые/векторные для обучения нейросетью\n",
        "#################\n",
        "\n",
        "maxWordsCount = 10000 #определяем макс.кол-во слов/индексов, учитываемое при обучении текстов\n",
        "\n",
        "#для этого воспользуемся встроенной в Keras функцией Tokenizer для разбиения текста и превращения в матрицу числовых значений\n",
        "tokenizer = Tokenizer(num_words=maxWordsCount, filters='!\"#$%&()*+,-–—./:;<=>?@[\\\\]^_`{|}~\\t\\n\\xa0', lower=True, split=' ', oov_token='unknown', char_level=False)\n",
        "#выше задаем параметры:\n",
        "#(num_words=maxWordsCount) - определяем макс.кол-во слов/индексов, учитываемое при обучении текстов\n",
        "#(filters='!\"#$%&()*+,-./:;<=>?@[\\\\]^_`{|}~\\t\\n') - избавляемся от ненужных символов\n",
        "#(lower=True) - приводим слова к нижнему регистру\n",
        "#(split=' ') - разделяем слова по пробелу\n",
        "#(char_level=False) - просим токенайзер не удалять однобуквенные слова\n",
        "\n",
        "tokenizer.fit_on_texts(xTrainTProf) # \"скармливаем\" наши тексты, т.е даём в обработку методу, который соберет словарь частотности\n",
        "items = list(tokenizer.word_index.items())  #Вытаскиваем индексы слов для просмотра"
      ],
      "execution_count": null,
      "outputs": []
    },
    {
      "cell_type": "code",
      "metadata": {
        "id": "JXVN-Qg9Bc-f"
      },
      "source": [
        "#преобразовываем текст в последовательность индексов согласно частотному словарю\n",
        "xTrainProfIndexes = tokenizer.texts_to_sequences(xTrainTProf) #обучающие тесты в индексы"
      ],
      "execution_count": null,
      "outputs": []
    },
    {
      "cell_type": "markdown",
      "metadata": {
        "id": "Z6ddE2d_BhE7"
      },
      "source": [
        "## Создание обучающей и проверочной выборки\n",
        "\n",
        "*Разбор данного раздела:* https://youtu.be/h8cOCvlYmN8?t=1451\n"
      ]
    },
    {
      "cell_type": "code",
      "metadata": {
        "id": "cEpXXnnKCFQS",
        "colab": {
          "base_uri": "https://localhost:8080/",
          "height": 119
        },
        "outputId": "0501a93b-0528-4535-d306-e9e659de5053"
      },
      "source": [
        "# Преобразовываем полученные выборки из последовательности индексов в матрицы нулей и единиц по принципу Bag of Words\n",
        "xTrainProf01 = tokenizer.sequences_to_matrix(xTrainProfIndexes) # Подаем xTrain в виде списка чтобы метод успешно сработал\n",
        "print(xTrainProf01.shape)                                       # Размер обучающей выборки, сформированной по Bag of Words\n",
        "print(xTrainProf01[0][0:100])        "
      ],
      "execution_count": null,
      "outputs": [
        {
          "output_type": "stream",
          "text": [
            "(62967, 10000)\n",
            "[0. 0. 1. 0. 1. 1. 0. 0. 0. 0. 0. 0. 0. 0. 0. 0. 0. 0. 0. 0. 0. 0. 0. 0.\n",
            " 0. 0. 0. 0. 0. 0. 0. 0. 0. 0. 0. 0. 0. 0. 0. 0. 0. 0. 0. 0. 0. 0. 0. 0.\n",
            " 0. 0. 0. 0. 0. 0. 0. 0. 0. 0. 0. 0. 0. 0. 0. 0. 0. 0. 0. 0. 0. 0. 0. 0.\n",
            " 0. 0. 0. 0. 0. 0. 0. 0. 0. 0. 0. 0. 0. 0. 0. 0. 0. 0. 0. 0. 0. 0. 0. 0.\n",
            " 0. 0. 0. 0.]\n"
          ],
          "name": "stdout"
        }
      ]
    },
    {
      "cell_type": "code",
      "metadata": {
        "id": "aHF_eFDDCU98",
        "colab": {
          "base_uri": "https://localhost:8080/",
          "height": 51
        },
        "outputId": "25be3249-26b3-485e-c379-9ba846e9639f"
      },
      "source": [
        "n = 0\n",
        "print(xTrainTProf[n])       # Профессия\n",
        "print(xTrainProfIndexes[n]) # Профессия через индексы"
      ],
      "execution_count": null,
      "outputs": [
        {
          "output_type": "stream",
          "text": [
            "Специалист по поддержке чата(support team) домашний агент ООО \"Гольфстрим\"\n",
            "[4, 5, 219, 2300, 402, 139, 2976, 2006, 2, 1613]\n"
          ],
          "name": "stdout"
        }
      ]
    },
    {
      "cell_type": "code",
      "metadata": {
        "id": "L7rEBTXvDmtW",
        "colab": {
          "base_uri": "https://localhost:8080/",
          "height": 34
        },
        "outputId": "4b046ece-56c8-443e-dbc2-54c598adfa04"
      },
      "source": [
        "xTrainProf01.shape"
      ],
      "execution_count": null,
      "outputs": [
        {
          "output_type": "execute_result",
          "data": {
            "text/plain": [
              "(62967, 10000)"
            ]
          },
          "metadata": {
            "tags": []
          },
          "execution_count": 25
        }
      ]
    },
    {
      "cell_type": "markdown",
      "metadata": {
        "id": "lpQth80gCavm"
      },
      "source": [
        "##Обучаем нейронку на простых текстовых данных\n",
        "\n",
        "*Разбор данного раздела:* https://youtu.be/h8cOCvlYmN8?t=1518"
      ]
    },
    {
      "cell_type": "code",
      "metadata": {
        "id": "d57U78eTCfKW",
        "colab": {
          "base_uri": "https://localhost:8080/",
          "height": 1000
        },
        "outputId": "c935fe03-9fa9-4ba9-db77-67c6818b885f"
      },
      "source": [
        "# Предсказываем по предыдущей работе и желаемой\n",
        "modelTProf = Sequential()\n",
        "modelTProf.add(Dense(20, activation='relu', input_dim=(xTrainProf01.shape[1]) ) )\n",
        "modelTProf.add(Dense(500, activation='relu'))\n",
        "modelTProf.add(Dense(1, activation='linear'))\n",
        "\n",
        "modelTProf.compile(optimizer=Adagrad(lr=1e-3), loss='mse', metrics=['mae'])\n",
        "\n",
        "history = modelTProf.fit(xTrainProf01[:50000], \n",
        "                    yTrain[:50000], \n",
        "                    batch_size=20,\n",
        "                    epochs=50, \n",
        "                    #validation_split=0.1, \n",
        "                    validation_data=(xTrainProf01[50000:], yTrain[50000:]),\n",
        "                    verbose=1, shuffle=True)\n",
        "\n",
        "plt.plot(history.history['mae'], \n",
        "         label='Средняя абсолютная ошибка на обучающем наборе')\n",
        "plt.plot(history.history['val_mae'], \n",
        "         label='Средняя абсолютная ошибка на проверочном наборе')\n",
        "plt.xlabel('Эпоха обучения')\n",
        "plt.ylabel('Средняя абсолютная ошибка')\n",
        "plt.legend()\n",
        "plt.show()"
      ],
      "execution_count": null,
      "outputs": [
        {
          "output_type": "stream",
          "text": [
            "Epoch 1/50\n",
            "2500/2500 [==============================] - 6s 2ms/step - loss: 20479.1699 - mae: 53.6012 - val_loss: 4592.8647 - val_mae: 40.8919\n",
            "Epoch 2/50\n",
            "2500/2500 [==============================] - 5s 2ms/step - loss: 17919.5098 - mae: 40.2617 - val_loss: 3860.2725 - val_mae: 39.7492\n",
            "Epoch 3/50\n",
            "2500/2500 [==============================] - 5s 2ms/step - loss: 17510.3867 - mae: 39.7233 - val_loss: 3589.0154 - val_mae: 38.9183\n",
            "Epoch 4/50\n",
            "2500/2500 [==============================] - 5s 2ms/step - loss: 17294.4316 - mae: 38.9164 - val_loss: 3417.2124 - val_mae: 38.0540\n",
            "Epoch 5/50\n",
            "2500/2500 [==============================] - 5s 2ms/step - loss: 17139.8438 - mae: 38.0276 - val_loss: 3286.0576 - val_mae: 37.4023\n",
            "Epoch 6/50\n",
            "2500/2500 [==============================] - 5s 2ms/step - loss: 17019.6445 - mae: 37.3975 - val_loss: 3185.4702 - val_mae: 36.7845\n",
            "Epoch 7/50\n",
            "2500/2500 [==============================] - 5s 2ms/step - loss: 16923.1797 - mae: 36.7418 - val_loss: 3102.8613 - val_mae: 36.3114\n",
            "Epoch 8/50\n",
            "2500/2500 [==============================] - 5s 2ms/step - loss: 16843.2402 - mae: 36.3165 - val_loss: 3035.4846 - val_mae: 35.8720\n",
            "Epoch 9/50\n",
            "2500/2500 [==============================] - 5s 2ms/step - loss: 16775.8965 - mae: 35.8349 - val_loss: 2977.8206 - val_mae: 35.5319\n",
            "Epoch 10/50\n",
            "2500/2500 [==============================] - 5s 2ms/step - loss: 16717.8633 - mae: 35.4892 - val_loss: 2928.6978 - val_mae: 35.2309\n",
            "Epoch 11/50\n",
            "2500/2500 [==============================] - 5s 2ms/step - loss: 16667.5645 - mae: 35.1462 - val_loss: 2885.8789 - val_mae: 34.9838\n",
            "Epoch 12/50\n",
            "2500/2500 [==============================] - 5s 2ms/step - loss: 16623.2148 - mae: 34.8669 - val_loss: 2848.2100 - val_mae: 34.7669\n",
            "Epoch 13/50\n",
            "2500/2500 [==============================] - 5s 2ms/step - loss: 16583.6484 - mae: 34.6151 - val_loss: 2814.7244 - val_mae: 34.5705\n",
            "Epoch 14/50\n",
            "2500/2500 [==============================] - 5s 2ms/step - loss: 16548.2012 - mae: 34.4115 - val_loss: 2785.0078 - val_mae: 34.3858\n",
            "Epoch 15/50\n",
            "2500/2500 [==============================] - 5s 2ms/step - loss: 16516.1113 - mae: 34.1659 - val_loss: 2757.7915 - val_mae: 34.2395\n",
            "Epoch 16/50\n",
            "2500/2500 [==============================] - 5s 2ms/step - loss: 16486.8359 - mae: 34.0100 - val_loss: 2733.2786 - val_mae: 34.0928\n",
            "Epoch 17/50\n",
            "2500/2500 [==============================] - 5s 2ms/step - loss: 16459.9180 - mae: 33.7875 - val_loss: 2710.4204 - val_mae: 33.9806\n",
            "Epoch 18/50\n",
            "2500/2500 [==============================] - 5s 2ms/step - loss: 16435.0176 - mae: 33.6621 - val_loss: 2689.5525 - val_mae: 33.8612\n",
            "Epoch 19/50\n",
            "2500/2500 [==============================] - 6s 2ms/step - loss: 16411.9160 - mae: 33.5024 - val_loss: 2670.1921 - val_mae: 33.7579\n",
            "Epoch 20/50\n",
            "2500/2500 [==============================] - 6s 2ms/step - loss: 16390.4277 - mae: 33.3732 - val_loss: 2652.1833 - val_mae: 33.6574\n",
            "Epoch 21/50\n",
            "2500/2500 [==============================] - 5s 2ms/step - loss: 16370.2920 - mae: 33.2444 - val_loss: 2635.3718 - val_mae: 33.5651\n",
            "Epoch 22/50\n",
            "2500/2500 [==============================] - 5s 2ms/step - loss: 16351.3369 - mae: 33.1215 - val_loss: 2619.6011 - val_mae: 33.4793\n",
            "Epoch 23/50\n",
            "2500/2500 [==============================] - 5s 2ms/step - loss: 16333.5293 - mae: 33.0193 - val_loss: 2604.8076 - val_mae: 33.3935\n",
            "Epoch 24/50\n",
            "2500/2500 [==============================] - 5s 2ms/step - loss: 16316.7324 - mae: 32.9505 - val_loss: 2591.0344 - val_mae: 33.2984\n",
            "Epoch 25/50\n",
            "2500/2500 [==============================] - 5s 2ms/step - loss: 16300.8203 - mae: 32.8394 - val_loss: 2577.9878 - val_mae: 33.2133\n",
            "Epoch 26/50\n",
            "2500/2500 [==============================] - 5s 2ms/step - loss: 16285.6846 - mae: 32.7033 - val_loss: 2565.4453 - val_mae: 33.1466\n",
            "Epoch 27/50\n",
            "2500/2500 [==============================] - 5s 2ms/step - loss: 16271.2881 - mae: 32.6439 - val_loss: 2553.6680 - val_mae: 33.0723\n",
            "Epoch 28/50\n",
            "2500/2500 [==============================] - 5s 2ms/step - loss: 16257.5273 - mae: 32.5383 - val_loss: 2542.3892 - val_mae: 33.0075\n",
            "Epoch 29/50\n",
            "2500/2500 [==============================] - 5s 2ms/step - loss: 16244.4326 - mae: 32.4514 - val_loss: 2531.6414 - val_mae: 32.9456\n",
            "Epoch 30/50\n",
            "2500/2500 [==============================] - 5s 2ms/step - loss: 16231.8174 - mae: 32.3844 - val_loss: 2521.4185 - val_mae: 32.8835\n",
            "Epoch 31/50\n",
            "2500/2500 [==============================] - 6s 2ms/step - loss: 16219.8018 - mae: 32.2804 - val_loss: 2511.5452 - val_mae: 32.8315\n",
            "Epoch 32/50\n",
            "2500/2500 [==============================] - 7s 3ms/step - loss: 16208.2305 - mae: 32.2257 - val_loss: 2502.1501 - val_mae: 32.7749\n",
            "Epoch 33/50\n",
            "2500/2500 [==============================] - 6s 2ms/step - loss: 16197.0742 - mae: 32.1470 - val_loss: 2493.1257 - val_mae: 32.7237\n",
            "Epoch 34/50\n",
            "2500/2500 [==============================] - 6s 2ms/step - loss: 16186.3896 - mae: 32.0820 - val_loss: 2484.4893 - val_mae: 32.6737\n",
            "Epoch 35/50\n",
            "2500/2500 [==============================] - 5s 2ms/step - loss: 16176.0547 - mae: 32.0103 - val_loss: 2476.1794 - val_mae: 32.6265\n",
            "Epoch 36/50\n",
            "2500/2500 [==============================] - 5s 2ms/step - loss: 16166.0898 - mae: 31.9564 - val_loss: 2468.2095 - val_mae: 32.5777\n",
            "Epoch 37/50\n",
            "2500/2500 [==============================] - 5s 2ms/step - loss: 16156.4824 - mae: 31.8849 - val_loss: 2460.5081 - val_mae: 32.5337\n",
            "Epoch 38/50\n",
            "2500/2500 [==============================] - 5s 2ms/step - loss: 16147.1670 - mae: 31.8230 - val_loss: 2453.0854 - val_mae: 32.4920\n",
            "Epoch 39/50\n",
            "2500/2500 [==============================] - 5s 2ms/step - loss: 16138.1846 - mae: 31.7807 - val_loss: 2445.9722 - val_mae: 32.4470\n",
            "Epoch 40/50\n",
            "2500/2500 [==============================] - 5s 2ms/step - loss: 16129.4814 - mae: 31.7131 - val_loss: 2439.0813 - val_mae: 32.4064\n",
            "Epoch 41/50\n",
            "2500/2500 [==============================] - 5s 2ms/step - loss: 16121.0186 - mae: 31.6642 - val_loss: 2432.4338 - val_mae: 32.3654\n",
            "Epoch 42/50\n",
            "2500/2500 [==============================] - 5s 2ms/step - loss: 16112.8232 - mae: 31.6178 - val_loss: 2426.0288 - val_mae: 32.3240\n",
            "Epoch 43/50\n",
            "2500/2500 [==============================] - 5s 2ms/step - loss: 16104.8701 - mae: 31.5298 - val_loss: 2419.7451 - val_mae: 32.2931\n",
            "Epoch 44/50\n",
            "2500/2500 [==============================] - 5s 2ms/step - loss: 16097.1777 - mae: 31.5018 - val_loss: 2413.7100 - val_mae: 32.2563\n",
            "Epoch 45/50\n",
            "2500/2500 [==============================] - 5s 2ms/step - loss: 16089.6533 - mae: 31.4584 - val_loss: 2407.8799 - val_mae: 32.2194\n",
            "Epoch 46/50\n",
            "2500/2500 [==============================] - 6s 2ms/step - loss: 16082.3936 - mae: 31.4113 - val_loss: 2402.2380 - val_mae: 32.1829\n",
            "Epoch 47/50\n",
            "2500/2500 [==============================] - 6s 2ms/step - loss: 16075.2627 - mae: 31.3489 - val_loss: 2396.7290 - val_mae: 32.1509\n",
            "Epoch 48/50\n",
            "2500/2500 [==============================] - 5s 2ms/step - loss: 16068.3291 - mae: 31.3042 - val_loss: 2391.3892 - val_mae: 32.1197\n",
            "Epoch 49/50\n",
            "2500/2500 [==============================] - 5s 2ms/step - loss: 16061.5830 - mae: 31.2891 - val_loss: 2386.2622 - val_mae: 32.0821\n",
            "Epoch 50/50\n",
            "2500/2500 [==============================] - 5s 2ms/step - loss: 16055.0020 - mae: 31.2334 - val_loss: 2381.2593 - val_mae: 32.0485\n"
          ],
          "name": "stdout"
        },
        {
          "output_type": "display_data",
          "data": {
            "image/png": "[encoded data removed]",
            "text/plain": [
              "<Figure size 432x288 with 1 Axes>"
            ]
          },
          "metadata": {
            "tags": [],
            "needs_background": "light"
          }
        }
      ]
    },
    {
      "cell_type": "code",
      "metadata": {
        "id": "HbHzBrEzYtIY"
      },
      "source": [
        "del xTrainProf01 # Удаляем переменную, иначе дальше может вылететь из-за нехватки памяти"
      ],
      "execution_count": null,
      "outputs": []
    },
    {
      "cell_type": "markdown",
      "metadata": {
        "id": "wrTiYc4UNIJ3"
      },
      "source": [
        "##Загружаем сложные текстовые данные\n",
        "\n",
        "*Разбор данного раздела:* https://youtu.be/h8cOCvlYmN8?t=1566"
      ]
    },
    {
      "cell_type": "code",
      "metadata": {
        "id": "aM9L-fDy9fkQ"
      },
      "source": [
        "# Выкачиваем данные по резюме\n",
        "def getXTrainTRez(values):\n",
        "  xTrainTRez = []\n",
        "  \n",
        "  for val in values:\n",
        "    currText = \"\"\n",
        "    if (type(val[6]) != float):\n",
        "      currText += val[6]\n",
        "    \n",
        "    if (getParameterSalary(val[1]) != -1):\n",
        "      xTrainTRez.append(currText)\n",
        "  \n",
        "  xTrainTRez = np.array(xTrainTRez)\n",
        "  \n",
        "  return xTrainTRez"
      ],
      "execution_count": null,
      "outputs": []
    },
    {
      "cell_type": "code",
      "metadata": {
        "id": "YtCuDHOLNO8w"
      },
      "source": [
        "# Вытаскиваем резюме для выборки\n",
        "xTrainTRez = getXTrainTRez(fixed_df.values)"
      ],
      "execution_count": null,
      "outputs": []
    },
    {
      "cell_type": "code",
      "metadata": {
        "id": "8pE1EJ89NcS3",
        "colab": {
          "base_uri": "https://localhost:8080/",
          "height": 54
        },
        "outputId": "69658694-63e1-4591-da93-7e7c94059472"
      },
      "source": [
        "print(xTrainTRez[10]) # Пример профессии 11го резюме"
      ],
      "execution_count": null,
      "outputs": [
        {
          "output_type": "stream",
          "text": [
            "Опыт работы 27 лет 4 месяца  Программист 2 000 EUR Информационные технологии, интернет, телеком Программирование, Разработка Системная интеграция Занятость: полная занятость График работы: полный день Опыт работы 27 лет 4 месяца Январь 2008 — по настоящее время 11 лет 4 месяца Консалтинг КАС Главный аналитик Программирование на разных версиях RPG для AS/400 (iSeries). Модификация и доработка существующего кода, расширения функциональности системы. Разработка новых модулей и подсистем. Постановка задач, управление проектами. Январь 1993 — Январь  2008 15 лет 1 месяц Артекс, крупнейший дилер БМВ в Москве Директор по ИТ Доработка существующей системы управления дилерским предприятием (AS/400, iSeries). Все версии RPG (RPG36, RPG400, ILE RPG). Работа с DB2. Расширение функциональности системы, изменение системы, согласно действующему законодательству РФ. Руководство проектами, координация действий различных подразделений компании и сторонних организаций. Бюджетирование. Исследование бизнес процессов и реинжиниринг. Разработка и реализация концепций дисконтных программ, программы стимулирования сотрудников, развития региональной дилерской сети, оперативного и бухгалтерского учета товаров. Математическая статистика. Январь 1992 — Январь  1993 1 год 1 месяц GEWIKA, немецкая фирма, единственный на тот момент импортер БМВ Эксперт по компьютерным системам Эксплуатация системы управления предприятием, предоставленной вендором. Доработка и настройка системы с учетом специфики российского законодательства. Программирование для IBM System36, AS/400 (iSeries) Опыт вождения Права категории B Обо мне Программирование для AS/400 (iSeries). Языки программирования RPG (все версии), CL, Java, SQL. Работа с DB2. Развитие и сопровождение существующего кода, расширение функциональности. Разработка больших систем. Формализация и постановка задач. Руководство проектами. WEB-программирование (JAVA, PHP, HTML, XML). Утилиты IDDU, DFU, SEU, RLU, Query. Высшее образование (Кандидат наук) 1980 РПИ (Рижский политехнический институт) Рига Инженерный Знание языков Английский — C2 — В совершенстве Немецкий — B2 — Средне-продвинутый Гражданство, время в пути до работы Гражданство: Россия Желательное время в пути до работы: Не имеет значения  Опыт работы 27 лет 4 месяца Январь 2008 — по настоящее время 11 лет 4 месяца Консалтинг КАС Главный аналитик Программирование на разных версиях RPG для AS/400 (iSeries). Модификация и доработка существующего кода, расширения функциональности системы. Разработка новых модулей и подсистем. Постановка задач, управление проектами. Январь 1993 — Январь  2008 15 лет 1 месяц Артекс, крупнейший дилер БМВ в Москве Директор по ИТ Доработка существующей системы управления дилерским предприятием (AS/400, iSeries). Все версии RPG (RPG36, RPG400, ILE RPG). Работа с DB2. Расширение функциональности системы, изменение системы, согласно действующему законодательству РФ. Руководство проектами, координация действий различных подразделений компании и сторонних организаций. Бюджетирование. Исследование бизнес процессов и реинжиниринг. Разработка и реализация концепций дисконтных программ, программы стимулирования сотрудников, развития региональной дилерской сети, оперативного и бухгалтерского учета товаров. Математическая статистика. Январь 1992 — Январь  1993 1 год 1 месяц GEWIKA, немецкая фирма, единственный на тот момент импортер БМВ Эксперт по компьютерным системам Эксплуатация системы управления предприятием, предоставленной вендором. Доработка и настройка системы с учетом специфики российского законодательства. Программирование для IBM System36, AS/400 (iSeries)  Январь 2008 — по настоящее время 11 лет 4 месяца Консалтинг КАС Главный аналитик Программирование на разных версиях RPG для AS/400 (iSeries). Модификация и доработка существующего кода, расширения функциональности системы. Разработка новых модулей и подсистем. Постановка задач, управление проектами.  Январь 1993 — Январь  2008 15 лет 1 месяц Артекс, крупнейший дилер БМВ в Москве Директор по ИТ Доработка существующей системы управления дилерским предприятием (AS/400, iSeries). Все версии RPG (RPG36, RPG400, ILE RPG). Работа с DB2. Расширение функциональности системы, изменение системы, согласно действующему законодательству РФ. Руководство проектами, координация действий различных подразделений компании и сторонних организаций. Бюджетирование. Исследование бизнес процессов и реинжиниринг. Разработка и реализация концепций дисконтных программ, программы стимулирования сотрудников, развития региональной дилерской сети, оперативного и бухгалтерского учета товаров. Математическая статистика.  Январь 1992 — Январь  1993 1 год 1 месяц GEWIKA, немецкая фирма, единственный на тот момент импортер БМВ Эксперт по компьютерным системам Эксплуатация системы управления предприятием, предоставленной вендором. Доработка и настройка системы с учетом специфики российского законодательства. Программирование для IBM System36, AS/400 (iSeries)\n"
          ],
          "name": "stdout"
        }
      ]
    },
    {
      "cell_type": "code",
      "metadata": {
        "id": "8KIK4NSTNhaY"
      },
      "source": [
        "#################\n",
        "#Преобразовываем текстовые данные в числовые/векторные для обучения нейросетью\n",
        "#################\n",
        "\n",
        "maxWordsCount = 5000 #определяем макс.кол-во слов/индексов, учитываемое при обучении текстов\n",
        "\n",
        "#для этого воспользуемся встроенной в Keras функцией Tokenizer для разбиения текста и превращения в матрицу числовых значений\n",
        "tokenizer = Tokenizer(num_words=maxWordsCount, filters='!\"#$%&()*+,-–—./:;<=>?@[\\\\]^_`{|}~\\t\\n\\xa0', lower=True, split=' ', oov_token='unknown', char_level=False)\n",
        "#выше задаем параметры:\n",
        "#(num_words=maxWordsCount) - определяем макс.кол-во слов/индексов, учитываемое при обучении текстов\n",
        "#(filters='!\"#$%&()*+,-./:;<=>?@[\\\\]^_`{|}~\\t\\n') - избавляемся от ненужных символов\n",
        "#(lower=True) - приводим слова к нижнему регистру\n",
        "#(split=' ') - разделяем слова по пробелу\n",
        "#(char_level=False) - просим токенайзер не удалять однобуквенные слова\n",
        "\n",
        "tokenizer.fit_on_texts(xTrainTRez)         # \"скармливаем\" наши тексты, т.е даём в обработку методу, который соберет словарь частотности\n",
        "items = list(tokenizer.word_index.items()) # Вытаскиваем индексы слов для просмотра"
      ],
      "execution_count": null,
      "outputs": []
    },
    {
      "cell_type": "code",
      "metadata": {
        "id": "eQHVb6dqNkXJ"
      },
      "source": [
        "# Преобразовываем текст в последовательность индексов согласно частотному словарю\n",
        "xTrainRezIndexes = tokenizer.texts_to_sequences(xTrainTRez) # Обучающие тесты в индексы"
      ],
      "execution_count": null,
      "outputs": []
    },
    {
      "cell_type": "markdown",
      "metadata": {
        "id": "I3v4ufg9NyKf"
      },
      "source": [
        "## Создание обучающей и проверочной выборки\n",
        "\n",
        "Функции для формирования выборки по отрезкам текста с заданным шагом\n",
        "\n",
        "Подготовка данных"
      ]
    },
    {
      "cell_type": "code",
      "metadata": {
        "id": "EBNaXukiN346",
        "colab": {
          "base_uri": "https://localhost:8080/",
          "height": 119
        },
        "outputId": "db566d04-7060-4037-fb27-c23248852942"
      },
      "source": [
        "xTrainRez01 = tokenizer.sequences_to_matrix(xTrainRezIndexes) # Подаем xTrain в виде списка чтобы метод успешно сработал\n",
        "print(xTrainRez01.shape)                                      # Размер обучающей выборки, сформированной по Bag of Words\n",
        "print(xTrainRez01[0][0:100])    "
      ],
      "execution_count": null,
      "outputs": [
        {
          "output_type": "stream",
          "text": [
            "(62967, 5000)\n",
            "[0. 0. 1. 1. 1. 0. 1. 1. 1. 0. 0. 0. 0. 0. 1. 0. 1. 1. 1. 0. 0. 1. 1. 0.\n",
            " 1. 0. 1. 0. 0. 0. 0. 0. 1. 1. 0. 0. 0. 0. 0. 0. 0. 0. 0. 0. 0. 0. 0. 0.\n",
            " 0. 0. 0. 1. 0. 0. 1. 0. 0. 1. 0. 0. 0. 0. 0. 0. 0. 0. 0. 1. 0. 1. 0. 0.\n",
            " 0. 0. 0. 1. 0. 1. 0. 0. 0. 0. 0. 0. 0. 0. 0. 0. 0. 0. 1. 0. 0. 0. 0. 1.\n",
            " 0. 0. 1. 0.]\n"
          ],
          "name": "stdout"
        }
      ]
    },
    {
      "cell_type": "code",
      "metadata": {
        "id": "x6AY8WUWN6ER",
        "colab": {
          "base_uri": "https://localhost:8080/",
          "height": 51
        },
        "outputId": "1660a9fc-afa8-4363-9cba-a8bf5028505a"
      },
      "source": [
        "print(xTrainRez01.shape) # Размер выборки самых частых слов\n",
        "print(xTrainRez01[555]) # Пример из отформатированной выборки"
      ],
      "execution_count": null,
      "outputs": [
        {
          "output_type": "stream",
          "text": [
            "(62967, 5000)\n",
            "[0. 0. 1. ... 0. 0. 0.]\n"
          ],
          "name": "stdout"
        }
      ]
    },
    {
      "cell_type": "markdown",
      "metadata": {
        "id": "1m-lj10tN9xN"
      },
      "source": [
        "##Обучаем нейронку на сложных текстовых данных\n",
        "\n",
        "*Разбор данного раздела:* https://youtu.be/h8cOCvlYmN8?t=1616\n"
      ]
    },
    {
      "cell_type": "code",
      "metadata": {
        "id": "5yZRQ858OEgA",
        "colab": {
          "base_uri": "https://localhost:8080/",
          "height": 959
        },
        "outputId": "1327d9d4-a29d-4e77-f19c-d17cca547efa"
      },
      "source": [
        "# здесь в параметрах maxWordCount = 2000\n",
        "modelTRez = Sequential()\n",
        "modelTRez.add(Dense(20, activation='relu',input_dim=(xTrainRez01.shape[1])))\n",
        "modelTRez.add(Dense(500, activation='relu'))\n",
        "modelTRez.add(Dropout(0.3))\n",
        "modelTRez.add(Dense(1, activation='linear'))\n",
        " \n",
        "modelTRez.compile(optimizer=Adam(lr=1e-3), loss='mse', metrics=['mae'])\n",
        " \n",
        "history = modelTRez.fit(xTrainRez01[:50000], \n",
        "                    yTrain[:50000], \n",
        "                    batch_size=20,\n",
        "                    epochs=20, \n",
        "                    validation_data=(xTrainRez01[50000:], yTrain[50000:]),\n",
        "                    verbose=1, shuffle=True)\n",
        " \n",
        "plt.plot(history.history['mae'], \n",
        "         label='Средняя абсолютная ошибка на обучающем наборе')\n",
        "plt.plot(history.history['val_mae'], \n",
        "         label='Средняя абсолютная ошибка на проверочном наборе')\n",
        "plt.xlabel('Эпоха обучения')\n",
        "plt.ylabel('Средняя абсолютная ошибка')\n",
        "plt.legend()\n",
        "plt.show()"
      ],
      "execution_count": null,
      "outputs": [
        {
          "output_type": "stream",
          "text": [
            "Epoch 1/20\n",
            "2500/2500 [==============================] - 5s 2ms/step - loss: 15660.3145 - mae: 27.4569 - val_loss: 1513.4458 - val_mae: 24.8467\n",
            "Epoch 2/20\n",
            "2500/2500 [==============================] - 5s 2ms/step - loss: 14903.1260 - mae: 23.8727 - val_loss: 1540.6873 - val_mae: 25.7508\n",
            "Epoch 3/20\n",
            "2500/2500 [==============================] - 5s 2ms/step - loss: 14090.9912 - mae: 22.9985 - val_loss: 1428.7754 - val_mae: 23.5003\n",
            "Epoch 4/20\n",
            "2500/2500 [==============================] - 6s 2ms/step - loss: 13188.4990 - mae: 21.2798 - val_loss: 1505.1117 - val_mae: 23.7810\n",
            "Epoch 5/20\n",
            "2500/2500 [==============================] - 5s 2ms/step - loss: 11952.0039 - mae: 19.8930 - val_loss: 1428.9722 - val_mae: 23.5358\n",
            "Epoch 6/20\n",
            "2500/2500 [==============================] - 5s 2ms/step - loss: 10167.0332 - mae: 18.7258 - val_loss: 2941.7305 - val_mae: 31.4668\n",
            "Epoch 7/20\n",
            "2500/2500 [==============================] - 5s 2ms/step - loss: 9631.6514 - mae: 18.8640 - val_loss: 1475.1525 - val_mae: 23.7413\n",
            "Epoch 8/20\n",
            "2500/2500 [==============================] - 5s 2ms/step - loss: 7854.4580 - mae: 18.2596 - val_loss: 1489.9034 - val_mae: 23.6174\n",
            "Epoch 9/20\n",
            "2500/2500 [==============================] - 5s 2ms/step - loss: 7427.1089 - mae: 17.6362 - val_loss: 1519.5205 - val_mae: 23.7040\n",
            "Epoch 10/20\n",
            "2500/2500 [==============================] - 5s 2ms/step - loss: 6167.9443 - mae: 17.5687 - val_loss: 1517.7040 - val_mae: 23.7693\n",
            "Epoch 11/20\n",
            "2500/2500 [==============================] - 5s 2ms/step - loss: 5042.6377 - mae: 16.9708 - val_loss: 1569.2001 - val_mae: 23.8454\n",
            "Epoch 12/20\n",
            "2500/2500 [==============================] - 5s 2ms/step - loss: 5085.5679 - mae: 16.7754 - val_loss: 1491.9805 - val_mae: 23.4558\n",
            "Epoch 13/20\n",
            "2500/2500 [==============================] - 5s 2ms/step - loss: 4124.8389 - mae: 16.3715 - val_loss: 1606.7446 - val_mae: 23.8070\n",
            "Epoch 14/20\n",
            "2500/2500 [==============================] - 5s 2ms/step - loss: 3150.5625 - mae: 16.1127 - val_loss: 1540.3501 - val_mae: 23.4347\n",
            "Epoch 15/20\n",
            "2500/2500 [==============================] - 5s 2ms/step - loss: 4156.3408 - mae: 15.7519 - val_loss: 1736.9421 - val_mae: 24.0045\n",
            "Epoch 16/20\n",
            "2500/2500 [==============================] - 5s 2ms/step - loss: 3431.4102 - mae: 15.5203 - val_loss: 1551.9884 - val_mae: 23.4296\n",
            "Epoch 17/20\n",
            "2500/2500 [==============================] - 5s 2ms/step - loss: 2872.1389 - mae: 15.2153 - val_loss: 1735.5563 - val_mae: 23.9589\n",
            "Epoch 18/20\n",
            "2500/2500 [==============================] - 6s 2ms/step - loss: 2233.4651 - mae: 15.0534 - val_loss: 1641.1573 - val_mae: 23.7674\n",
            "Epoch 19/20\n",
            "2500/2500 [==============================] - 6s 2ms/step - loss: 2157.6689 - mae: 14.9329 - val_loss: 1620.9928 - val_mae: 23.8635\n",
            "Epoch 20/20\n",
            "2500/2500 [==============================] - 5s 2ms/step - loss: 2410.0823 - mae: 14.7706 - val_loss: 1741.6744 - val_mae: 23.6693\n"
          ],
          "name": "stdout"
        },
        {
          "output_type": "display_data",
          "data": {
            "image/png": "[encoded data removed]",
            "text/plain": [
              "<Figure size 432x288 with 1 Axes>"
            ]
          },
          "metadata": {
            "tags": [],
            "needs_background": "light"
          }
        }
      ]
    },
    {
      "cell_type": "markdown",
      "metadata": {
        "id": "7rvE77OXTiXb"
      },
      "source": [
        "##Составная нейронка\n",
        "\n",
        "*Разбор данного раздела:* https://youtu.be/h8cOCvlYmN8?t=1652"
      ]
    },
    {
      "cell_type": "code",
      "metadata": {
        "id": "u76eKcnlTotB",
        "colab": {
          "base_uri": "https://localhost:8080/",
          "height": 1000
        },
        "outputId": "017d48cb-ef3d-41f2-e7b0-b4f5a31e82b4"
      },
      "source": [
        "input1 = Input((xTrain01.shape[1],))\n",
        "#input2 = Input((xTrainProf01.shape[1],))\n",
        "input3 = Input((xTrainRez01.shape[1],))\n",
        "\n",
        "x1 = BatchNormalization()(input1) # Создаем ветку х1\n",
        "x1 = Dropout(0.5)(x1)\n",
        "x1 = Dense(10, activation=\"relu\")(x1)\n",
        "x1 = Dense(1000, activation=\"relu\")(x1)\n",
        "x1 = Dense(100, activation = \"relu\")(x1)\n",
        "\n",
        "#x2 = BatchNormalization()(input2) # Создаем ветку х2\n",
        "#x2 = Dense(25, activation=\"relu\")(input2)\n",
        "#x2 = Dense(8, activation=\"tanh\")(x2)\n",
        "#x2 = Dense(5, activation = \"elu\")(x2)\n",
        "\n",
        "#x3 = BatchNormalization()(input3) # Создаем ветку х3\n",
        "x3 = Dense(1000, activation=\"tanh\")(input3)\n",
        "x3 = Dense(20, activation = \"elu\")(x3)\n",
        "x3 = Dense(5, activation = \"elu\")(x3)\n",
        "\n",
        "x = concatenate([x1, x3]) # Объединяем все три ветки\n",
        "\n",
        "x = Dense(15, activation='linear')(x)\n",
        "x = Dropout(0.5)(x)\n",
        "x = Dense(1, activation='relu')(x) # Финальный нейрон, делает регрессию\n",
        "\n",
        "model = Model((input1, input3), x) # В Model загружаем стартовые и последнюю точки \n",
        "\n",
        "model.compile(optimizer=Adam(lr=1e-3), loss='mse', metrics=['mae'])\n",
        "\n",
        "history = model.fit([xTrain01[:50000], xTrainRez01[:50000]], \n",
        "                    yTrain[:50000], \n",
        "                    epochs= 80, \n",
        "                    validation_data=([xTrain01[50000:], xTrainRez01[50000:]], \n",
        "                    yTrain[50000:]), \n",
        "                    verbose=1, shuffle=True)"
      ],
      "execution_count": null,
      "outputs": [
        {
          "output_type": "stream",
          "text": [
            "Epoch 1/80\n",
            "1563/1563 [==============================] - 6s 4ms/step - loss: 16225.0801 - mae: 31.1377 - val_loss: 1442.7241 - val_mae: 23.0263\n",
            "Epoch 2/80\n",
            "1563/1563 [==============================] - 5s 4ms/step - loss: 15522.8867 - mae: 27.1276 - val_loss: 1337.5441 - val_mae: 21.8566\n",
            "Epoch 3/80\n",
            "1563/1563 [==============================] - 6s 4ms/step - loss: 15052.4414 - mae: 25.4680 - val_loss: 1435.2914 - val_mae: 23.0118\n",
            "Epoch 4/80\n",
            "1563/1563 [==============================] - 6s 4ms/step - loss: 14487.2559 - mae: 24.4120 - val_loss: 1204.0270 - val_mae: 20.7841\n",
            "Epoch 5/80\n",
            "1563/1563 [==============================] - 5s 3ms/step - loss: 14412.2881 - mae: 23.2311 - val_loss: 1268.8862 - val_mae: 21.1665\n",
            "Epoch 6/80\n",
            "1563/1563 [==============================] - 5s 3ms/step - loss: 13239.8428 - mae: 22.5278 - val_loss: 1177.0663 - val_mae: 20.3566\n",
            "Epoch 7/80\n",
            "1563/1563 [==============================] - 5s 3ms/step - loss: 12473.4033 - mae: 21.4978 - val_loss: 1191.4929 - val_mae: 21.2376\n",
            "Epoch 8/80\n",
            "1563/1563 [==============================] - 5s 3ms/step - loss: 12507.2383 - mae: 21.0595 - val_loss: 1120.6703 - val_mae: 19.9505\n",
            "Epoch 9/80\n",
            "1563/1563 [==============================] - 5s 3ms/step - loss: 12180.8330 - mae: 20.9597 - val_loss: 1076.3221 - val_mae: 19.3927\n",
            "Epoch 10/80\n",
            "1563/1563 [==============================] - 5s 3ms/step - loss: 11083.2930 - mae: 20.4779 - val_loss: 1461.9882 - val_mae: 22.7874\n",
            "Epoch 11/80\n",
            "1563/1563 [==============================] - 5s 3ms/step - loss: 8592.3516 - mae: 20.4304 - val_loss: 1132.3708 - val_mae: 19.9299\n",
            "Epoch 12/80\n",
            "1563/1563 [==============================] - 5s 3ms/step - loss: 9723.6025 - mae: 20.1191 - val_loss: 1223.2208 - val_mae: 20.7138\n",
            "Epoch 13/80\n",
            "1563/1563 [==============================] - 5s 3ms/step - loss: 7634.1611 - mae: 20.0316 - val_loss: 1051.9349 - val_mae: 19.2113\n",
            "Epoch 14/80\n",
            "1563/1563 [==============================] - 5s 3ms/step - loss: 4148.0654 - mae: 19.6095 - val_loss: 1086.9583 - val_mae: 19.2905\n",
            "Epoch 15/80\n",
            "1563/1563 [==============================] - 6s 4ms/step - loss: 5260.4888 - mae: 19.3008 - val_loss: 1170.6327 - val_mae: 20.6046\n",
            "Epoch 16/80\n",
            "1563/1563 [==============================] - 5s 3ms/step - loss: 7009.7905 - mae: 18.9688 - val_loss: 1071.1932 - val_mae: 19.0827\n",
            "Epoch 17/80\n",
            "1563/1563 [==============================] - 5s 4ms/step - loss: 5923.5508 - mae: 18.9847 - val_loss: 1119.7682 - val_mae: 19.1750\n",
            "Epoch 18/80\n",
            "1563/1563 [==============================] - 5s 4ms/step - loss: 3840.1340 - mae: 19.0500 - val_loss: 1100.1858 - val_mae: 19.5691\n",
            "Epoch 19/80\n",
            "1563/1563 [==============================] - 6s 4ms/step - loss: 2711.6023 - mae: 18.6042 - val_loss: 1052.5792 - val_mae: 18.8645\n",
            "Epoch 20/80\n",
            "1563/1563 [==============================] - 5s 3ms/step - loss: 2553.4897 - mae: 18.2617 - val_loss: 1205.9268 - val_mae: 21.4446\n",
            "Epoch 21/80\n",
            "1563/1563 [==============================] - 5s 3ms/step - loss: 2205.2607 - mae: 18.0555 - val_loss: 1420.4834 - val_mae: 23.3637\n",
            "Epoch 22/80\n",
            "1563/1563 [==============================] - 6s 4ms/step - loss: 1355.2903 - mae: 17.9910 - val_loss: 1085.3420 - val_mae: 20.0784\n",
            "Epoch 23/80\n",
            "1563/1563 [==============================] - 6s 4ms/step - loss: 2870.3616 - mae: 17.9726 - val_loss: 1061.7244 - val_mae: 18.8920\n",
            "Epoch 24/80\n",
            "1563/1563 [==============================] - 5s 3ms/step - loss: 1871.7836 - mae: 17.5825 - val_loss: 1099.6885 - val_mae: 19.0961\n",
            "Epoch 25/80\n",
            "1563/1563 [==============================] - 5s 3ms/step - loss: 2255.4033 - mae: 17.7857 - val_loss: 1071.7677 - val_mae: 19.0238\n",
            "Epoch 26/80\n",
            "1563/1563 [==============================] - 6s 4ms/step - loss: 2391.5508 - mae: 17.5247 - val_loss: 1092.6791 - val_mae: 19.2325\n",
            "Epoch 27/80\n",
            "1563/1563 [==============================] - 5s 3ms/step - loss: 1740.0371 - mae: 17.3043 - val_loss: 1100.0334 - val_mae: 18.8987\n",
            "Epoch 28/80\n",
            "1563/1563 [==============================] - 5s 3ms/step - loss: 2967.7947 - mae: 17.1535 - val_loss: 1061.1224 - val_mae: 18.9876\n",
            "Epoch 29/80\n",
            "1563/1563 [==============================] - 5s 3ms/step - loss: 1899.5071 - mae: 17.0390 - val_loss: 1060.4087 - val_mae: 18.5162\n",
            "Epoch 30/80\n",
            "1563/1563 [==============================] - 5s 3ms/step - loss: 1904.5846 - mae: 16.9166 - val_loss: 1036.6335 - val_mae: 18.5309\n",
            "Epoch 31/80\n",
            "1563/1563 [==============================] - 5s 4ms/step - loss: 3133.8662 - mae: 16.6312 - val_loss: 1147.7556 - val_mae: 19.9881\n",
            "Epoch 32/80\n",
            "1563/1563 [==============================] - 6s 4ms/step - loss: 2808.5054 - mae: 16.3745 - val_loss: 1062.8801 - val_mae: 18.3839\n",
            "Epoch 33/80\n",
            "1563/1563 [==============================] - 5s 4ms/step - loss: 2354.5991 - mae: 16.3382 - val_loss: 1082.5828 - val_mae: 18.6795\n",
            "Epoch 34/80\n",
            "1563/1563 [==============================] - 5s 3ms/step - loss: 1588.2109 - mae: 16.2110 - val_loss: 1063.5658 - val_mae: 18.4841\n",
            "Epoch 35/80\n",
            "1563/1563 [==============================] - 5s 3ms/step - loss: 707.3677 - mae: 15.4090 - val_loss: 1031.0638 - val_mae: 18.0999\n",
            "Epoch 36/80\n",
            "1563/1563 [==============================] - 5s 3ms/step - loss: 1023.9470 - mae: 15.7474 - val_loss: 1045.7638 - val_mae: 18.5191\n",
            "Epoch 37/80\n",
            "1563/1563 [==============================] - 6s 4ms/step - loss: 929.9647 - mae: 15.1500 - val_loss: 1178.4377 - val_mae: 19.9158\n",
            "Epoch 38/80\n",
            "1563/1563 [==============================] - 6s 4ms/step - loss: 3101.1748 - mae: 15.7350 - val_loss: 1030.7365 - val_mae: 18.1077\n",
            "Epoch 39/80\n",
            "1563/1563 [==============================] - 6s 4ms/step - loss: 3536.3652 - mae: 15.3375 - val_loss: 1091.6779 - val_mae: 19.0274\n",
            "Epoch 40/80\n",
            "1563/1563 [==============================] - 5s 4ms/step - loss: 2548.1113 - mae: 15.1038 - val_loss: 1096.7172 - val_mae: 18.0815\n",
            "Epoch 41/80\n",
            "1563/1563 [==============================] - 5s 3ms/step - loss: 1728.6494 - mae: 14.9115 - val_loss: 1062.4712 - val_mae: 18.4385\n",
            "Epoch 42/80\n",
            "1563/1563 [==============================] - 5s 3ms/step - loss: 2879.6177 - mae: 14.9366 - val_loss: 1109.5280 - val_mae: 18.5323\n",
            "Epoch 43/80\n",
            "1563/1563 [==============================] - 5s 3ms/step - loss: 770.7844 - mae: 14.5309 - val_loss: 1045.8542 - val_mae: 17.9811\n",
            "Epoch 44/80\n",
            "1563/1563 [==============================] - 5s 3ms/step - loss: 877.4080 - mae: 14.5204 - val_loss: 1114.2480 - val_mae: 18.4021\n",
            "Epoch 45/80\n",
            "1563/1563 [==============================] - 6s 4ms/step - loss: 925.1809 - mae: 14.6714 - val_loss: 1122.5442 - val_mae: 18.6802\n",
            "Epoch 46/80\n",
            "1563/1563 [==============================] - 6s 4ms/step - loss: 3160.1553 - mae: 14.8743 - val_loss: 1029.5643 - val_mae: 17.8701\n",
            "Epoch 47/80\n",
            "1563/1563 [==============================] - 6s 4ms/step - loss: 2003.6437 - mae: 14.0923 - val_loss: 1146.8627 - val_mae: 20.0405\n",
            "Epoch 48/80\n",
            "1563/1563 [==============================] - 5s 3ms/step - loss: 4540.1362 - mae: 14.2550 - val_loss: 1046.1555 - val_mae: 17.8852\n",
            "Epoch 49/80\n",
            "1563/1563 [==============================] - 5s 4ms/step - loss: 770.4195 - mae: 13.9212 - val_loss: 1118.0775 - val_mae: 18.7232\n",
            "Epoch 50/80\n",
            "1563/1563 [==============================] - 5s 3ms/step - loss: 2140.3210 - mae: 14.4627 - val_loss: 1044.2399 - val_mae: 17.9836\n",
            "Epoch 51/80\n",
            "1563/1563 [==============================] - 6s 4ms/step - loss: 2733.9280 - mae: 14.1394 - val_loss: 1070.4380 - val_mae: 18.3397\n",
            "Epoch 52/80\n",
            "1563/1563 [==============================] - 5s 3ms/step - loss: 3791.3911 - mae: 13.8284 - val_loss: 1044.0505 - val_mae: 18.0390\n",
            "Epoch 53/80\n",
            "1563/1563 [==============================] - 5s 3ms/step - loss: 582.7062 - mae: 13.3334 - val_loss: 1093.4835 - val_mae: 18.8665\n",
            "Epoch 54/80\n",
            "1563/1563 [==============================] - 5s 3ms/step - loss: 4994.5742 - mae: 13.7159 - val_loss: 1101.0673 - val_mae: 18.5429\n",
            "Epoch 55/80\n",
            "1563/1563 [==============================] - 5s 4ms/step - loss: 1355.2338 - mae: 13.6703 - val_loss: 1134.8152 - val_mae: 18.8150\n",
            "Epoch 56/80\n",
            "1563/1563 [==============================] - 5s 3ms/step - loss: 799.1465 - mae: 13.3091 - val_loss: 1045.4937 - val_mae: 17.7262\n",
            "Epoch 57/80\n",
            "1563/1563 [==============================] - 6s 4ms/step - loss: 948.9655 - mae: 13.4690 - val_loss: 1067.4708 - val_mae: 18.0569\n",
            "Epoch 58/80\n",
            "1563/1563 [==============================] - 5s 4ms/step - loss: 1072.6663 - mae: 13.2248 - val_loss: 1077.2773 - val_mae: 18.0187\n",
            "Epoch 59/80\n",
            "1563/1563 [==============================] - 5s 3ms/step - loss: 942.0391 - mae: 13.1100 - val_loss: 1050.8970 - val_mae: 17.7870\n",
            "Epoch 60/80\n",
            "1563/1563 [==============================] - 5s 3ms/step - loss: 1347.2694 - mae: 13.2703 - val_loss: 1050.8615 - val_mae: 17.7760\n",
            "Epoch 61/80\n",
            "1563/1563 [==============================] - 6s 4ms/step - loss: 1512.5361 - mae: 13.1105 - val_loss: 1102.5378 - val_mae: 18.8044\n",
            "Epoch 62/80\n",
            "1563/1563 [==============================] - 5s 4ms/step - loss: 1568.3536 - mae: 13.1425 - val_loss: 1044.8118 - val_mae: 18.0484\n",
            "Epoch 63/80\n",
            "1563/1563 [==============================] - 5s 3ms/step - loss: 560.6874 - mae: 12.5231 - val_loss: 1049.4137 - val_mae: 18.0479\n",
            "Epoch 64/80\n",
            "1563/1563 [==============================] - 5s 4ms/step - loss: 576.8697 - mae: 12.5059 - val_loss: 1043.5890 - val_mae: 17.7682\n",
            "Epoch 65/80\n",
            "1563/1563 [==============================] - 5s 3ms/step - loss: 616.2744 - mae: 12.5432 - val_loss: 1027.2659 - val_mae: 17.5484\n",
            "Epoch 66/80\n",
            "1563/1563 [==============================] - 5s 4ms/step - loss: 626.5554 - mae: 12.4709 - val_loss: 1054.9595 - val_mae: 17.9301\n",
            "Epoch 67/80\n",
            "1563/1563 [==============================] - 5s 3ms/step - loss: 830.3265 - mae: 12.5958 - val_loss: 1078.6302 - val_mae: 18.1657\n",
            "Epoch 68/80\n",
            "1563/1563 [==============================] - 5s 3ms/step - loss: 1797.6951 - mae: 12.6483 - val_loss: 1106.0295 - val_mae: 18.5461\n",
            "Epoch 69/80\n",
            "1563/1563 [==============================] - 5s 3ms/step - loss: 1313.4570 - mae: 12.0463 - val_loss: 1062.2524 - val_mae: 17.8702\n",
            "Epoch 70/80\n",
            "1563/1563 [==============================] - 5s 3ms/step - loss: 3478.2612 - mae: 12.4014 - val_loss: 1053.6560 - val_mae: 17.8871\n",
            "Epoch 71/80\n",
            "1563/1563 [==============================] - 5s 3ms/step - loss: 2562.3325 - mae: 12.1977 - val_loss: 1066.8416 - val_mae: 18.0017\n",
            "Epoch 72/80\n",
            "1563/1563 [==============================] - 6s 4ms/step - loss: 5526.3916 - mae: 12.3256 - val_loss: 1045.5581 - val_mae: 17.6282\n",
            "Epoch 73/80\n",
            "1563/1563 [==============================] - 5s 3ms/step - loss: 3332.7407 - mae: 12.2619 - val_loss: 1069.8615 - val_mae: 18.0172\n",
            "Epoch 74/80\n",
            "1563/1563 [==============================] - 5s 3ms/step - loss: 1214.1312 - mae: 12.0949 - val_loss: 1054.6073 - val_mae: 18.1992\n",
            "Epoch 75/80\n",
            "1563/1563 [==============================] - 5s 3ms/step - loss: 2614.6321 - mae: 12.1743 - val_loss: 1075.0887 - val_mae: 17.9839\n",
            "Epoch 76/80\n",
            "1563/1563 [==============================] - 6s 4ms/step - loss: 2189.7031 - mae: 12.1329 - val_loss: 1063.2296 - val_mae: 17.9804\n",
            "Epoch 77/80\n",
            "1563/1563 [==============================] - 6s 4ms/step - loss: 1071.0303 - mae: 11.9539 - val_loss: 1042.4839 - val_mae: 17.6757\n",
            "Epoch 78/80\n",
            "1563/1563 [==============================] - 6s 4ms/step - loss: 1393.7194 - mae: 11.8566 - val_loss: 1057.5065 - val_mae: 17.8567\n",
            "Epoch 79/80\n",
            "1563/1563 [==============================] - 5s 3ms/step - loss: 1297.4191 - mae: 11.8164 - val_loss: 1080.0975 - val_mae: 18.1136\n",
            "Epoch 80/80\n",
            "1563/1563 [==============================] - 5s 3ms/step - loss: 906.1804 - mae: 11.9233 - val_loss: 1090.2471 - val_mae: 18.1764\n"
          ],
          "name": "stdout"
        }
      ]
    },
    {
      "cell_type": "code",
      "metadata": {
        "id": "TlExFRlPdF2r",
        "colab": {
          "base_uri": "https://localhost:8080/",
          "height": 279
        },
        "outputId": "2ca5f19d-bfb3-4f16-c472-75bf27e9235b"
      },
      "source": [
        "plt.plot(history.history['mae'], \n",
        "         label='Средняя абсолютная ошибка на обучающем наборе')\n",
        "plt.plot(history.history['val_mae'], \n",
        "         label='Средняя абсолютная ошибка на проверочном наборе')\n",
        "plt.xlabel('Эпоха обучения')\n",
        "plt.ylabel('Средняя абсолютная ошибка')\n",
        "plt.legend()\n",
        "plt.show()"
      ],
      "execution_count": null,
      "outputs": [
        {
          "output_type": "display_data",
          "data": {
            "image/png": "[encoded data removed]",
            "text/plain": [
              "<Figure size 432x288 with 1 Axes>"
            ]
          },
          "metadata": {
            "tags": [],
            "needs_background": "light"
          }
        }
      ]
    },
    {
      "cell_type": "code",
      "metadata": {
        "id": "gfZbZHjqdQtG",
        "colab": {
          "base_uri": "https://localhost:8080/",
          "height": 280
        },
        "outputId": "8efc1de2-f401-4d4f-cf48-aee76fe32346"
      },
      "source": [
        "yy = yTrain[50000:] # Зарплата\n",
        "pred = model.predict([xTrain01[50000:], xTrainRez01[50000:]]) # Предсказанная зарплата\n",
        "plt.scatter(yy, pred)\n",
        "plt.xlabel('Правильные значение')\n",
        "plt.ylabel('Предсказания')\n",
        "plt.axis('equal')\n",
        "plt.xlim(plt.xlim())\n",
        "plt.ylim(plt.ylim())\n",
        "plt.plot([-1000, 1000], [-1000, 1000])\n",
        "plt.show()"
      ],
      "execution_count": null,
      "outputs": [
        {
          "output_type": "display_data",
          "data": {
            "image/png": "[encoded data removed]",
            "text/plain": [
              "<Figure size 432x288 with 1 Axes>"
            ]
          },
          "metadata": {
            "tags": [],
            "needs_background": "light"
          }
        }
      ]
    },
    {
      "cell_type": "code",
      "metadata": {
        "id": "_jafWlnbfRPV"
      },
      "source": [
        "del xTrainRez01, xTrainRezIndexes # Удаляем некоторые переменные, иначе дальше может вылететь из-за нехватки памяти"
      ],
      "execution_count": null,
      "outputs": []
    }
  ]
}