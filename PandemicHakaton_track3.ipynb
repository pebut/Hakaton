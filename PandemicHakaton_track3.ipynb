{
  "nbformat": 4,
  "nbformat_minor": 0,
  "metadata": {
    "colab": {
      "name": "PandemicHakaton track3",
      "provenance": [],
      "collapsed_sections": [
        "t6Qo4UKqldyH"
      ],
      "toc_visible": true,
      "machine_shape": "hm",
      "include_colab_link": true
    },
    "kernelspec": {
      "name": "python3",
      "display_name": "Python 3"
    },
    "accelerator": "GPU"
  },
  "cells": [
    {
      "cell_type": "markdown",
      "metadata": {
        "id": "view-in-github",
        "colab_type": "text"
      },
      "source": [
        "<a href=\"https://colab.research.google.com/github/pebut/Hakaton/blob/main/PandemicHakaton_track3.ipynb\" target=\"_parent\"><img src=\"https://colab.research.google.com/assets/colab-badge.svg\" alt=\"Open In Colab\"/></a>"
      ]
    },
    {
      "cell_type": "code",
      "metadata": {
        "id": "SkQ2zSVRR_De"
      },
      "source": [
        "import numpy as np #Библиотека работы с массивами\n",
        "import pandas as pd # Библиотека для работы с базами\n",
        "import math\n",
        "\n",
        "from tensorflow.keras.models import Sequential, Model # \n",
        "from tensorflow.keras.layers import concatenate, Input, Dense, Dropout, BatchNormalization, Flatten #\n",
        "from tensorflow.keras import utils #Используем для to_categoricall\n",
        "from tensorflow.keras.optimizers import Adam,Adadelta,SGD,Adagrad,RMSprop #\n",
        "from tensorflow.keras.preprocessing.text import Tokenizer, text_to_word_sequence #\n",
        "from tensorflow.keras.preprocessing.sequence import pad_sequences #\n",
        "from tensorflow.keras.callbacks import LambdaCallback # подключаем колбэки\n",
        "\n",
        "from sklearn.preprocessing import StandardScaler # \n",
        "from sklearn.model_selection import train_test_split # Для разбивки на выборки\n",
        "from sklearn.metrics import mean_squared_error, mean_absolute_error #\n",
        "#from google.colab import files #Для загрузки своей картинки\n",
        "\n",
        "import random #Для генерации случайных чисел \n",
        "import math # Для округления\n",
        "#import os #Для работы с файлами \n",
        "import re #\n",
        "import matplotlib.pyplot as plt #\n",
        "%matplotlib inline\n",
        "\n",
        "from IPython.display import clear_output\n"
      ],
      "execution_count": 1,
      "outputs": []
    },
    {
      "cell_type": "code",
      "metadata": {
        "id": "3Ywrz1ojUx1-",
        "colab": {
          "base_uri": "https://localhost:8080/"
        },
        "outputId": "3df59326-1a55-4ddf-a421-ee467b8cf47a"
      },
      "source": [
        "from google.colab import drive # Подключаем диск\n",
        "drive.mount('/content/drive')"
      ],
      "execution_count": 3,
      "outputs": [
        {
          "output_type": "stream",
          "text": [
            "Drive already mounted at /content/drive; to attempt to forcibly remount, call drive.mount(\"/content/drive\", force_remount=True).\n"
          ],
          "name": "stdout"
        }
      ]
    },
    {
      "cell_type": "markdown",
      "metadata": {
        "id": "sToPAfpCGz58"
      },
      "source": [
        "Осторожно! Запуск всех разделов сразу, может привести к недостатку памяти и сессия перезапустится."
      ]
    },
    {
      "cell_type": "markdown",
      "metadata": {
        "id": "ZTgB9b8ZsgYp"
      },
      "source": [
        ""
      ]
    },
    {
      "cell_type": "markdown",
      "metadata": {
        "id": "2xBnS-kldFyq"
      },
      "source": [
        "##Загружаем базу и смотрим содержание\n",
        "\n"
      ]
    },
    {
      "cell_type": "code",
      "metadata": {
        "colab": {
          "base_uri": "https://localhost:8080/"
        },
        "id": "fD8EloxuPHj2",
        "outputId": "6ea5e1e8-0678-4557-8dee-9680d779ba39"
      },
      "source": [
        "from google.colab import drive\r\n",
        "drive.mount('/content/drive')"
      ],
      "execution_count": 19,
      "outputs": [
        {
          "output_type": "stream",
          "text": [
            "Drive already mounted at /content/drive; to attempt to forcibly remount, call drive.mount(\"/content/drive\", force_remount=True).\n"
          ],
          "name": "stdout"
        }
      ]
    },
    {
      "cell_type": "code",
      "metadata": {
        "id": "_9NNZQ87OVOz"
      },
      "source": [
        "\r\n",
        "fixed_df = pd.read_csv('/content/drive/MyDrive/Hakaton/train.csv', sep=';',encoding='utf8')\r\n",
        "\r\n"
      ],
      "execution_count": 2,
      "outputs": []
    },
    {
      "cell_type": "code",
      "metadata": {
        "id": "jIGYVOpeYaB1"
      },
      "source": [
        "test = pd.read_csv('/content/drive/MyDrive/Hakaton/test.csv', sep=';',encoding='utf8')"
      ],
      "execution_count": null,
      "outputs": []
    },
    {
      "cell_type": "code",
      "metadata": {
        "id": "kjE4vGK0a9RI"
      },
      "source": [
        "gorod = pd.read_csv('/content/drive/MyDrive/Hakaton/spisok_gorodov.csv', sep=';',encoding='utf8')"
      ],
      "execution_count": 3,
      "outputs": []
    },
    {
      "cell_type": "code",
      "metadata": {
        "colab": {
          "base_uri": "https://localhost:8080/",
          "height": 199
        },
        "id": "EYkcNopLbV9C",
        "outputId": "72fdc4e4-09e4-49fd-c24e-da998c563faa"
      },
      "source": [
        "gorod.head()"
      ],
      "execution_count": 4,
      "outputs": [
        {
          "output_type": "execute_result",
          "data": {
            "text/html": [
              "<div>\n",
              "<style scoped>\n",
              "    .dataframe tbody tr th:only-of-type {\n",
              "        vertical-align: middle;\n",
              "    }\n",
              "\n",
              "    .dataframe tbody tr th {\n",
              "        vertical-align: top;\n",
              "    }\n",
              "\n",
              "    .dataframe thead th {\n",
              "        text-align: right;\n",
              "    }\n",
              "</style>\n",
              "<table border=\"1\" class=\"dataframe\">\n",
              "  <thead>\n",
              "    <tr style=\"text-align: right;\">\n",
              "      <th></th>\n",
              "      <th>No</th>\n",
              "      <th>City</th>\n",
              "      <th>Type</th>\n",
              "    </tr>\n",
              "  </thead>\n",
              "  <tbody>\n",
              "    <tr>\n",
              "      <th>0</th>\n",
              "      <td>1</td>\n",
              "      <td>Адыгейск</td>\n",
              "      <td>Малый</td>\n",
              "    </tr>\n",
              "    <tr>\n",
              "      <th>1</th>\n",
              "      <td>2</td>\n",
              "      <td>Майкоп</td>\n",
              "      <td>Большой</td>\n",
              "    </tr>\n",
              "    <tr>\n",
              "      <th>2</th>\n",
              "      <td>3</td>\n",
              "      <td>Горно-Алтайск</td>\n",
              "      <td>Средний</td>\n",
              "    </tr>\n",
              "    <tr>\n",
              "      <th>3</th>\n",
              "      <td>4</td>\n",
              "      <td>Алейск</td>\n",
              "      <td>Малый</td>\n",
              "    </tr>\n",
              "    <tr>\n",
              "      <th>4</th>\n",
              "      <td>5</td>\n",
              "      <td>Барнаул</td>\n",
              "      <td>Крупнейший</td>\n",
              "    </tr>\n",
              "  </tbody>\n",
              "</table>\n",
              "</div>"
            ],
            "text/plain": [
              "   No           City        Type\n",
              "0   1       Адыгейск       Малый\n",
              "1   2         Майкоп     Большой\n",
              "2   3  Горно-Алтайск     Средний\n",
              "3   4         Алейск       Малый\n",
              "4   5        Барнаул  Крупнейший"
            ]
          },
          "metadata": {
            "tags": []
          },
          "execution_count": 4
        }
      ]
    },
    {
      "cell_type": "code",
      "metadata": {
        "id": "rTvbR5UZX3jq"
      },
      "source": [
        "f=open('/content/drive/MyDrive/Hakaton/unique_pos.txt')\r\n",
        "s=(f.read())\r\n",
        "pos=s.split(',')#вместо запятой может бить точка, любой символ\r\n",
        "print(pos)   #(если у вас в файле дание через пробел топишем  пробел, через точку-точку)\r\n",
        "f.close()"
      ],
      "execution_count": null,
      "outputs": []
    },
    {
      "cell_type": "code",
      "metadata": {
        "id": "bhxskfl6gWiZ",
        "colab": {
          "base_uri": "https://localhost:8080/"
        },
        "outputId": "4708ddd8-5290-48b7-c2ef-3f64af38cc4f"
      },
      "source": [
        "# Количество резюме и критерии\n",
        "print(fixed_df.shape)"
      ],
      "execution_count": 5,
      "outputs": [
        {
          "output_type": "stream",
          "text": [
            "(306270, 25)\n"
          ],
          "name": "stdout"
        }
      ]
    },
    {
      "cell_type": "code",
      "metadata": {
        "id": "fAIunUIBnNGD",
        "colab": {
          "base_uri": "https://localhost:8080/",
          "height": 812
        },
        "outputId": "7eb5678a-721f-49f9-e519-c5e9cf236d5f"
      },
      "source": [
        "fixed_df.head(10)"
      ],
      "execution_count": 9,
      "outputs": [
        {
          "output_type": "execute_result",
          "data": {
            "text/html": [
              "<div>\n",
              "<style scoped>\n",
              "    .dataframe tbody tr th:only-of-type {\n",
              "        vertical-align: middle;\n",
              "    }\n",
              "\n",
              "    .dataframe tbody tr th {\n",
              "        vertical-align: top;\n",
              "    }\n",
              "\n",
              "    .dataframe thead th {\n",
              "        text-align: right;\n",
              "    }\n",
              "</style>\n",
              "<table border=\"1\" class=\"dataframe\">\n",
              "  <thead>\n",
              "    <tr style=\"text-align: right;\">\n",
              "      <th></th>\n",
              "      <th>id</th>\n",
              "      <th>position</th>\n",
              "      <th>region</th>\n",
              "      <th>industry</th>\n",
              "      <th>locality</th>\n",
              "      <th>locality_name</th>\n",
              "      <th>education_type</th>\n",
              "      <th>drive_licences</th>\n",
              "      <th>citizenship</th>\n",
              "      <th>schedule</th>\n",
              "      <th>employement_type</th>\n",
              "      <th>age</th>\n",
              "      <th>gender</th>\n",
              "      <th>experience</th>\n",
              "      <th>salary_desired</th>\n",
              "      <th>relocation_ready</th>\n",
              "      <th>travel_ready</th>\n",
              "      <th>retraining_ready</th>\n",
              "      <th>is_worldskills_participant</th>\n",
              "      <th>has_qualifications</th>\n",
              "      <th>completeness_rate</th>\n",
              "      <th>creation_date</th>\n",
              "      <th>modification_date</th>\n",
              "      <th>publish_date</th>\n",
              "      <th>salary</th>\n",
              "    </tr>\n",
              "  </thead>\n",
              "  <tbody>\n",
              "    <tr>\n",
              "      <th>0</th>\n",
              "      <td>0</td>\n",
              "      <td>Специалист</td>\n",
              "      <td>Тульская область</td>\n",
              "      <td>Государственная служба, некоммерческие организ...</td>\n",
              "      <td>7100000100000</td>\n",
              "      <td>Тула</td>\n",
              "      <td>Незаконченное высшее</td>\n",
              "      <td>[B]</td>\n",
              "      <td>Российская Федерация</td>\n",
              "      <td>Полный рабочий день</td>\n",
              "      <td>Полная занятость</td>\n",
              "      <td>21.0</td>\n",
              "      <td>Мужской</td>\n",
              "      <td>3</td>\n",
              "      <td>35000</td>\n",
              "      <td>False</td>\n",
              "      <td>False</td>\n",
              "      <td>True</td>\n",
              "      <td>NaN</td>\n",
              "      <td>NaN</td>\n",
              "      <td>64.0</td>\n",
              "      <td>2020-05-07</td>\n",
              "      <td>2020-05-08</td>\n",
              "      <td>2020-05-07</td>\n",
              "      <td>37500</td>\n",
              "    </tr>\n",
              "    <tr>\n",
              "      <th>1</th>\n",
              "      <td>1</td>\n",
              "      <td>Лаборант</td>\n",
              "      <td>Алтайский край</td>\n",
              "      <td>Государственная служба, некоммерческие организ...</td>\n",
              "      <td>2200000100000</td>\n",
              "      <td>Барнаул</td>\n",
              "      <td>Высшее</td>\n",
              "      <td>[B]</td>\n",
              "      <td>Российская Федерация</td>\n",
              "      <td>Полный рабочий день</td>\n",
              "      <td>Полная занятость</td>\n",
              "      <td>26.0</td>\n",
              "      <td>Женский</td>\n",
              "      <td>4</td>\n",
              "      <td>15000</td>\n",
              "      <td>False</td>\n",
              "      <td>True</td>\n",
              "      <td>True</td>\n",
              "      <td>NaN</td>\n",
              "      <td>NaN</td>\n",
              "      <td>88.0</td>\n",
              "      <td>2020-10-21</td>\n",
              "      <td>2020-10-27</td>\n",
              "      <td>2020-10-27</td>\n",
              "      <td>14000</td>\n",
              "    </tr>\n",
              "    <tr>\n",
              "      <th>2</th>\n",
              "      <td>3</td>\n",
              "      <td>Специалист, администратор, бухгалтер, экономист</td>\n",
              "      <td>Ульяновская область</td>\n",
              "      <td>Административная работа, секретариат, АХО</td>\n",
              "      <td>7300000200000</td>\n",
              "      <td>Димитровград</td>\n",
              "      <td>Высшее</td>\n",
              "      <td>[B]</td>\n",
              "      <td>Российская Федерация</td>\n",
              "      <td>Полный рабочий день</td>\n",
              "      <td>Полная занятость</td>\n",
              "      <td>36.0</td>\n",
              "      <td>Женский</td>\n",
              "      <td>12</td>\n",
              "      <td>20000</td>\n",
              "      <td>False</td>\n",
              "      <td>NaN</td>\n",
              "      <td>True</td>\n",
              "      <td>NaN</td>\n",
              "      <td>NaN</td>\n",
              "      <td>78.0</td>\n",
              "      <td>2019-04-25</td>\n",
              "      <td>2020-02-04</td>\n",
              "      <td>2020-02-04</td>\n",
              "      <td>24600</td>\n",
              "    </tr>\n",
              "    <tr>\n",
              "      <th>3</th>\n",
              "      <td>4</td>\n",
              "      <td>Специалист</td>\n",
              "      <td>Свердловская область</td>\n",
              "      <td>Государственная служба, некоммерческие организ...</td>\n",
              "      <td>6600002300000</td>\n",
              "      <td>Нижний Тагил</td>\n",
              "      <td>Высшее</td>\n",
              "      <td>[B]</td>\n",
              "      <td>Российская Федерация</td>\n",
              "      <td>Полный рабочий день</td>\n",
              "      <td>Полная занятость</td>\n",
              "      <td>34.0</td>\n",
              "      <td>Женский</td>\n",
              "      <td>9</td>\n",
              "      <td>30000</td>\n",
              "      <td>False</td>\n",
              "      <td>False</td>\n",
              "      <td>False</td>\n",
              "      <td>NaN</td>\n",
              "      <td>NaN</td>\n",
              "      <td>91.0</td>\n",
              "      <td>2020-09-19</td>\n",
              "      <td>2020-09-20</td>\n",
              "      <td>2020-09-19</td>\n",
              "      <td>16075</td>\n",
              "    </tr>\n",
              "    <tr>\n",
              "      <th>4</th>\n",
              "      <td>5</td>\n",
              "      <td>Инструктор по плаванию</td>\n",
              "      <td>Иркутская область</td>\n",
              "      <td>Здравоохранение, спорт, красота, социальное об...</td>\n",
              "      <td>3800000400000</td>\n",
              "      <td>Ангарск</td>\n",
              "      <td>NaN</td>\n",
              "      <td>NaN</td>\n",
              "      <td>Российская Федерация</td>\n",
              "      <td>Полный рабочий день</td>\n",
              "      <td>Полная занятость</td>\n",
              "      <td>25.0</td>\n",
              "      <td>Мужской</td>\n",
              "      <td>1</td>\n",
              "      <td>40000</td>\n",
              "      <td>False</td>\n",
              "      <td>NaN</td>\n",
              "      <td>NaN</td>\n",
              "      <td>NaN</td>\n",
              "      <td>NaN</td>\n",
              "      <td>58.0</td>\n",
              "      <td>2020-04-20</td>\n",
              "      <td>2020-09-09</td>\n",
              "      <td>2020-04-21</td>\n",
              "      <td>22080</td>\n",
              "    </tr>\n",
              "    <tr>\n",
              "      <th>5</th>\n",
              "      <td>8</td>\n",
              "      <td>учитель технологии</td>\n",
              "      <td>Тюменская область</td>\n",
              "      <td>Образование, наука</td>\n",
              "      <td>7200000000000</td>\n",
              "      <td>Тюменская</td>\n",
              "      <td>NaN</td>\n",
              "      <td>NaN</td>\n",
              "      <td>Российская Федерация</td>\n",
              "      <td>Полный рабочий день</td>\n",
              "      <td>Полная занятость</td>\n",
              "      <td>49.0</td>\n",
              "      <td>Женский</td>\n",
              "      <td>0</td>\n",
              "      <td>31140</td>\n",
              "      <td>False</td>\n",
              "      <td>True</td>\n",
              "      <td>True</td>\n",
              "      <td>NaN</td>\n",
              "      <td>NaN</td>\n",
              "      <td>57.0</td>\n",
              "      <td>2019-08-09</td>\n",
              "      <td>2019-08-09</td>\n",
              "      <td>2019-08-09</td>\n",
              "      <td>31140</td>\n",
              "    </tr>\n",
              "    <tr>\n",
              "      <th>6</th>\n",
              "      <td>9</td>\n",
              "      <td>контролер отк</td>\n",
              "      <td>Республика Татарстан</td>\n",
              "      <td>Строительство, ремонт, стройматериалы, недвижи...</td>\n",
              "      <td>1600000000000</td>\n",
              "      <td>Татарстан</td>\n",
              "      <td>Среднее профессиональное</td>\n",
              "      <td>NaN</td>\n",
              "      <td>Российская Федерация</td>\n",
              "      <td>Полный рабочий день</td>\n",
              "      <td>Полная занятость</td>\n",
              "      <td>NaN</td>\n",
              "      <td>NaN</td>\n",
              "      <td>17</td>\n",
              "      <td>20000</td>\n",
              "      <td>False</td>\n",
              "      <td>True</td>\n",
              "      <td>True</td>\n",
              "      <td>NaN</td>\n",
              "      <td>NaN</td>\n",
              "      <td>62.0</td>\n",
              "      <td>2020-07-23</td>\n",
              "      <td>2020-10-22</td>\n",
              "      <td>2020-08-01</td>\n",
              "      <td>27600</td>\n",
              "    </tr>\n",
              "    <tr>\n",
              "      <th>7</th>\n",
              "      <td>10</td>\n",
              "      <td>Юрист, Юриспруденция, ФССП, Федеральная Служба...</td>\n",
              "      <td>Республика Саха (Якутия)</td>\n",
              "      <td>Государственная служба, некоммерческие организ...</td>\n",
              "      <td>1400000100000</td>\n",
              "      <td>Якутск</td>\n",
              "      <td>Высшее</td>\n",
              "      <td>NaN</td>\n",
              "      <td>Российская Федерация</td>\n",
              "      <td>Полный рабочий день</td>\n",
              "      <td>Полная занятость</td>\n",
              "      <td>25.0</td>\n",
              "      <td>Мужской</td>\n",
              "      <td>1</td>\n",
              "      <td>30000</td>\n",
              "      <td>False</td>\n",
              "      <td>True</td>\n",
              "      <td>True</td>\n",
              "      <td>NaN</td>\n",
              "      <td>NaN</td>\n",
              "      <td>88.0</td>\n",
              "      <td>2020-05-26</td>\n",
              "      <td>2020-05-27</td>\n",
              "      <td>2020-05-27</td>\n",
              "      <td>33120</td>\n",
              "    </tr>\n",
              "    <tr>\n",
              "      <th>8</th>\n",
              "      <td>12</td>\n",
              "      <td>Кондитер</td>\n",
              "      <td>Забайкальский край</td>\n",
              "      <td>Пищевая промышленность</td>\n",
              "      <td>7500000100000</td>\n",
              "      <td>Чита</td>\n",
              "      <td>Среднее профессиональное</td>\n",
              "      <td>NaN</td>\n",
              "      <td>Российская Федерация</td>\n",
              "      <td>Полный рабочий день</td>\n",
              "      <td>Полная занятость</td>\n",
              "      <td>28.0</td>\n",
              "      <td>Мужской</td>\n",
              "      <td>2</td>\n",
              "      <td>30000</td>\n",
              "      <td>False</td>\n",
              "      <td>NaN</td>\n",
              "      <td>True</td>\n",
              "      <td>NaN</td>\n",
              "      <td>NaN</td>\n",
              "      <td>63.0</td>\n",
              "      <td>2020-04-25</td>\n",
              "      <td>2020-07-27</td>\n",
              "      <td>2020-04-25</td>\n",
              "      <td>22500</td>\n",
              "    </tr>\n",
              "    <tr>\n",
              "      <th>9</th>\n",
              "      <td>13</td>\n",
              "      <td>Бурильщик ЭРБС</td>\n",
              "      <td>Пермский край</td>\n",
              "      <td>Добывающая промышленность</td>\n",
              "      <td>5900000000000</td>\n",
              "      <td>Пермский</td>\n",
              "      <td>NaN</td>\n",
              "      <td>NaN</td>\n",
              "      <td>Российская Федерация</td>\n",
              "      <td>Полный рабочий день,Вахтовый метод</td>\n",
              "      <td>Полная занятость</td>\n",
              "      <td>32.0</td>\n",
              "      <td>Мужской</td>\n",
              "      <td>0</td>\n",
              "      <td>60000</td>\n",
              "      <td>False</td>\n",
              "      <td>True</td>\n",
              "      <td>True</td>\n",
              "      <td>NaN</td>\n",
              "      <td>NaN</td>\n",
              "      <td>52.0</td>\n",
              "      <td>2020-04-17</td>\n",
              "      <td>2020-07-10</td>\n",
              "      <td>2020-04-20</td>\n",
              "      <td>139104</td>\n",
              "    </tr>\n",
              "  </tbody>\n",
              "</table>\n",
              "</div>"
            ],
            "text/plain": [
              "   id                                           position  ... publish_date  salary\n",
              "0   0                                         Специалист  ...   2020-05-07   37500\n",
              "1   1                                           Лаборант  ...   2020-10-27   14000\n",
              "2   3    Специалист, администратор, бухгалтер, экономист  ...   2020-02-04   24600\n",
              "3   4                                         Специалист  ...   2020-09-19   16075\n",
              "4   5                             Инструктор по плаванию  ...   2020-04-21   22080\n",
              "5   8                                 учитель технологии  ...   2019-08-09   31140\n",
              "6   9                                      контролер отк  ...   2020-08-01   27600\n",
              "7  10  Юрист, Юриспруденция, ФССП, Федеральная Служба...  ...   2020-05-27   33120\n",
              "8  12                                           Кондитер  ...   2020-04-25   22500\n",
              "9  13                                     Бурильщик ЭРБС  ...   2020-04-20  139104\n",
              "\n",
              "[10 rows x 25 columns]"
            ]
          },
          "metadata": {
            "tags": []
          },
          "execution_count": 9
        }
      ]
    },
    {
      "cell_type": "code",
      "metadata": {
        "id": "uJDzeCxKgqkS",
        "colab": {
          "base_uri": "https://localhost:8080/"
        },
        "outputId": "a918858e-66e0-463c-bdc3-bcf23f1c4b27"
      },
      "source": [
        "# Пример данных\n",
        "n = 0 # Берем первое резюме\n",
        "for i in range(len(fixed_df.values[n])): # Выводим значение каждой графы резюме\n",
        "  print(i, \" \", fixed_df.values[n][i])"
      ],
      "execution_count": 22,
      "outputs": [
        {
          "output_type": "stream",
          "text": [
            "0   0\n",
            "1   Специалист\n",
            "2   Тульская область\n",
            "3   Государственная служба, некоммерческие организации\n",
            "4   7100000100000\n",
            "5   Тула\n",
            "6   Незаконченное высшее\n",
            "7   [B]\n",
            "8   Российская Федерация\n",
            "9   Полный рабочий день\n",
            "10   Полная занятость\n",
            "11   21.0\n",
            "12   Мужской\n",
            "13   3\n",
            "14   35000\n",
            "15   False\n",
            "16   False\n",
            "17   True\n",
            "18   nan\n",
            "19   nan\n",
            "20   64.0\n",
            "21   2020-05-07\n",
            "22   2020-05-08\n",
            "23   2020-05-07\n",
            "24   37500\n"
          ],
          "name": "stdout"
        }
      ]
    },
    {
      "cell_type": "markdown",
      "metadata": {
        "id": "JS293Wo3lGMd"
      },
      "source": [
        "## Парсим базу\n",
        "\n",
        "\n",
        "\n",
        "\n",
        "\n"
      ]
    },
    {
      "cell_type": "code",
      "metadata": {
        "colab": {
          "base_uri": "https://localhost:8080/"
        },
        "id": "tdrnilmpFiC4",
        "outputId": "2c5a12f8-62b6-46d9-982b-54612e6a660a"
      },
      "source": [
        "fixed_df = fixed_df.drop(fixed_df[fixed_df.salary<10].index, axis=0 )\r\n",
        "fixed_df.shape"
      ],
      "execution_count": 5,
      "outputs": [
        {
          "output_type": "execute_result",
          "data": {
            "text/plain": [
              "(303851, 25)"
            ]
          },
          "metadata": {
            "tags": []
          },
          "execution_count": 5
        }
      ]
    },
    {
      "cell_type": "code",
      "metadata": {
        "id": "g-nYtToClWt4"
      },
      "source": [
        "def getParameterPos(arg):\n",
        "  out=[]\n",
        "  for i in range(len(pos)):\n",
        "   out.append(0)\n",
        "  if arg==arg:\n",
        "    arg = str.lower(arg)\n",
        "    for j in range(len(pos)-1):\n",
        "      if pos[j] in arg:\n",
        "        out[j] = 1\n",
        "  return out\n",
        "\n",
        "\n",
        "\n",
        "#! Boolean тип кодирования с учетом NaN\n",
        "def getParameterBool(arg):\n",
        "  out = [0,0]\n",
        "  if arg =='True':\n",
        "    out = [1,0]\n",
        "  elif arg=='False':\n",
        "    out = [0,1]\n",
        "  return out\n",
        "\n",
        "#! Данные о поле gender\n",
        "def getParameterSex(arg):\n",
        "  out = [0,0]\n",
        "  #Если М, то 1. По умолчанию 0 - Ж\n",
        "  if arg=='Мужской':\n",
        "    out = [1,0]\n",
        "  elif arg=='Женский':\n",
        "    out = [0,1]\n",
        "  return out\n",
        "\n",
        "#! Полученный возраст превращаем в класс возрастной категории\n",
        "def getParameterAgeVect(arg):\n",
        "  if arg > 14 and arg < 80:\n",
        "    arg=arg\n",
        "  else: arg = 0\n",
        "  outClass =int((arg-13)/5)\n",
        "  outClass = max(0, min(10,outClass))\n",
        "  \n",
        "  # На выходе получаем вектор с нужной категорией возраста\n",
        "  return list(utils.to_categorical(outClass, 11).astype('int'))\n",
        "\n",
        "#! Получаем параметер водительских прав\n",
        "def getParameterdriveLicence(arg):\n",
        "  out = [0, 0, 0, 0, 0, 0]\n",
        "  if arg ==arg:\n",
        "    if (\"A\" in arg):    out[0]=1\n",
        "    if (\"B\" in arg):      out[1]=1\n",
        "    if (\"C\" in arg):   out[2]=1\n",
        "    if (\"D\" in arg): out[3]=1\n",
        "    if (\"E\" in arg): out[4]=1\n",
        "    if (\"А\" in arg):    out[0]=1\n",
        "    if (\"В\" in arg):      out[1]=1\n",
        "    if (\"С\" in arg):   out[2]=1\n",
        "    if (\"Е\" in arg): out[4]=1\n",
        "  return out\n",
        "\n",
        "\n",
        "\n",
        "\n",
        "\n",
        "#! Данные о городе\n",
        "def getParameterLocality(arg):\n",
        "  out= [0, 0, 0, 0, 0, 0]\n",
        "  if arg==arg:\n",
        "    citytype = gorod[gorod.City==arg].Type.to_string(index=False)\n",
        "    if citytype == \" Малый\":            out= [0, 0, 0, 0, 0, 1]\n",
        "    if citytype == \" Средний\":          out= [0, 0, 0, 0, 1, 0]\n",
        "    if citytype == \" Большой\":          out= [0, 0, 0, 1, 0, 0]\n",
        "    if citytype == \" Крупный\":          out= [0, 0, 1, 0, 0, 0]\n",
        "    if citytype == \" Крупнейший\":          out= [0, 1, 0, 0, 0, 0]\n",
        "    if citytype == \" Миллионник\":       out= [1, 0, 0, 0, 0, 0]\n",
        "    \n",
        "  return out\n",
        "\n",
        "#! Данные о желаемой занятости\n",
        "def getParameterEmployment(arg):\n",
        "  out= [0, 0, 0, 0, 0, 0]\n",
        "  if ('Полная занятость' in arg):           out[0]=1\n",
        "  if ('Частичная занятость' in arg):  out[1]=1\n",
        "  if ('Удаленная' in arg):     out[2]=1\n",
        "  if ('Сезонная' in arg):     out[3]=1\n",
        "  if ('Временная' in arg):     out[4]=1\n",
        "  if ('Стажировка' in arg):     out[5]=1\n",
        "  return out\n",
        "  \n",
        "\n",
        "\n",
        "\n",
        "#! Данные о желаемом графике работы\n",
        "def getParameterSchedule(arg):\n",
        "  out = [0, 0, 0, 0, 0, 0]\n",
        "  if (\"Полный рабочий день\" in arg):    out[0]=1\n",
        "  if (\"Ненормированный рабочий день\" in arg):      out[1]=1\n",
        "  if (\"Неполный рабочий день\" in arg):   out[2]=1\n",
        "  if (\"Сменный график\" in arg): out[3]=1\n",
        "  if (\"Гибкий график\" in arg): out[4]=1\n",
        "  if (\"Вахтовый метод\" in arg): out[5]=1\n",
        "  return out\n",
        "\n",
        "\n",
        "#! Данные об образовании\n",
        "def getParameterEducation(arg):\n",
        "  out = [0, 0, 0, 0] #По умолчанию не указано\n",
        "  if arg == \"Высшее\":  out[0] = 1\n",
        "  if arg == \"Незаконченное высшее\":      out[1] = 1\n",
        "  if arg == \"Среднее профессиональное\":      out[2] = 1\n",
        "  if arg == \"Среднее\":      out[3] = 1\n",
        "  return out\n",
        "\n",
        "\n",
        "List = ['Государственная служба, некоммерческие организации',\n",
        "       'Административная работа, секретариат, АХО',\n",
        "       'Здравоохранение, спорт, красота, социальное обеспечение',\n",
        "       'Образование, наука',\n",
        "       'Строительство, ремонт, стройматериалы, недвижимость',\n",
        "       'Пищевая промышленность', 'Добывающая промышленность',\n",
        "       'Производство', 'Туризм, гостиницы, рестораны',\n",
        "       'Работы, не требующие квалификации', 'Юриспруденция',\n",
        "       'Финансы, кредит, страхование, пенсионное обеспечение',\n",
        "       'Продажи, закупки, снабжение, торговля',\n",
        "       'Информационные технологии, телекоммуникации, связь',\n",
        "       'Транспорт, автобизнес, логистика, склад, ВЭД',\n",
        "       'Безопасность, службы охраны', 'ЖКХ, эксплуатация',\n",
        "       'Электроэнергетика', 'Маркетинг, реклама, PR',\n",
        "       'Рабочие специальности',\n",
        "       'Химическая, нефтехимическая, топливная промышленность',\n",
        "       'Высший менеджмент', 'Легкая промышленность',\n",
        "       'Услуги населению, сервисное обслуживание', 'Машиностроение',\n",
        "       'Сельское хозяйство, экология, ветеринария',\n",
        "       'Кадровая служба, управление персоналом',\n",
        "       'Искусство, культура и развлечения',\n",
        "       'Лесная, деревообрабатывающая, целлюлозно-бумажная промышленность',\n",
        "       'Металлургия, металлообработка', 'Домашний персонал',\n",
        "       'Консалтинг, стратегическое развитие, управление',\n",
        "       'Начал трудовую деятельность']\n",
        "\n",
        "#! Данные о индустрии\n",
        "def getParameterIndustry(arg):\n",
        "  out=[]\n",
        "  for i in range(len(List)):\n",
        "   out.append(0)\n",
        "  if arg==arg:\n",
        "    out[List.index(arg)] = 1\n",
        "  return out\n",
        "\n",
        "#! Данные о гражданстве\n",
        "def getParameterCitizenship(arg):\n",
        "   out=[0,0]\n",
        "   if arg =='Российская Федерация': out = [1,0]\n",
        "   else: out = [0,1]\n",
        "   return out\n",
        "\n",
        "\n",
        "List_reg = ['Алтайский край', 'Свердловская область', 'Ульяновская область',\n",
        "       'Краснодарский край', 'Московская область',\n",
        "       'Нижегородская область', 'Республика Бурятия',\n",
        "       'Калининградская область', 'Омская область', 'Ростовская область',\n",
        "       'Красноярский край', 'Ямало-Ненецкий автономный округ',\n",
        "       'Республика Татарстан', 'Пензенская область', 'Самарская область',\n",
        "       'Тульская область', 'Республика Хакасия', 'Костромская область',\n",
        "       'Тюменская область', 'г. Москва', 'Белгородская область',\n",
        "       'Пермский край', 'Новгородская область',\n",
        "       'Ханты-Мансийский автономный округ - Югра',\n",
        "       'Волгоградская область', 'Иркутская область', 'Курская область',\n",
        "       'Псковская область', 'Приморский край', 'Курганская область',\n",
        "       'Забайкальский край', 'г. Санкт-Петербург', 'Камчатский край',\n",
        "       'Новосибирская область', 'Оренбургская область',\n",
        "       'Челябинская область', 'Ярославская область', 'Томская область',\n",
        "       'Орловская область', 'Чеченская Республика', 'Республика Алтай',\n",
        "       'Республика Дагестан', 'Республика Коми',\n",
        "       'Республика Саха (Якутия)', 'Республика Крым',\n",
        "       'Республика Марий Эл', 'Рязанская область', 'Ивановская область',\n",
        "       'Калужская область', 'Республика Башкортостан',\n",
        "       'Воронежская область', 'Ставропольский край',\n",
        "       'Кемеровская область', 'Вологодская область', 'Хабаровский край',\n",
        "       'Саратовская область', 'Мурманская область',\n",
        "       'Ленинградская область', 'Астраханская область',\n",
        "       'Владимирская область', 'Амурская область', 'Тверская область',\n",
        "       'Архангельская область', 'Магаданская область',\n",
        "       'Чувашская Республика', 'Липецкая область',\n",
        "       'Республика Северная Осетия-Алания', 'Удмуртская Республика',\n",
        "       'Смоленская область', 'Брянская область', 'Республика Калмыкия',\n",
        "       'г. Севастополь', 'Республика Карачаево-Черкесия',\n",
        "       'Республика Кабардино-Балкария', 'Республика Адыгея',\n",
        "       'Республика Мордовия', 'Республика Ингушетия',\n",
        "       'Республика Карелия', 'Республика Тыва', 'Кировская область',\n",
        "       'Тамбовская область', 'Сахалинская область',\n",
        "       'Чукотский автономный округ', 'Еврейская автономная область',\n",
        "       'Ненецкий автономный округ', 'г. Байконур']\n",
        "\n",
        "#! Данные о регионе\n",
        "def getParameterRegion(arg):\n",
        "  out = [0, 0, 0, 0, 0, 0, 0, 0, 0, 0, 0, 0, 0, 0, 0, 0, 0, 0, 0, 0, 0, 0, 0, 0, 0, 0, 0, 0, 0, 0, 0, 0, 0, 0, 0, 0, 0, 0, 0, 0, 0, 0, 0, 0, 0, 0, 0, 0, 0, 0, 0, 0, 0, 0, 0, 0, 0, 0, 0, 0, 0, 0, 0, 0, 0, 0, 0, 0, 0, 0, 0, 0, 0, 0, 0, 0, 0, 0, 0, 0, 0, 0, 0, 0, 0, 0]\n",
        "  #for i in range(len(List_reg)-1):\n",
        "  # out.append(0)\n",
        "  if arg==arg:\n",
        "    out[List_reg.index(arg)] = 1\n",
        "   \n",
        "  return out     \n",
        "\n",
        "\n",
        "\n",
        "  \n",
        "\n",
        "#! Категориальное представление опыта работы\n",
        "def getParameterExperienceVector(arg):\n",
        "  out = arg*12\n",
        "  outClass = 0\n",
        "  if (out > 6): # если больше 6 месяцев\n",
        "    outClass = 1\n",
        "  if (out > 12): # если больше 12 месяцев\n",
        "    outClass = 2\n",
        "  if (out > 24): # если больше 24 месяцев\n",
        "    outClass = 3\n",
        "  if (out > 36): # если больше 36 месяцев\n",
        "    outClass = 4\n",
        "  if (out > 60): # если больше 60 месяцев\n",
        "    outClass = 5\n",
        "  if (out > 96): # если больше 96 месяцев\n",
        "    outClass = 6\n",
        "  if (out > 120): # если больше 120 месяцев\n",
        "    outClass = 7\n",
        "  if (out > 156): # если больше 156 месяцев\n",
        "    outClass = 8\n",
        "  if (out > 192): # если больше 192 месяцев\n",
        "    outClass = 9 \n",
        "  if (out > 240): # если больше 240 месяцев\n",
        "    outClass = 10\n",
        "  \n",
        "  return list(utils.to_categorical(outClass, 11).astype('int'))\n",
        "\n",
        "\n",
        "\n"
      ],
      "execution_count": 6,
      "outputs": []
    },
    {
      "cell_type": "code",
      "metadata": {
        "id": "hg7SgFJ5dSXR"
      },
      "source": [
        "def getAllParameters(val):\r\n",
        "  #position = getParameterPos(val[1])\r\n",
        "  region = getParameterRegion(val[2])\r\n",
        "  industry = getParameterIndustry(val[3])\r\n",
        "  locality_name =getParameterLocality(val[5])\r\n",
        "  education_type = getParameterEducation(val[6])\r\n",
        "  drive_licences = getParameterdriveLicence(val[7])\r\n",
        "  citizenship = getParameterCitizenship([val[8]])\r\n",
        "  schedule = getParameterSchedule(val[9])\r\n",
        "  employement_type = getParameterEmployment(val[10])\r\n",
        "  age = getParameterAgeVect(val[11])\r\n",
        "  gender = getParameterSex(val[12])\r\n",
        "  experience = getParameterExperienceVector(val[13])\r\n",
        "  relocation_ready = getParameterBool(val[15])\r\n",
        "  travel_ready = getParameterBool(val[16])\r\n",
        "  retraining_ready = getParameterBool(val[17])\r\n",
        "  is_worldskills_participant = getParameterBool(val[18])\r\n",
        "  has_qualifications = getParameterBool(val[19])\r\n",
        "  #completeness_rate\t=val[20]\r\n",
        "  \r\n",
        "  out = []\r\n",
        "  #out +=(position)\r\n",
        "  out +=(region)\r\n",
        "  out += industry\r\n",
        "  out +=locality_name\r\n",
        "  out +=education_type\r\n",
        "  out +=drive_licences\r\n",
        "  out +=citizenship\r\n",
        "  out +=schedule\r\n",
        "  out +=employement_type\r\n",
        "  out +=age\r\n",
        "  out +=gender\r\n",
        "  out +=experience\r\n",
        "  out +=relocation_ready\r\n",
        "  out +=travel_ready\r\n",
        "  out +=retraining_ready\r\n",
        "  out +=is_worldskills_participant\r\n",
        "  out +=has_qualifications\r\n",
        "  #out +=completeness_rate\r\n",
        "\r\n",
        "  return out\r\n",
        " "
      ],
      "execution_count": 7,
      "outputs": []
    },
    {
      "cell_type": "code",
      "metadata": {
        "id": "DTfYoLrWnYVn"
      },
      "source": [
        "# Создаем тренировочную выборку\r\n",
        "def get01Data(values):\r\n",
        "  xTrain = []\r\n",
        "  yTrain = []\r\n",
        "  \r\n",
        "  # Предсказывать будем зарплату\r\n",
        "  for val in values:\r\n",
        "    y = val[24]\r\n",
        "    \r\n",
        "    # Все, что не зарплата - обучающая выборка\r\n",
        "    if (y != -1):\r\n",
        "      x = getAllParameters(val)\r\n",
        "      xTrain.append(x)\r\n",
        "      yTrain.append(y/1000)\r\n",
        "  \r\n",
        "  xTrain = np.array(xTrain)\r\n",
        "  yTrain = np.array(yTrain)\r\n",
        "\r\n",
        "  \r\n",
        "  return (xTrain, yTrain)"
      ],
      "execution_count": 8,
      "outputs": []
    },
    {
      "cell_type": "code",
      "metadata": {
        "id": "weJlG8b9hs41"
      },
      "source": [
        "# Создаем тестовую выборку\r\n",
        "def getTestData(values):\r\n",
        "  xTrain = []\r\n",
        "  for val in values:\r\n",
        "    x = getAllParameters(val)\r\n",
        "    xTrain.append(x)\r\n",
        "  \r\n",
        "  xTrain = np.array(xTrain)\r\n",
        " \r\n",
        "\r\n",
        "  \r\n",
        "  return xTrain"
      ],
      "execution_count": 10,
      "outputs": []
    },
    {
      "cell_type": "code",
      "metadata": {
        "id": "Tifx-oybnblk"
      },
      "source": [
        "(xTrain01, yTrain) = get01Data(fixed_df.values) # Извлекаем значения загруженного набора данных"
      ],
      "execution_count": 9,
      "outputs": []
    },
    {
      "cell_type": "code",
      "metadata": {
        "id": "PijGnVvdxx1j",
        "colab": {
          "base_uri": "https://localhost:8080/"
        },
        "outputId": "f4905365-14ab-4399-88c7-d8b5e9a0e09a"
      },
      "source": [
        "# Размер набора параметров и зарплат\n",
        "print(xTrain01.shape) \n",
        "print(yTrain.shape)\n",
        "# Пример обработанных данных\n",
        "n = 300000 \n",
        "print(xTrain01[n])\n",
        "print(yTrain[n])"
      ],
      "execution_count": 14,
      "outputs": [
        {
          "output_type": "stream",
          "text": [
            "(303851, 183)\n",
            "(303851,)\n",
            "[0 0 0 0 0 0 0 0 0 1 0 0 0 0 0 0 0 0 0 0 0 0 0 0 0 0 0 0 0 0 0 0 0 0 0 0 0\n",
            " 0 0 0 0 0 0 0 0 0 0 0 0 0 0 0 0 0 0 0 0 0 0 0 0 0 0 0 0 0 0 0 0 0 0 0 0 0\n",
            " 0 0 0 0 0 0 0 0 0 0 0 0 0 0 0 0 0 0 0 0 0 0 0 0 1 0 0 0 0 0 0 0 0 0 0 0 0\n",
            " 0 0 0 0 0 0 0 0 1 0 0 0 0 0 1 0 0 0 0 1 0 0 0 0 0 1 0 0 1 0 1 0 0 0 1 0 0\n",
            " 0 0 0 0 0 0 1 0 0 0 0 0 0 1 0 0 0 0 0 0 0 1 0 0 0 0 0 0 0 0 0 0 0 0 0]\n",
            "58.12\n"
          ],
          "name": "stdout"
        }
      ]
    },
    {
      "cell_type": "code",
      "metadata": {
        "id": "c9yDWs81hh9k"
      },
      "source": [
        "xTest = getTestData(test.values)"
      ],
      "execution_count": 54,
      "outputs": []
    },
    {
      "cell_type": "code",
      "metadata": {
        "colab": {
          "base_uri": "https://localhost:8080/"
        },
        "id": "F4nmLj86i30s",
        "outputId": "dc6c03fa-0332-4939-dde5-83ba429005f6"
      },
      "source": [
        "print(xTest.shape)\r\n",
        "n = 1000 \r\n",
        "print(xTest[n])"
      ],
      "execution_count": 55,
      "outputs": [
        {
          "output_type": "stream",
          "text": [
            "(131259, 183)\n",
            "[0 0 0 0 0 0 0 0 0 0 0 0 0 0 0 0 0 0 0 0 0 0 1 0 0 0 0 0 0 0 0 0 0 0 0 0 0\n",
            " 0 0 0 0 0 0 0 0 0 0 0 0 0 0 0 0 0 0 0 0 0 0 0 0 0 0 0 0 0 0 0 0 0 0 0 0 0\n",
            " 0 0 0 0 0 0 0 0 0 0 0 0 0 1 0 0 0 0 0 0 0 0 0 0 0 0 0 0 0 0 0 0 0 0 0 0 0\n",
            " 0 0 0 0 0 0 0 0 0 0 0 1 0 0 1 0 0 0 0 0 0 0 0 0 0 1 1 0 0 0 0 0 1 0 0 0 0\n",
            " 0 0 0 0 0 0 1 0 0 0 0 0 0 1 0 0 0 0 0 0 1 0 0 0 0 0 0 0 0 0 0 0 0 0 0]\n"
          ],
          "name": "stdout"
        }
      ]
    },
    {
      "cell_type": "markdown",
      "metadata": {
        "id": "Y3hv5M9D_2rX"
      },
      "source": [
        "## Нейронка по простым данным\n",
        "\n"
      ]
    },
    {
      "cell_type": "code",
      "metadata": {
        "id": "wKmHi8XjyAVA",
        "colab": {
          "base_uri": "https://localhost:8080/",
          "height": 1000
        },
        "outputId": "1a12e664-1767-4404-a4d5-71190c312588"
      },
      "source": [
        "# Обучаем модель полученными данными\n",
        "model = Sequential()\n",
        "model.add(BatchNormalization(input_shape=(xTrain01.shape[1],)))\n",
        "model.add(Dense(128, activation='relu'))\n",
        "model.add(Dense(1000, activation='tanh'))\n",
        "model.add(Dense(100, activation='relu'))\n",
        "model.add(Dense(1, activation='linear'))\n",
        "\n",
        "model.compile(optimizer=Adam(lr=1e-5), loss='mse', metrics=['mae'])\n",
        "\n",
        "history = model.fit(xTrain01, \n",
        "                    yTrain, \n",
        "                    epochs=70, \n",
        "                    batch_size=500,\n",
        "                    validation_split=0.15, \n",
        "                    verbose=2)\n",
        "\n",
        "plt.plot(history.history['mae'], \n",
        "         label='Средняя абсолютная ошибка на обучающем наборе')\n",
        "plt.plot(history.history['val_mae'], \n",
        "         label='Средняя абсолютная ошибка на проверочном наборе')\n",
        "plt.xlabel('Эпоха обучения')\n",
        "plt.ylabel('Средняя абсолютная ошибка')\n",
        "plt.legend()\n",
        "plt.show()"
      ],
      "execution_count": 71,
      "outputs": [
        {
          "output_type": "stream",
          "text": [
            "Epoch 1/70\n",
            "517/517 - 4s - loss: 2365.3860 - mae: 33.4420 - val_loss: 1826.1149 - val_mae: 24.5356\n",
            "Epoch 2/70\n",
            "517/517 - 2s - loss: 1326.4443 - mae: 20.1436 - val_loss: 1218.2352 - val_mae: 20.1270\n",
            "Epoch 3/70\n",
            "517/517 - 2s - loss: 1121.6237 - mae: 19.8689 - val_loss: 1156.2651 - val_mae: 20.0876\n",
            "Epoch 4/70\n",
            "517/517 - 2s - loss: 1069.8448 - mae: 19.3864 - val_loss: 1109.6249 - val_mae: 19.4664\n",
            "Epoch 5/70\n",
            "517/517 - 2s - loss: 1029.4326 - mae: 18.8375 - val_loss: 1070.4845 - val_mae: 18.8398\n",
            "Epoch 6/70\n",
            "517/517 - 2s - loss: 996.8895 - mae: 18.3714 - val_loss: 1040.9087 - val_mae: 18.4283\n",
            "Epoch 7/70\n",
            "517/517 - 1s - loss: 972.2258 - mae: 18.0497 - val_loss: 1019.4454 - val_mae: 18.0745\n",
            "Epoch 8/70\n",
            "517/517 - 2s - loss: 957.1545 - mae: 17.8249 - val_loss: 1006.6157 - val_mae: 17.9676\n",
            "Epoch 9/70\n",
            "517/517 - 2s - loss: 946.3981 - mae: 17.6585 - val_loss: 998.3024 - val_mae: 17.8841\n",
            "Epoch 10/70\n",
            "517/517 - 1s - loss: 940.7048 - mae: 17.5721 - val_loss: 991.9510 - val_mae: 17.6482\n",
            "Epoch 11/70\n",
            "517/517 - 2s - loss: 935.7017 - mae: 17.4812 - val_loss: 987.8848 - val_mae: 17.5854\n",
            "Epoch 12/70\n",
            "517/517 - 2s - loss: 932.9415 - mae: 17.4229 - val_loss: 985.4803 - val_mae: 17.5315\n",
            "Epoch 13/70\n",
            "517/517 - 1s - loss: 930.2022 - mae: 17.3710 - val_loss: 983.2478 - val_mae: 17.5251\n",
            "Epoch 14/70\n",
            "517/517 - 2s - loss: 928.6536 - mae: 17.3427 - val_loss: 981.1633 - val_mae: 17.4043\n",
            "Epoch 15/70\n",
            "517/517 - 2s - loss: 925.9134 - mae: 17.2877 - val_loss: 979.8027 - val_mae: 17.4088\n",
            "Epoch 16/70\n",
            "517/517 - 2s - loss: 924.8727 - mae: 17.2700 - val_loss: 978.5079 - val_mae: 17.3216\n",
            "Epoch 17/70\n",
            "517/517 - 2s - loss: 924.0449 - mae: 17.2384 - val_loss: 977.8438 - val_mae: 17.4646\n",
            "Epoch 18/70\n",
            "517/517 - 2s - loss: 922.5547 - mae: 17.2206 - val_loss: 976.1285 - val_mae: 17.3265\n",
            "Epoch 19/70\n",
            "517/517 - 2s - loss: 921.1837 - mae: 17.1860 - val_loss: 975.3059 - val_mae: 17.3689\n",
            "Epoch 20/70\n",
            "517/517 - 2s - loss: 919.9943 - mae: 17.1889 - val_loss: 974.2081 - val_mae: 17.1893\n",
            "Epoch 21/70\n",
            "517/517 - 2s - loss: 919.0054 - mae: 17.1494 - val_loss: 973.3859 - val_mae: 17.2991\n",
            "Epoch 22/70\n",
            "517/517 - 2s - loss: 917.8110 - mae: 17.1279 - val_loss: 972.5432 - val_mae: 17.2700\n",
            "Epoch 23/70\n",
            "517/517 - 2s - loss: 916.5689 - mae: 17.1004 - val_loss: 972.1920 - val_mae: 17.3699\n",
            "Epoch 24/70\n",
            "517/517 - 2s - loss: 915.4329 - mae: 17.1022 - val_loss: 971.0112 - val_mae: 17.0637\n",
            "Epoch 25/70\n",
            "517/517 - 2s - loss: 915.0674 - mae: 17.0804 - val_loss: 970.0605 - val_mae: 17.1404\n",
            "Epoch 26/70\n",
            "517/517 - 1s - loss: 914.1536 - mae: 17.0594 - val_loss: 969.3475 - val_mae: 17.1843\n",
            "Epoch 27/70\n",
            "517/517 - 1s - loss: 912.5613 - mae: 17.0354 - val_loss: 968.9998 - val_mae: 17.2532\n",
            "Epoch 28/70\n",
            "517/517 - 2s - loss: 912.5532 - mae: 17.0381 - val_loss: 968.1250 - val_mae: 17.1597\n",
            "Epoch 29/70\n",
            "517/517 - 2s - loss: 910.9455 - mae: 17.0123 - val_loss: 967.9222 - val_mae: 17.3076\n",
            "Epoch 30/70\n",
            "517/517 - 2s - loss: 910.2474 - mae: 17.0086 - val_loss: 966.8232 - val_mae: 17.0655\n",
            "Epoch 31/70\n",
            "517/517 - 2s - loss: 909.6658 - mae: 16.9849 - val_loss: 966.2902 - val_mae: 17.1923\n",
            "Epoch 32/70\n",
            "517/517 - 2s - loss: 908.8784 - mae: 16.9817 - val_loss: 965.6116 - val_mae: 17.1007\n",
            "Epoch 33/70\n",
            "517/517 - 1s - loss: 908.1814 - mae: 16.9651 - val_loss: 965.0268 - val_mae: 17.1410\n",
            "Epoch 34/70\n",
            "517/517 - 2s - loss: 907.0324 - mae: 16.9561 - val_loss: 964.4586 - val_mae: 17.1019\n",
            "Epoch 35/70\n",
            "517/517 - 2s - loss: 906.4733 - mae: 16.9408 - val_loss: 963.7327 - val_mae: 17.0344\n",
            "Epoch 36/70\n",
            "517/517 - 2s - loss: 905.6948 - mae: 16.9312 - val_loss: 963.3314 - val_mae: 17.0171\n",
            "Epoch 37/70\n",
            "517/517 - 2s - loss: 905.1133 - mae: 16.9230 - val_loss: 962.6973 - val_mae: 17.0007\n",
            "Epoch 38/70\n",
            "517/517 - 2s - loss: 904.9930 - mae: 16.9156 - val_loss: 962.5976 - val_mae: 17.1437\n",
            "Epoch 39/70\n",
            "517/517 - 2s - loss: 903.8627 - mae: 16.9019 - val_loss: 961.9307 - val_mae: 17.0546\n",
            "Epoch 40/70\n",
            "517/517 - 2s - loss: 903.5311 - mae: 16.8938 - val_loss: 961.6715 - val_mae: 17.1445\n",
            "Epoch 41/70\n",
            "517/517 - 2s - loss: 902.5739 - mae: 16.8869 - val_loss: 960.9209 - val_mae: 16.9630\n",
            "Epoch 42/70\n",
            "517/517 - 2s - loss: 902.3041 - mae: 16.8772 - val_loss: 960.5762 - val_mae: 17.0190\n",
            "Epoch 43/70\n",
            "517/517 - 2s - loss: 902.2690 - mae: 16.8689 - val_loss: 960.1516 - val_mae: 17.0303\n",
            "Epoch 44/70\n",
            "517/517 - 2s - loss: 901.5198 - mae: 16.8696 - val_loss: 959.7767 - val_mae: 17.0306\n",
            "Epoch 45/70\n",
            "517/517 - 1s - loss: 900.9226 - mae: 16.8546 - val_loss: 959.3342 - val_mae: 17.0057\n",
            "Epoch 46/70\n",
            "517/517 - 1s - loss: 899.9503 - mae: 16.8402 - val_loss: 959.0887 - val_mae: 17.0672\n",
            "Epoch 47/70\n",
            "517/517 - 2s - loss: 899.3814 - mae: 16.8305 - val_loss: 958.7161 - val_mae: 17.0110\n",
            "Epoch 48/70\n",
            "517/517 - 2s - loss: 898.8919 - mae: 16.8361 - val_loss: 958.2300 - val_mae: 16.8943\n",
            "Epoch 49/70\n",
            "517/517 - 2s - loss: 898.2999 - mae: 16.8186 - val_loss: 957.9629 - val_mae: 16.9212\n",
            "Epoch 50/70\n",
            "517/517 - 1s - loss: 897.9375 - mae: 16.8141 - val_loss: 957.6774 - val_mae: 16.9493\n",
            "Epoch 51/70\n",
            "517/517 - 1s - loss: 897.7767 - mae: 16.8065 - val_loss: 957.4807 - val_mae: 17.0621\n",
            "Epoch 52/70\n",
            "517/517 - 1s - loss: 896.8516 - mae: 16.8118 - val_loss: 956.9584 - val_mae: 16.8780\n",
            "Epoch 53/70\n",
            "517/517 - 1s - loss: 896.4288 - mae: 16.7956 - val_loss: 956.6562 - val_mae: 16.9781\n",
            "Epoch 54/70\n",
            "517/517 - 1s - loss: 896.2626 - mae: 16.7938 - val_loss: 956.2501 - val_mae: 16.9252\n",
            "Epoch 55/70\n",
            "517/517 - 1s - loss: 896.7520 - mae: 16.7883 - val_loss: 956.3178 - val_mae: 17.0419\n",
            "Epoch 56/70\n",
            "517/517 - 2s - loss: 896.1208 - mae: 16.7909 - val_loss: 955.8041 - val_mae: 16.8892\n",
            "Epoch 57/70\n",
            "517/517 - 1s - loss: 894.8937 - mae: 16.7765 - val_loss: 955.4717 - val_mae: 16.9285\n",
            "Epoch 58/70\n",
            "517/517 - 1s - loss: 893.9048 - mae: 16.7675 - val_loss: 955.3234 - val_mae: 16.9037\n",
            "Epoch 59/70\n",
            "517/517 - 1s - loss: 894.0571 - mae: 16.7616 - val_loss: 955.0075 - val_mae: 16.9944\n",
            "Epoch 60/70\n",
            "517/517 - 2s - loss: 893.8755 - mae: 16.7665 - val_loss: 954.7067 - val_mae: 16.9022\n",
            "Epoch 61/70\n",
            "517/517 - 2s - loss: 893.4081 - mae: 16.7591 - val_loss: 954.5227 - val_mae: 16.8367\n",
            "Epoch 62/70\n",
            "517/517 - 2s - loss: 892.7328 - mae: 16.7520 - val_loss: 954.2678 - val_mae: 16.8125\n",
            "Epoch 63/70\n",
            "517/517 - 2s - loss: 893.0458 - mae: 16.7397 - val_loss: 953.9581 - val_mae: 16.7899\n",
            "Epoch 64/70\n",
            "517/517 - 2s - loss: 892.5398 - mae: 16.7373 - val_loss: 953.7787 - val_mae: 16.9015\n",
            "Epoch 65/70\n",
            "517/517 - 2s - loss: 892.4338 - mae: 16.7501 - val_loss: 953.5615 - val_mae: 16.8049\n",
            "Epoch 66/70\n",
            "517/517 - 2s - loss: 891.3802 - mae: 16.7165 - val_loss: 953.7479 - val_mae: 17.0650\n",
            "Epoch 67/70\n",
            "517/517 - 2s - loss: 891.4274 - mae: 16.7440 - val_loss: 953.0914 - val_mae: 16.8609\n",
            "Epoch 68/70\n",
            "517/517 - 2s - loss: 891.3885 - mae: 16.7214 - val_loss: 952.8542 - val_mae: 16.8831\n",
            "Epoch 69/70\n",
            "517/517 - 2s - loss: 890.9528 - mae: 16.7218 - val_loss: 952.6997 - val_mae: 16.8077\n",
            "Epoch 70/70\n",
            "517/517 - 2s - loss: 891.2488 - mae: 16.7149 - val_loss: 952.7364 - val_mae: 17.0002\n"
          ],
          "name": "stdout"
        },
        {
          "output_type": "display_data",
          "data": {
            "image/png": "[encoded data removed]",
            "text/plain": [
              "<Figure size 432x288 with 1 Axes>"
            ]
          },
          "metadata": {
            "tags": [],
            "needs_background": "light"
          }
        }
      ]
    },
    {
      "cell_type": "code",
      "metadata": {
        "id": "LVvS-1r-3WaY",
        "colab": {
          "base_uri": "https://localhost:8080/"
        },
        "outputId": "16e913b4-a01f-459a-de8f-cb63d3df3e91"
      },
      "source": [
        "# Делаем предсказание и приводим его к начальному виду\n",
        "pred = model.predict(xTrain01)\n",
        "pred = pred.flatten()\n",
        "# Среднее значение ошибки \n",
        "delta = pred - yTrain\n",
        "absDelta = abs(delta)\n",
        "print(sum(absDelta) / len(absDelta))"
      ],
      "execution_count": 72,
      "outputs": [
        {
          "output_type": "stream",
          "text": [
            "16.909483729960492\n"
          ],
          "name": "stdout"
        }
      ]
    },
    {
      "cell_type": "code",
      "metadata": {
        "colab": {
          "base_uri": "https://localhost:8080/"
        },
        "id": "dj3I8CwfjcT2",
        "outputId": "9ba8b6b3-90ca-460b-a226-76ce00ff5405"
      },
      "source": [
        "# Получение результатов для теста\r\n",
        "pred = model.predict(xTest)\r\n",
        "pred.flatten()\r\n",
        "pred[3]"
      ],
      "execution_count": 73,
      "outputs": [
        {
          "output_type": "execute_result",
          "data": {
            "text/plain": [
              "array([33.96067], dtype=float32)"
            ]
          },
          "metadata": {
            "tags": []
          },
          "execution_count": 73
        }
      ]
    },
    {
      "cell_type": "code",
      "metadata": {
        "id": "QTozmRhkyf5-",
        "colab": {
          "base_uri": "https://localhost:8080/"
        },
        "outputId": "a0f20e5b-d137-402b-920f-fc25cec08cd9"
      },
      "source": [
        "# В качестве нормализации данных используем готовую библиотеку \n",
        "yScaler = StandardScaler()\n",
        "\n",
        "# Скармливаем объекту двумерный вектор\n",
        "yScaler.fit(yTrain.reshape(-1, 1))\n",
        "\n",
        "# Нормализуем по нормальному распределению\n",
        "yTrainScaled = yScaler.transform(yTrain.reshape(-1, 1))\n",
        "\n",
        "print(yTrainScaled.shape)\n",
        "print(yTrain[1])\n",
        "print(yTrainScaled[1])"
      ],
      "execution_count": 74,
      "outputs": [
        {
          "output_type": "stream",
          "text": [
            "(303851, 1)\n",
            "14.0\n",
            "[-0.77223925]\n"
          ],
          "name": "stdout"
        }
      ]
    },
    {
      "cell_type": "code",
      "metadata": {
        "id": "YGFRAg1kRXb7",
        "colab": {
          "base_uri": "https://localhost:8080/"
        },
        "outputId": "c68cc612-dc03-4f87-d897-1cb0d522be19"
      },
      "source": [
        "print(min(yTrain), max(yTrain))\n",
        "print(min(yTrainScaled), max(yTrainScaled))"
      ],
      "execution_count": 35,
      "outputs": [
        {
          "output_type": "stream",
          "text": [
            "0.026 2283.641\n",
            "[-1.16799849] [63.50652087]\n"
          ],
          "name": "stdout"
        }
      ]
    },
    {
      "cell_type": "code",
      "metadata": {
        "id": "BzyVBg4SyqEH",
        "colab": {
          "base_uri": "https://localhost:8080/",
          "height": 1000
        },
        "outputId": "8b9ee2fa-630b-4758-d64b-df78796eb712"
      },
      "source": [
        "# Обучаем модель стандартизированными данными\n",
        "modelS = Sequential()\n",
        "modelS.add(BatchNormalization(input_shape=(xTrain01.shape[1],)))\n",
        "modelS.add(Dense(128, activation='relu'))\n",
        "modelS.add(Dense(1000, activation='tanh'))\n",
        "modelS.add(Dense(100, activation='relu'))\n",
        "modelS.add(Dense(1, activation='linear'))\n",
        "\n",
        "modelS.compile(optimizer=Adam(lr=1e-5), loss='mse', metrics=['mae'])\n",
        "\n",
        "history = modelS.fit(xTrain01, \n",
        "                    yTrainScaled, \n",
        "                    epochs=200, \n",
        "                    batch_size=1500,\n",
        "                    validation_split=0.15, \n",
        "                    verbose=2)\n",
        "\n",
        "plt.plot(history.history['mae'], \n",
        "         label='Средняя абсолютная ошибка на обучающем наборе')\n",
        "plt.plot(history.history['val_mae'], \n",
        "         label='Средняя абсолютная ошибка на проверочном наборе')\n",
        "plt.xlabel('Эпоха обучения')\n",
        "plt.ylabel('Средняя абсолютная ошибка')\n",
        "plt.legend()\n",
        "plt.show()"
      ],
      "execution_count": 84,
      "outputs": [
        {
          "output_type": "stream",
          "text": [
            "Epoch 1/200\n",
            "173/173 - 1s - loss: 0.9002 - mae: 0.5685 - val_loss: 0.9142 - val_mae: 0.5487\n",
            "Epoch 2/200\n",
            "173/173 - 1s - loss: 0.8096 - mae: 0.5264 - val_loss: 0.8455 - val_mae: 0.5177\n",
            "Epoch 3/200\n",
            "173/173 - 1s - loss: 0.7836 - mae: 0.5130 - val_loss: 0.8223 - val_mae: 0.5082\n",
            "Epoch 4/200\n",
            "173/173 - 1s - loss: 0.7710 - mae: 0.5061 - val_loss: 0.8138 - val_mae: 0.5021\n",
            "Epoch 5/200\n",
            "173/173 - 1s - loss: 0.7624 - mae: 0.5011 - val_loss: 0.8073 - val_mae: 0.5031\n",
            "Epoch 6/200\n",
            "173/173 - 1s - loss: 0.7560 - mae: 0.4975 - val_loss: 0.8023 - val_mae: 0.5014\n",
            "Epoch 7/200\n",
            "173/173 - 1s - loss: 0.7511 - mae: 0.4950 - val_loss: 0.7985 - val_mae: 0.4931\n",
            "Epoch 8/200\n",
            "173/173 - 1s - loss: 0.7468 - mae: 0.4921 - val_loss: 0.7947 - val_mae: 0.4947\n",
            "Epoch 9/200\n",
            "173/173 - 1s - loss: 0.7432 - mae: 0.4906 - val_loss: 0.7917 - val_mae: 0.4940\n",
            "Epoch 10/200\n",
            "173/173 - 1s - loss: 0.7402 - mae: 0.4888 - val_loss: 0.7891 - val_mae: 0.4916\n",
            "Epoch 11/200\n",
            "173/173 - 1s - loss: 0.7373 - mae: 0.4868 - val_loss: 0.7866 - val_mae: 0.4894\n",
            "Epoch 12/200\n",
            "173/173 - 1s - loss: 0.7348 - mae: 0.4857 - val_loss: 0.7851 - val_mae: 0.4867\n",
            "Epoch 13/200\n",
            "173/173 - 1s - loss: 0.7327 - mae: 0.4843 - val_loss: 0.7828 - val_mae: 0.4867\n",
            "Epoch 14/200\n",
            "173/173 - 1s - loss: 0.7308 - mae: 0.4831 - val_loss: 0.7817 - val_mae: 0.4846\n",
            "Epoch 15/200\n",
            "173/173 - 1s - loss: 0.7286 - mae: 0.4824 - val_loss: 0.7799 - val_mae: 0.4860\n",
            "Epoch 16/200\n",
            "173/173 - 1s - loss: 0.7271 - mae: 0.4814 - val_loss: 0.7790 - val_mae: 0.4820\n",
            "Epoch 17/200\n",
            "173/173 - 1s - loss: 0.7257 - mae: 0.4804 - val_loss: 0.7777 - val_mae: 0.4840\n",
            "Epoch 18/200\n",
            "173/173 - 1s - loss: 0.7241 - mae: 0.4803 - val_loss: 0.7766 - val_mae: 0.4860\n",
            "Epoch 19/200\n",
            "173/173 - 1s - loss: 0.7230 - mae: 0.4795 - val_loss: 0.7763 - val_mae: 0.4781\n",
            "Epoch 20/200\n",
            "173/173 - 1s - loss: 0.7215 - mae: 0.4783 - val_loss: 0.7751 - val_mae: 0.4790\n",
            "Epoch 21/200\n",
            "173/173 - 1s - loss: 0.7205 - mae: 0.4781 - val_loss: 0.7744 - val_mae: 0.4787\n",
            "Epoch 22/200\n",
            "173/173 - 1s - loss: 0.7190 - mae: 0.4771 - val_loss: 0.7734 - val_mae: 0.4863\n",
            "Epoch 23/200\n",
            "173/173 - 1s - loss: 0.7186 - mae: 0.4775 - val_loss: 0.7727 - val_mae: 0.4798\n",
            "Epoch 24/200\n",
            "173/173 - 1s - loss: 0.7172 - mae: 0.4766 - val_loss: 0.7720 - val_mae: 0.4791\n",
            "Epoch 25/200\n",
            "173/173 - 1s - loss: 0.7163 - mae: 0.4761 - val_loss: 0.7714 - val_mae: 0.4861\n",
            "Epoch 26/200\n",
            "173/173 - 1s - loss: 0.7155 - mae: 0.4761 - val_loss: 0.7707 - val_mae: 0.4798\n",
            "Epoch 27/200\n",
            "173/173 - 1s - loss: 0.7150 - mae: 0.4754 - val_loss: 0.7714 - val_mae: 0.4739\n",
            "Epoch 28/200\n",
            "173/173 - 1s - loss: 0.7140 - mae: 0.4749 - val_loss: 0.7704 - val_mae: 0.4752\n",
            "Epoch 29/200\n",
            "173/173 - 1s - loss: 0.7130 - mae: 0.4747 - val_loss: 0.7695 - val_mae: 0.4772\n",
            "Epoch 30/200\n",
            "173/173 - 1s - loss: 0.7126 - mae: 0.4743 - val_loss: 0.7692 - val_mae: 0.4760\n",
            "Epoch 31/200\n",
            "173/173 - 1s - loss: 0.7110 - mae: 0.4736 - val_loss: 0.7685 - val_mae: 0.4788\n",
            "Epoch 32/200\n",
            "173/173 - 1s - loss: 0.7106 - mae: 0.4736 - val_loss: 0.7690 - val_mae: 0.4731\n",
            "Epoch 33/200\n",
            "173/173 - 1s - loss: 0.7099 - mae: 0.4729 - val_loss: 0.7677 - val_mae: 0.4794\n",
            "Epoch 34/200\n",
            "173/173 - 1s - loss: 0.7094 - mae: 0.4731 - val_loss: 0.7682 - val_mae: 0.4729\n",
            "Epoch 35/200\n",
            "173/173 - 1s - loss: 0.7088 - mae: 0.4726 - val_loss: 0.7671 - val_mae: 0.4761\n",
            "Epoch 36/200\n",
            "173/173 - 1s - loss: 0.7082 - mae: 0.4723 - val_loss: 0.7666 - val_mae: 0.4771\n",
            "Epoch 37/200\n",
            "173/173 - 1s - loss: 0.7075 - mae: 0.4722 - val_loss: 0.7663 - val_mae: 0.4784\n",
            "Epoch 38/200\n",
            "173/173 - 1s - loss: 0.7068 - mae: 0.4720 - val_loss: 0.7662 - val_mae: 0.4810\n",
            "Epoch 39/200\n",
            "173/173 - 1s - loss: 0.7068 - mae: 0.4718 - val_loss: 0.7659 - val_mae: 0.4758\n",
            "Epoch 40/200\n",
            "173/173 - 1s - loss: 0.7057 - mae: 0.4716 - val_loss: 0.7656 - val_mae: 0.4785\n",
            "Epoch 41/200\n",
            "173/173 - 1s - loss: 0.7054 - mae: 0.4710 - val_loss: 0.7653 - val_mae: 0.4789\n",
            "Epoch 42/200\n",
            "173/173 - 1s - loss: 0.7048 - mae: 0.4711 - val_loss: 0.7659 - val_mae: 0.4717\n",
            "Epoch 43/200\n",
            "173/173 - 1s - loss: 0.7044 - mae: 0.4709 - val_loss: 0.7651 - val_mae: 0.4763\n",
            "Epoch 44/200\n",
            "173/173 - 1s - loss: 0.7038 - mae: 0.4706 - val_loss: 0.7649 - val_mae: 0.4752\n",
            "Epoch 45/200\n",
            "173/173 - 1s - loss: 0.7033 - mae: 0.4706 - val_loss: 0.7647 - val_mae: 0.4761\n",
            "Epoch 46/200\n",
            "173/173 - 1s - loss: 0.7027 - mae: 0.4700 - val_loss: 0.7644 - val_mae: 0.4794\n",
            "Epoch 47/200\n",
            "173/173 - 1s - loss: 0.7025 - mae: 0.4702 - val_loss: 0.7641 - val_mae: 0.4779\n",
            "Epoch 48/200\n",
            "173/173 - 1s - loss: 0.7013 - mae: 0.4697 - val_loss: 0.7643 - val_mae: 0.4739\n",
            "Epoch 49/200\n",
            "173/173 - 1s - loss: 0.7014 - mae: 0.4699 - val_loss: 0.7638 - val_mae: 0.4764\n",
            "Epoch 50/200\n",
            "173/173 - 1s - loss: 0.7010 - mae: 0.4695 - val_loss: 0.7635 - val_mae: 0.4773\n",
            "Epoch 51/200\n",
            "173/173 - 1s - loss: 0.7001 - mae: 0.4692 - val_loss: 0.7636 - val_mae: 0.4751\n",
            "Epoch 52/200\n",
            "173/173 - 1s - loss: 0.7001 - mae: 0.4692 - val_loss: 0.7635 - val_mae: 0.4743\n",
            "Epoch 53/200\n",
            "173/173 - 1s - loss: 0.6996 - mae: 0.4693 - val_loss: 0.7635 - val_mae: 0.4728\n",
            "Epoch 54/200\n",
            "173/173 - 1s - loss: 0.6990 - mae: 0.4684 - val_loss: 0.7630 - val_mae: 0.4783\n",
            "Epoch 55/200\n",
            "173/173 - 1s - loss: 0.6989 - mae: 0.4688 - val_loss: 0.7631 - val_mae: 0.4749\n",
            "Epoch 56/200\n",
            "173/173 - 1s - loss: 0.6983 - mae: 0.4683 - val_loss: 0.7631 - val_mae: 0.4794\n",
            "Epoch 57/200\n",
            "173/173 - 1s - loss: 0.6981 - mae: 0.4685 - val_loss: 0.7626 - val_mae: 0.4763\n",
            "Epoch 58/200\n",
            "173/173 - 1s - loss: 0.6979 - mae: 0.4683 - val_loss: 0.7628 - val_mae: 0.4725\n",
            "Epoch 59/200\n",
            "173/173 - 1s - loss: 0.6971 - mae: 0.4682 - val_loss: 0.7624 - val_mae: 0.4773\n",
            "Epoch 60/200\n",
            "173/173 - 1s - loss: 0.6968 - mae: 0.4677 - val_loss: 0.7624 - val_mae: 0.4764\n",
            "Epoch 61/200\n",
            "173/173 - 1s - loss: 0.6964 - mae: 0.4679 - val_loss: 0.7622 - val_mae: 0.4761\n",
            "Epoch 62/200\n",
            "173/173 - 1s - loss: 0.6961 - mae: 0.4680 - val_loss: 0.7624 - val_mae: 0.4738\n",
            "Epoch 63/200\n",
            "173/173 - 1s - loss: 0.6954 - mae: 0.4677 - val_loss: 0.7632 - val_mae: 0.4682\n",
            "Epoch 64/200\n",
            "173/173 - 1s - loss: 0.6954 - mae: 0.4672 - val_loss: 0.7618 - val_mae: 0.4768\n",
            "Epoch 65/200\n",
            "173/173 - 1s - loss: 0.6951 - mae: 0.4672 - val_loss: 0.7618 - val_mae: 0.4749\n",
            "Epoch 66/200\n",
            "173/173 - 1s - loss: 0.6944 - mae: 0.4671 - val_loss: 0.7623 - val_mae: 0.4710\n",
            "Epoch 67/200\n",
            "173/173 - 1s - loss: 0.6943 - mae: 0.4669 - val_loss: 0.7620 - val_mae: 0.4779\n",
            "Epoch 68/200\n",
            "173/173 - 1s - loss: 0.6939 - mae: 0.4672 - val_loss: 0.7622 - val_mae: 0.4715\n",
            "Epoch 69/200\n",
            "173/173 - 1s - loss: 0.6935 - mae: 0.4669 - val_loss: 0.7618 - val_mae: 0.4713\n",
            "Epoch 70/200\n",
            "173/173 - 1s - loss: 0.6932 - mae: 0.4666 - val_loss: 0.7621 - val_mae: 0.4696\n",
            "Epoch 71/200\n",
            "173/173 - 1s - loss: 0.6926 - mae: 0.4662 - val_loss: 0.7615 - val_mae: 0.4742\n",
            "Epoch 72/200\n",
            "173/173 - 1s - loss: 0.6928 - mae: 0.4665 - val_loss: 0.7614 - val_mae: 0.4750\n",
            "Epoch 73/200\n",
            "173/173 - 1s - loss: 0.6919 - mae: 0.4665 - val_loss: 0.7613 - val_mae: 0.4752\n",
            "Epoch 74/200\n",
            "173/173 - 1s - loss: 0.6915 - mae: 0.4661 - val_loss: 0.7618 - val_mae: 0.4694\n",
            "Epoch 75/200\n",
            "173/173 - 1s - loss: 0.6917 - mae: 0.4660 - val_loss: 0.7612 - val_mae: 0.4727\n",
            "Epoch 76/200\n",
            "173/173 - 1s - loss: 0.6914 - mae: 0.4658 - val_loss: 0.7613 - val_mae: 0.4745\n",
            "Epoch 77/200\n",
            "173/173 - 1s - loss: 0.6910 - mae: 0.4657 - val_loss: 0.7609 - val_mae: 0.4753\n",
            "Epoch 78/200\n",
            "173/173 - 1s - loss: 0.6907 - mae: 0.4661 - val_loss: 0.7610 - val_mae: 0.4739\n",
            "Epoch 79/200\n",
            "173/173 - 1s - loss: 0.6905 - mae: 0.4658 - val_loss: 0.7615 - val_mae: 0.4702\n",
            "Epoch 80/200\n",
            "173/173 - 1s - loss: 0.6901 - mae: 0.4657 - val_loss: 0.7611 - val_mae: 0.4725\n",
            "Epoch 81/200\n",
            "173/173 - 1s - loss: 0.6897 - mae: 0.4653 - val_loss: 0.7611 - val_mae: 0.4731\n",
            "Epoch 82/200\n",
            "173/173 - 1s - loss: 0.6891 - mae: 0.4652 - val_loss: 0.7608 - val_mae: 0.4748\n",
            "Epoch 83/200\n",
            "173/173 - 1s - loss: 0.6889 - mae: 0.4651 - val_loss: 0.7612 - val_mae: 0.4784\n",
            "Epoch 84/200\n",
            "173/173 - 1s - loss: 0.6892 - mae: 0.4654 - val_loss: 0.7607 - val_mae: 0.4736\n",
            "Epoch 85/200\n",
            "173/173 - 1s - loss: 0.6886 - mae: 0.4648 - val_loss: 0.7608 - val_mae: 0.4736\n",
            "Epoch 86/200\n",
            "173/173 - 1s - loss: 0.6882 - mae: 0.4649 - val_loss: 0.7608 - val_mae: 0.4746\n",
            "Epoch 87/200\n",
            "173/173 - 1s - loss: 0.6882 - mae: 0.4649 - val_loss: 0.7608 - val_mae: 0.4761\n",
            "Epoch 88/200\n",
            "173/173 - 1s - loss: 0.6876 - mae: 0.4649 - val_loss: 0.7612 - val_mae: 0.4694\n",
            "Epoch 89/200\n",
            "173/173 - 1s - loss: 0.6877 - mae: 0.4645 - val_loss: 0.7608 - val_mae: 0.4719\n",
            "Epoch 90/200\n",
            "173/173 - 1s - loss: 0.6873 - mae: 0.4646 - val_loss: 0.7610 - val_mae: 0.4708\n",
            "Epoch 91/200\n",
            "173/173 - 1s - loss: 0.6868 - mae: 0.4643 - val_loss: 0.7605 - val_mae: 0.4743\n",
            "Epoch 92/200\n",
            "173/173 - 1s - loss: 0.6863 - mae: 0.4644 - val_loss: 0.7606 - val_mae: 0.4718\n",
            "Epoch 93/200\n",
            "173/173 - 1s - loss: 0.6860 - mae: 0.4642 - val_loss: 0.7606 - val_mae: 0.4723\n",
            "Epoch 94/200\n",
            "173/173 - 1s - loss: 0.6858 - mae: 0.4638 - val_loss: 0.7604 - val_mae: 0.4739\n",
            "Epoch 95/200\n",
            "173/173 - 1s - loss: 0.6856 - mae: 0.4643 - val_loss: 0.7607 - val_mae: 0.4752\n",
            "Epoch 96/200\n",
            "173/173 - 1s - loss: 0.6853 - mae: 0.4642 - val_loss: 0.7616 - val_mae: 0.4676\n",
            "Epoch 97/200\n",
            "173/173 - 1s - loss: 0.6851 - mae: 0.4638 - val_loss: 0.7603 - val_mae: 0.4743\n",
            "Epoch 98/200\n",
            "173/173 - 1s - loss: 0.6848 - mae: 0.4638 - val_loss: 0.7604 - val_mae: 0.4758\n",
            "Epoch 99/200\n",
            "173/173 - 1s - loss: 0.6847 - mae: 0.4637 - val_loss: 0.7608 - val_mae: 0.4699\n",
            "Epoch 100/200\n",
            "173/173 - 1s - loss: 0.6845 - mae: 0.4636 - val_loss: 0.7604 - val_mae: 0.4725\n",
            "Epoch 101/200\n",
            "173/173 - 1s - loss: 0.6839 - mae: 0.4636 - val_loss: 0.7609 - val_mae: 0.4695\n",
            "Epoch 102/200\n",
            "173/173 - 1s - loss: 0.6841 - mae: 0.4633 - val_loss: 0.7603 - val_mae: 0.4730\n",
            "Epoch 103/200\n",
            "173/173 - 1s - loss: 0.6836 - mae: 0.4636 - val_loss: 0.7603 - val_mae: 0.4738\n",
            "Epoch 104/200\n",
            "173/173 - 1s - loss: 0.6833 - mae: 0.4635 - val_loss: 0.7607 - val_mae: 0.4713\n",
            "Epoch 105/200\n",
            "173/173 - 1s - loss: 0.6828 - mae: 0.4630 - val_loss: 0.7605 - val_mae: 0.4753\n",
            "Epoch 106/200\n",
            "173/173 - 1s - loss: 0.6828 - mae: 0.4632 - val_loss: 0.7605 - val_mae: 0.4740\n",
            "Epoch 107/200\n",
            "173/173 - 1s - loss: 0.6827 - mae: 0.4631 - val_loss: 0.7603 - val_mae: 0.4781\n",
            "Epoch 108/200\n",
            "173/173 - 1s - loss: 0.6825 - mae: 0.4635 - val_loss: 0.7604 - val_mae: 0.4738\n",
            "Epoch 109/200\n",
            "173/173 - 1s - loss: 0.6819 - mae: 0.4630 - val_loss: 0.7606 - val_mae: 0.4714\n",
            "Epoch 110/200\n",
            "173/173 - 1s - loss: 0.6817 - mae: 0.4629 - val_loss: 0.7607 - val_mae: 0.4711\n",
            "Epoch 111/200\n",
            "173/173 - 1s - loss: 0.6812 - mae: 0.4627 - val_loss: 0.7604 - val_mae: 0.4756\n",
            "Epoch 112/200\n",
            "173/173 - 1s - loss: 0.6811 - mae: 0.4625 - val_loss: 0.7607 - val_mae: 0.4723\n",
            "Epoch 113/200\n",
            "173/173 - 1s - loss: 0.6811 - mae: 0.4628 - val_loss: 0.7603 - val_mae: 0.4727\n",
            "Epoch 114/200\n",
            "173/173 - 1s - loss: 0.6810 - mae: 0.4625 - val_loss: 0.7604 - val_mae: 0.4764\n",
            "Epoch 115/200\n",
            "173/173 - 1s - loss: 0.6807 - mae: 0.4629 - val_loss: 0.7605 - val_mae: 0.4752\n",
            "Epoch 116/200\n",
            "173/173 - 1s - loss: 0.6807 - mae: 0.4626 - val_loss: 0.7606 - val_mae: 0.4736\n",
            "Epoch 117/200\n",
            "173/173 - 1s - loss: 0.6802 - mae: 0.4629 - val_loss: 0.7608 - val_mae: 0.4727\n",
            "Epoch 118/200\n",
            "173/173 - 1s - loss: 0.6799 - mae: 0.4621 - val_loss: 0.7606 - val_mae: 0.4715\n",
            "Epoch 119/200\n",
            "173/173 - 1s - loss: 0.6794 - mae: 0.4622 - val_loss: 0.7607 - val_mae: 0.4715\n",
            "Epoch 120/200\n",
            "173/173 - 1s - loss: 0.6795 - mae: 0.4623 - val_loss: 0.7605 - val_mae: 0.4762\n",
            "Epoch 121/200\n",
            "173/173 - 1s - loss: 0.6791 - mae: 0.4623 - val_loss: 0.7605 - val_mae: 0.4739\n",
            "Epoch 122/200\n",
            "173/173 - 1s - loss: 0.6785 - mae: 0.4621 - val_loss: 0.7607 - val_mae: 0.4720\n",
            "Epoch 123/200\n",
            "173/173 - 1s - loss: 0.6788 - mae: 0.4620 - val_loss: 0.7605 - val_mae: 0.4762\n",
            "Epoch 124/200\n",
            "173/173 - 1s - loss: 0.6784 - mae: 0.4617 - val_loss: 0.7606 - val_mae: 0.4768\n",
            "Epoch 125/200\n",
            "173/173 - 1s - loss: 0.6779 - mae: 0.4620 - val_loss: 0.7607 - val_mae: 0.4723\n",
            "Epoch 126/200\n",
            "173/173 - 1s - loss: 0.6780 - mae: 0.4621 - val_loss: 0.7626 - val_mae: 0.4655\n",
            "Epoch 127/200\n",
            "173/173 - 1s - loss: 0.6777 - mae: 0.4617 - val_loss: 0.7609 - val_mae: 0.4744\n",
            "Epoch 128/200\n",
            "173/173 - 1s - loss: 0.6777 - mae: 0.4618 - val_loss: 0.7607 - val_mae: 0.4741\n",
            "Epoch 129/200\n",
            "173/173 - 1s - loss: 0.6776 - mae: 0.4621 - val_loss: 0.7608 - val_mae: 0.4728\n",
            "Epoch 130/200\n",
            "173/173 - 1s - loss: 0.6771 - mae: 0.4614 - val_loss: 0.7612 - val_mae: 0.4698\n",
            "Epoch 131/200\n",
            "173/173 - 1s - loss: 0.6769 - mae: 0.4616 - val_loss: 0.7609 - val_mae: 0.4720\n",
            "Epoch 132/200\n",
            "173/173 - 1s - loss: 0.6767 - mae: 0.4615 - val_loss: 0.7609 - val_mae: 0.4706\n",
            "Epoch 133/200\n",
            "173/173 - 1s - loss: 0.6767 - mae: 0.4617 - val_loss: 0.7613 - val_mae: 0.4703\n",
            "Epoch 134/200\n",
            "173/173 - 1s - loss: 0.6766 - mae: 0.4615 - val_loss: 0.7610 - val_mae: 0.4723\n",
            "Epoch 135/200\n",
            "173/173 - 1s - loss: 0.6760 - mae: 0.4616 - val_loss: 0.7610 - val_mae: 0.4706\n",
            "Epoch 136/200\n",
            "173/173 - 1s - loss: 0.6759 - mae: 0.4614 - val_loss: 0.7607 - val_mae: 0.4732\n",
            "Epoch 137/200\n",
            "173/173 - 1s - loss: 0.6755 - mae: 0.4611 - val_loss: 0.7610 - val_mae: 0.4724\n",
            "Epoch 138/200\n",
            "173/173 - 1s - loss: 0.6753 - mae: 0.4611 - val_loss: 0.7608 - val_mae: 0.4743\n",
            "Epoch 139/200\n",
            "173/173 - 1s - loss: 0.6752 - mae: 0.4613 - val_loss: 0.7611 - val_mae: 0.4716\n",
            "Epoch 140/200\n",
            "173/173 - 1s - loss: 0.6745 - mae: 0.4607 - val_loss: 0.7620 - val_mae: 0.4680\n",
            "Epoch 141/200\n",
            "173/173 - 1s - loss: 0.6747 - mae: 0.4609 - val_loss: 0.7609 - val_mae: 0.4746\n",
            "Epoch 142/200\n",
            "173/173 - 1s - loss: 0.6745 - mae: 0.4611 - val_loss: 0.7609 - val_mae: 0.4757\n",
            "Epoch 143/200\n",
            "173/173 - 1s - loss: 0.6742 - mae: 0.4612 - val_loss: 0.7611 - val_mae: 0.4759\n",
            "Epoch 144/200\n",
            "173/173 - 1s - loss: 0.6743 - mae: 0.4611 - val_loss: 0.7614 - val_mae: 0.4709\n",
            "Epoch 145/200\n",
            "173/173 - 1s - loss: 0.6737 - mae: 0.4605 - val_loss: 0.7611 - val_mae: 0.4725\n",
            "Epoch 146/200\n",
            "173/173 - 1s - loss: 0.6737 - mae: 0.4605 - val_loss: 0.7614 - val_mae: 0.4711\n",
            "Epoch 147/200\n",
            "173/173 - 1s - loss: 0.6734 - mae: 0.4606 - val_loss: 0.7611 - val_mae: 0.4766\n",
            "Epoch 148/200\n",
            "173/173 - 1s - loss: 0.6732 - mae: 0.4608 - val_loss: 0.7615 - val_mae: 0.4720\n",
            "Epoch 149/200\n",
            "173/173 - 1s - loss: 0.6732 - mae: 0.4605 - val_loss: 0.7617 - val_mae: 0.4703\n",
            "Epoch 150/200\n",
            "173/173 - 1s - loss: 0.6728 - mae: 0.4605 - val_loss: 0.7615 - val_mae: 0.4724\n",
            "Epoch 151/200\n",
            "173/173 - 1s - loss: 0.6724 - mae: 0.4603 - val_loss: 0.7613 - val_mae: 0.4745\n",
            "Epoch 152/200\n",
            "173/173 - 1s - loss: 0.6725 - mae: 0.4603 - val_loss: 0.7613 - val_mae: 0.4761\n",
            "Epoch 153/200\n",
            "173/173 - 1s - loss: 0.6725 - mae: 0.4605 - val_loss: 0.7614 - val_mae: 0.4758\n",
            "Epoch 154/200\n",
            "173/173 - 1s - loss: 0.6717 - mae: 0.4598 - val_loss: 0.7613 - val_mae: 0.4752\n",
            "Epoch 155/200\n",
            "173/173 - 1s - loss: 0.6715 - mae: 0.4602 - val_loss: 0.7614 - val_mae: 0.4754\n",
            "Epoch 156/200\n",
            "173/173 - 1s - loss: 0.6717 - mae: 0.4601 - val_loss: 0.7623 - val_mae: 0.4693\n",
            "Epoch 157/200\n",
            "173/173 - 1s - loss: 0.6717 - mae: 0.4602 - val_loss: 0.7617 - val_mae: 0.4774\n",
            "Epoch 158/200\n",
            "173/173 - 1s - loss: 0.6712 - mae: 0.4598 - val_loss: 0.7617 - val_mae: 0.4768\n",
            "Epoch 159/200\n",
            "173/173 - 1s - loss: 0.6711 - mae: 0.4602 - val_loss: 0.7614 - val_mae: 0.4753\n",
            "Epoch 160/200\n",
            "173/173 - 1s - loss: 0.6705 - mae: 0.4599 - val_loss: 0.7616 - val_mae: 0.4740\n",
            "Epoch 161/200\n",
            "173/173 - 1s - loss: 0.6706 - mae: 0.4602 - val_loss: 0.7618 - val_mae: 0.4714\n",
            "Epoch 162/200\n",
            "173/173 - 1s - loss: 0.6703 - mae: 0.4598 - val_loss: 0.7618 - val_mae: 0.4754\n",
            "Epoch 163/200\n",
            "173/173 - 1s - loss: 0.6704 - mae: 0.4598 - val_loss: 0.7621 - val_mae: 0.4744\n",
            "Epoch 164/200\n",
            "173/173 - 1s - loss: 0.6701 - mae: 0.4602 - val_loss: 0.7631 - val_mae: 0.4671\n",
            "Epoch 165/200\n",
            "173/173 - 1s - loss: 0.6699 - mae: 0.4599 - val_loss: 0.7623 - val_mae: 0.4699\n",
            "Epoch 166/200\n",
            "173/173 - 1s - loss: 0.6696 - mae: 0.4597 - val_loss: 0.7620 - val_mae: 0.4726\n",
            "Epoch 167/200\n",
            "173/173 - 1s - loss: 0.6696 - mae: 0.4594 - val_loss: 0.7620 - val_mae: 0.4738\n",
            "Epoch 168/200\n",
            "173/173 - 1s - loss: 0.6691 - mae: 0.4596 - val_loss: 0.7622 - val_mae: 0.4715\n",
            "Epoch 169/200\n",
            "173/173 - 1s - loss: 0.6690 - mae: 0.4595 - val_loss: 0.7623 - val_mae: 0.4704\n",
            "Epoch 170/200\n",
            "173/173 - 1s - loss: 0.6686 - mae: 0.4594 - val_loss: 0.7619 - val_mae: 0.4751\n",
            "Epoch 171/200\n",
            "173/173 - 1s - loss: 0.6684 - mae: 0.4591 - val_loss: 0.7625 - val_mae: 0.4774\n",
            "Epoch 172/200\n",
            "173/173 - 1s - loss: 0.6686 - mae: 0.4596 - val_loss: 0.7627 - val_mae: 0.4714\n",
            "Epoch 173/200\n",
            "173/173 - 1s - loss: 0.6679 - mae: 0.4593 - val_loss: 0.7622 - val_mae: 0.4745\n",
            "Epoch 174/200\n",
            "173/173 - 1s - loss: 0.6678 - mae: 0.4593 - val_loss: 0.7625 - val_mae: 0.4713\n",
            "Epoch 175/200\n",
            "173/173 - 1s - loss: 0.6679 - mae: 0.4593 - val_loss: 0.7629 - val_mae: 0.4699\n",
            "Epoch 176/200\n",
            "173/173 - 1s - loss: 0.6675 - mae: 0.4591 - val_loss: 0.7626 - val_mae: 0.4707\n",
            "Epoch 177/200\n",
            "173/173 - 1s - loss: 0.6677 - mae: 0.4589 - val_loss: 0.7626 - val_mae: 0.4773\n",
            "Epoch 178/200\n",
            "173/173 - 1s - loss: 0.6674 - mae: 0.4591 - val_loss: 0.7628 - val_mae: 0.4717\n",
            "Epoch 179/200\n",
            "173/173 - 1s - loss: 0.6671 - mae: 0.4591 - val_loss: 0.7628 - val_mae: 0.4719\n",
            "Epoch 180/200\n",
            "173/173 - 1s - loss: 0.6667 - mae: 0.4589 - val_loss: 0.7628 - val_mae: 0.4732\n",
            "Epoch 181/200\n",
            "173/173 - 1s - loss: 0.6666 - mae: 0.4590 - val_loss: 0.7630 - val_mae: 0.4717\n",
            "Epoch 182/200\n",
            "173/173 - 1s - loss: 0.6664 - mae: 0.4590 - val_loss: 0.7633 - val_mae: 0.4730\n",
            "Epoch 183/200\n",
            "173/173 - 1s - loss: 0.6667 - mae: 0.4589 - val_loss: 0.7628 - val_mae: 0.4731\n",
            "Epoch 184/200\n",
            "173/173 - 1s - loss: 0.6662 - mae: 0.4588 - val_loss: 0.7631 - val_mae: 0.4730\n",
            "Epoch 185/200\n",
            "173/173 - 1s - loss: 0.6659 - mae: 0.4589 - val_loss: 0.7627 - val_mae: 0.4745\n",
            "Epoch 186/200\n",
            "173/173 - 1s - loss: 0.6658 - mae: 0.4588 - val_loss: 0.7643 - val_mae: 0.4678\n",
            "Epoch 187/200\n",
            "173/173 - 1s - loss: 0.6657 - mae: 0.4589 - val_loss: 0.7629 - val_mae: 0.4734\n",
            "Epoch 188/200\n",
            "173/173 - 1s - loss: 0.6655 - mae: 0.4586 - val_loss: 0.7631 - val_mae: 0.4780\n",
            "Epoch 189/200\n",
            "173/173 - 1s - loss: 0.6652 - mae: 0.4585 - val_loss: 0.7629 - val_mae: 0.4736\n",
            "Epoch 190/200\n",
            "173/173 - 1s - loss: 0.6651 - mae: 0.4587 - val_loss: 0.7634 - val_mae: 0.4727\n",
            "Epoch 191/200\n",
            "173/173 - 1s - loss: 0.6649 - mae: 0.4583 - val_loss: 0.7633 - val_mae: 0.4745\n",
            "Epoch 192/200\n",
            "173/173 - 1s - loss: 0.6644 - mae: 0.4587 - val_loss: 0.7632 - val_mae: 0.4723\n",
            "Epoch 193/200\n",
            "173/173 - 1s - loss: 0.6646 - mae: 0.4583 - val_loss: 0.7634 - val_mae: 0.4790\n",
            "Epoch 194/200\n",
            "173/173 - 1s - loss: 0.6647 - mae: 0.4587 - val_loss: 0.7632 - val_mae: 0.4746\n",
            "Epoch 195/200\n",
            "173/173 - 1s - loss: 0.6644 - mae: 0.4584 - val_loss: 0.7632 - val_mae: 0.4757\n",
            "Epoch 196/200\n",
            "173/173 - 1s - loss: 0.6634 - mae: 0.4582 - val_loss: 0.7635 - val_mae: 0.4772\n",
            "Epoch 197/200\n",
            "173/173 - 1s - loss: 0.6638 - mae: 0.4587 - val_loss: 0.7635 - val_mae: 0.4734\n",
            "Epoch 198/200\n",
            "173/173 - 1s - loss: 0.6638 - mae: 0.4584 - val_loss: 0.7641 - val_mae: 0.4711\n",
            "Epoch 199/200\n",
            "173/173 - 1s - loss: 0.6633 - mae: 0.4581 - val_loss: 0.7637 - val_mae: 0.4747\n",
            "Epoch 200/200\n",
            "173/173 - 1s - loss: 0.6631 - mae: 0.4580 - val_loss: 0.7641 - val_mae: 0.4805\n"
          ],
          "name": "stdout"
        },
        {
          "output_type": "display_data",
          "data": {
            "image/png": "[encoded data removed]",
            "text/plain": [
              "<Figure size 432x288 with 1 Axes>"
            ]
          },
          "metadata": {
            "tags": [],
            "needs_background": "light"
          }
        }
      ]
    },
    {
      "cell_type": "code",
      "metadata": {
        "id": "nBDWXDOg0lLf",
        "colab": {
          "base_uri": "https://localhost:8080/"
        },
        "outputId": "5475b412-83fb-43a6-9781-8a085cf21616"
      },
      "source": [
        "# Делаем предсказание и приводим его к начальному виду\n",
        "pred = modelS.predict(xTrain01)\n",
        "predUnscaled = yScaler.inverse_transform(pred).flatten()\n",
        "\n",
        "# Среднее значение ошибки \n",
        "delta = predUnscaled - yTrain\n",
        "absDelta = abs(delta)\n",
        "print(sum(absDelta) / len(absDelta))"
      ],
      "execution_count": 85,
      "outputs": [
        {
          "output_type": "stream",
          "text": [
            "16.44152392375367\n"
          ],
          "name": "stdout"
        }
      ]
    },
    {
      "cell_type": "code",
      "metadata": {
        "colab": {
          "base_uri": "https://localhost:8080/"
        },
        "id": "B2y-titwgWhl",
        "outputId": "6beee100-ae13-4ad8-81a5-6ccb074216db"
      },
      "source": [
        "# Получение результатов для теста\r\n",
        "pred = modelS.predict(xTest)\r\n",
        "predUnscaled = yScaler.inverse_transform(pred).flatten()\r\n",
        "predUnscaled[3]"
      ],
      "execution_count": 92,
      "outputs": [
        {
          "output_type": "execute_result",
          "data": {
            "text/plain": [
              "32.784748"
            ]
          },
          "metadata": {
            "tags": []
          },
          "execution_count": 92
        }
      ]
    },
    {
      "cell_type": "code",
      "metadata": {
        "colab": {
          "base_uri": "https://localhost:8080/"
        },
        "id": "P25OnVZRnJlU",
        "outputId": "4c40dcc3-defa-49b6-d84b-4061787435bf"
      },
      "source": [
        "pred = predUnscaled*1000\r\n",
        "#result = \r\n",
        "#result.head()\r\n",
        "\r\n",
        "print(pred)"
      ],
      "execution_count": 93,
      "outputs": [
        {
          "output_type": "stream",
          "text": [
            "[42338.125 42545.684 71971.24  ... 52198.355 33639.79  24758.516]\n"
          ],
          "name": "stdout"
        }
      ]
    },
    {
      "cell_type": "code",
      "metadata": {
        "colab": {
          "base_uri": "https://localhost:8080/"
        },
        "id": "SiDWC5xS7KJb",
        "outputId": "74df42f3-0825-4570-e29b-74576325f7a2"
      },
      "source": [
        "pred.reshape(-1,1)"
      ],
      "execution_count": 63,
      "outputs": [
        {
          "output_type": "execute_result",
          "data": {
            "text/plain": [
              "array([[40487.07 ],\n",
              "       [37510.617],\n",
              "       [57185.383],\n",
              "       ...,\n",
              "       [50428.54 ],\n",
              "       [26704.502],\n",
              "       [23455.713]], dtype=float32)"
            ]
          },
          "metadata": {
            "tags": []
          },
          "execution_count": 63
        }
      ]
    },
    {
      "cell_type": "code",
      "metadata": {
        "id": "hmQKuNFu7cUG"
      },
      "source": [
        "test['salary'] = pred\r\n",
        "solution = test[['id','salary']]"
      ],
      "execution_count": 94,
      "outputs": []
    },
    {
      "cell_type": "code",
      "metadata": {
        "id": "QP6arnmV9NUB"
      },
      "source": [
        "solution.to_csv('/content/drive/MyDrive/Hakaton/solution.csv', sep=',', index=False)"
      ],
      "execution_count": 95,
      "outputs": []
    },
    {
      "cell_type": "markdown",
      "metadata": {
        "id": "xVlFRTyEAWHq"
      },
      "source": [
        "## Оценка результатов\n",
        "\n",
        "\n",
        "\n"
      ]
    },
    {
      "cell_type": "code",
      "metadata": {
        "id": "xaYqwbsVAb4k"
      },
      "source": [
        "yy = model.predict(xTrain01) # Результат для всего тренировочного набора"
      ],
      "execution_count": 89,
      "outputs": []
    },
    {
      "cell_type": "code",
      "metadata": {
        "id": "dasuOh89Af3u",
        "colab": {
          "base_uri": "https://localhost:8080/"
        },
        "outputId": "ec7b4635-8eb8-478e-8282-e9fc52e66bb5"
      },
      "source": [
        "n = 10\n",
        "for i in range(n):\n",
        "  print('Реальное значение - ',yTrain[i], \" Предсказанное значение - \", yy[i][0], \" Разница - \", abs(yTrain[i]-yy[i][0]))"
      ],
      "execution_count": 90,
      "outputs": [
        {
          "output_type": "stream",
          "text": [
            "Реальное значение -  37.5  Предсказанное значение -  41.287395  Разница -  3.787395477294922\n",
            "Реальное значение -  14.0  Предсказанное значение -  30.118807  Разница -  16.118806838989258\n",
            "Реальное значение -  24.6  Предсказанное значение -  31.679356  Разница -  7.079355621337889\n",
            "Реальное значение -  16.075  Предсказанное значение -  37.569946  Разница -  21.4949462890625\n",
            "Реальное значение -  22.08  Предсказанное значение -  45.400463  Разница -  23.32046310424805\n",
            "Реальное значение -  31.14  Предсказанное значение -  30.82586  Разница -  0.3141409301757818\n",
            "Реальное значение -  27.6  Предсказанное значение -  43.964947  Разница -  16.36494674682617\n",
            "Реальное значение -  33.12  Предсказанное значение -  65.109146  Разница -  31.989146118164065\n",
            "Реальное значение -  22.5  Предсказанное значение -  42.607952  Разница -  20.107952117919922\n",
            "Реальное значение -  139.104  Предсказанное значение -  86.415504  Разница -  52.68849554443361\n"
          ],
          "name": "stdout"
        }
      ]
    },
    {
      "cell_type": "markdown",
      "metadata": {
        "id": "3paVWC1-BDpX"
      },
      "source": [
        "##Используем простые текстовые данные\n"
      ]
    },
    {
      "cell_type": "code",
      "metadata": {
        "id": "vBCbgQ0lBF5z"
      },
      "source": [
        "# Выкачиваем данные по профессиям\n",
        "def getXTrainTProf(values):\n",
        "  xTrainTProf = []\n",
        "  \n",
        "  for val in values:\n",
        "    currText = \"\"\n",
        "    if (type(val) != float):\n",
        "      currText += val\n",
        "    \n",
        "    \n",
        "     # Проверяем, если есть данные о зарплате\n",
        "    xTrainTProf.append(currText)\n",
        "  \n",
        "  xTrainTProf = np.array(xTrainTProf)\n",
        "  \n",
        "  return xTrainTProf"
      ],
      "execution_count": 10,
      "outputs": []
    },
    {
      "cell_type": "code",
      "metadata": {
        "id": "N03XjgjaBR0r",
        "colab": {
          "base_uri": "https://localhost:8080/"
        },
        "outputId": "44c71ce0-569f-4ba9-ec26-8a54c9e88979"
      },
      "source": [
        "# Вытаскиваем професии для выборки\n",
        "xTrainTProf = getXTrainTProf(fixed_df.position) \n",
        "print(xTrainTProf[:100]) # пример профессии 11го резюме"
      ],
      "execution_count": 11,
      "outputs": [
        {
          "output_type": "stream",
          "text": [
            "['Специалист' 'Лаборант' 'Специалист, администратор, бухгалтер, экономист'\n",
            " 'Специалист' 'Инструктор по плаванию' 'учитель технологии'\n",
            " 'контролер отк'\n",
            " 'Юрист, Юриспруденция, ФССП, Федеральная Служба Судебных Приставов.'\n",
            " 'Кондитер' 'Бурильщик ЭРБС' 'Оператор котельной'\n",
            " 'Специалист по туристическим услугам' 'главный механик, механик'\n",
            " 'Медицинская сестра' 'Инспектор' 'подсобный рабочий' 'ищу работу'\n",
            " 'бухгалтер' 'Юрист' 'Менеджер, администратор, директор'\n",
            " 'Руководитель транспортной службы' 'Санитарка' 'Лаборант'\n",
            " 'Строительная сфера' 'Раскройщица натяжных потолков'\n",
            " 'Графический дизайнер' 'Управляющий'\n",
            " 'Специалист в области охраны труда и промышленной безопасности, гражданской обороны и пожарной безопасности'\n",
            " 'Главный бухгалтер' 'инженер' 'Мастер маникюра' 'Аналитик' 'Монтажник'\n",
            " 'Товаровед,старший продавец' 'Менеджер по обслуживанию клиентов'\n",
            " 'HTML - верстальщик' 'Продавец продовольственных товаров' 'Кассир'\n",
            " 'Машинист (кочегар) котельной' 'Электромонтер'\n",
            " 'Учитель в начальных классах, старший продавец' 'электрик' 'Юрист'\n",
            " 'маркетолог, специалист по рекламе, менеджер'\n",
            " 'Телеграфист,помощник делопроизводителя,диспетчер' 'Менеджер' 'Экономист'\n",
            " 'Бухгалтер' 'Секретарь'\n",
            " 'Руководитель отдела снабжения, менеджер по снабжению, снабженец.'\n",
            " 'Слесарь' 'Продавец, кассир, администратор' 'Контрактный управляющий'\n",
            " 'Механик' 'менеджер по продажам' 'Машинист (кочегар) котельной' 'Юрист'\n",
            " 'повар' 'Бармен' 'Администратор' 'Руководитель сервисного центра' 'Юрист'\n",
            " 'воспитатель' 'Специалист' 'Кладовщик, оператор 1С' 'Менеджер'\n",
            " 'Руководитель' 'специалист' 'юрисконсульт'\n",
            " 'администратор, ст.продавец, зам. управ. магазина'\n",
            " 'продавец-кассир,повар' 'Директор' 'Специалист в сфере туризма' 'швея...'\n",
            " 'начальник слесарно-механического участка, мастер, технический консультант'\n",
            " 'Менеджер' 'Администратор' 'Оператор ЭВМ' 'Инженер' 'Специалист'\n",
            " 'Оператор котельной' 'специалист' 'Руководитель отдела автоматизации'\n",
            " 'Специалист' 'продавец' 'Специалист' 'Юрист,менеджер' 'Специалист'\n",
            " 'ПРОДАВЕЦ' 'Мастер-жилищно-коммунального хозяйства'\n",
            " 'Специалист по социальной работе, помощник воспитателя' 'Охранник'\n",
            " 'Мастер' 'механик' 'Бухгалтер' 'Водитель-экспедитор'\n",
            " 'Охранник , контролер , водитель, экспедитор, старший смены'\n",
            " 'Водитель категории \"В\"' 'Туроператор' 'Оператор станка чпу']\n"
          ],
          "name": "stdout"
        }
      ]
    },
    {
      "cell_type": "code",
      "metadata": {
        "colab": {
          "base_uri": "https://localhost:8080/"
        },
        "id": "RnZTCpA7C16o",
        "outputId": "df61b125-c3e0-4935-f9d6-5517c938a042"
      },
      "source": [
        "len(xTrainTProf)"
      ],
      "execution_count": 35,
      "outputs": [
        {
          "output_type": "execute_result",
          "data": {
            "text/plain": [
              "303851"
            ]
          },
          "metadata": {
            "tags": []
          },
          "execution_count": 35
        }
      ]
    },
    {
      "cell_type": "code",
      "metadata": {
        "id": "ivYtke6XBaCN"
      },
      "source": [
        "#################\n",
        "#Преобразовываем текстовые данные в числовые/векторные для обучения нейросетью\n",
        "#################\n",
        "\n",
        "maxWordsCount = 5000 #определяем макс.кол-во слов/индексов, учитываемое при обучении текстов\n",
        "\n",
        "#для этого воспользуемся встроенной в Keras функцией Tokenizer для разбиения текста и превращения в матрицу числовых значений\n",
        "tokenizer = Tokenizer(num_words=maxWordsCount, filters='!\"#$%&()*+,-–—./:;<=>?@[\\\\]^_`{|}~\\t\\n\\xa0', lower=True, split=' ', oov_token='unknown', char_level=True)\n",
        "#выше задаем параметры:\n",
        "#(num_words=maxWordsCount) - определяем макс.кол-во слов/индексов, учитываемое при обучении текстов0\n",
        "#(filters='!\"#$%&()*+,-./:;<=>?@[\\\\]^_`{|}~\\t\\n') - избавляемся от ненужных символов\n",
        "#(lower=True) - приводим слова к нижнему регистру\n",
        "#(split=' ') - разделяем слова по пробелу\n",
        "#(char_level=False) - просим токенайзер не удалять однобуквенные слова\n",
        "\n",
        "tokenizer.fit_on_texts(xTrainTProf) # \"скармливаем\" наши тексты, т.е даём в обработку методу, который соберет словарь частотности\n",
        "items = list(tokenizer.word_index.items())  #Вытаскиваем индексы слов для просмотра"
      ],
      "execution_count": 12,
      "outputs": []
    },
    {
      "cell_type": "code",
      "metadata": {
        "id": "JXVN-Qg9Bc-f"
      },
      "source": [
        "#преобразовываем текст в последовательность индексов согласно частотному словарю\n",
        "xTrainProfIndexes = tokenizer.texts_to_sequences(xTrainTProf) #обучающие тесты в индексы"
      ],
      "execution_count": 13,
      "outputs": []
    },
    {
      "cell_type": "markdown",
      "metadata": {
        "id": "Z6ddE2d_BhE7"
      },
      "source": [
        "## Создание обучающей и проверочной выборки\n",
        "\n",
        "*Разбор данного раздела:* https://youtu.be/h8cOCvlYmN8?t=1451\n"
      ]
    },
    {
      "cell_type": "code",
      "metadata": {
        "id": "cEpXXnnKCFQS",
        "colab": {
          "base_uri": "https://localhost:8080/"
        },
        "outputId": "151c0687-761d-4a5e-91b9-5c85a1934778"
      },
      "source": [
        "# Преобразовываем полученные выборки из последовательности индексов в матрицы нулей и единиц по принципу Bag of Words\n",
        "xTrainProf01 = tokenizer.sequences_to_matrix(xTrainProfIndexes) # Подаем xTrain в виде списка чтобы метод успешно сработал\n",
        "print(xTrainProf01.shape)                                       # Размер обучающей выборки, сформированной по Bag of Words\n",
        "print(xTrainProf01[0][0:50])        "
      ],
      "execution_count": 14,
      "outputs": [
        {
          "output_type": "stream",
          "text": [
            "(303851, 5000)\n",
            "[0. 0. 0. 1. 1. 1. 0. 1. 0. 0. 1. 1. 0. 0. 1. 0. 0. 0. 0. 0. 0. 0. 0. 1.\n",
            " 0. 0. 0. 0. 0. 0. 0. 0. 0. 0. 0. 0. 0. 0. 0. 0. 0. 0. 0. 0. 0. 0. 0. 0.\n",
            " 0. 0.]\n"
          ],
          "name": "stdout"
        }
      ]
    },
    {
      "cell_type": "code",
      "metadata": {
        "id": "aHF_eFDDCU98",
        "colab": {
          "base_uri": "https://localhost:8080/"
        },
        "outputId": "74a7b54b-0f42-4676-cf6e-fa9fe6e995bb"
      },
      "source": [
        "n = 0\n",
        "print(xTrainTProf[n])       # Профессия\n",
        "print(xTrainProfIndexes[n]) # Профессия через индексы"
      ],
      "execution_count": 39,
      "outputs": [
        {
          "output_type": "stream",
          "text": [
            "Специалист\n",
            "[10, 14, 3, 23, 4, 5, 11, 4, 10, 7]\n"
          ],
          "name": "stdout"
        }
      ]
    },
    {
      "cell_type": "code",
      "metadata": {
        "id": "L7rEBTXvDmtW",
        "colab": {
          "base_uri": "https://localhost:8080/"
        },
        "outputId": "bd4253f9-f4be-4e14-87d7-3dd0c66387df"
      },
      "source": [
        "xTrainProf01.shape"
      ],
      "execution_count": 40,
      "outputs": [
        {
          "output_type": "execute_result",
          "data": {
            "text/plain": [
              "(303851, 1000)"
            ]
          },
          "metadata": {
            "tags": []
          },
          "execution_count": 40
        }
      ]
    },
    {
      "cell_type": "code",
      "metadata": {
        "colab": {
          "base_uri": "https://localhost:8080/"
        },
        "id": "MEnJZEGP5Ywc",
        "outputId": "86c14392-950a-4750-f663-4ac510a49d88"
      },
      "source": [
        "yTrain.shape"
      ],
      "execution_count": 32,
      "outputs": [
        {
          "output_type": "execute_result",
          "data": {
            "text/plain": [
              "(303851,)"
            ]
          },
          "metadata": {
            "tags": []
          },
          "execution_count": 32
        }
      ]
    },
    {
      "cell_type": "markdown",
      "metadata": {
        "id": "lpQth80gCavm"
      },
      "source": [
        "##Обучаем нейронку на простых текстовых данных"
      ]
    },
    {
      "cell_type": "code",
      "metadata": {
        "id": "d57U78eTCfKW",
        "colab": {
          "base_uri": "https://localhost:8080/"
        },
        "outputId": "494ba5c6-3758-4276-c7b7-28a926ff47ad"
      },
      "source": [
        "# Предсказываем по предыдущей работе и желаемой\n",
        "modelTProf = Sequential()\n",
        "modelTProf.add(Dense(20, activation='relu', input_dim=(xTrainProf01.shape[1]) ) )\n",
        "modelTProf.add(Dense(500, activation='relu'))\n",
        "modelTProf.add(Dense(1, activation='linear'))\n",
        "\n",
        "modelTProf.compile(optimizer=Adagrad(lr=1e-3), loss='mse', metrics=['mae'])\n",
        "\n",
        "history = modelTProf.fit(xTrainProf01[:50000], \n",
        "                    yTrain[:50000], \n",
        "                    batch_size=20,\n",
        "                    epochs=50, \n",
        "                    #validation_split=0.1, \n",
        "                    validation_data=(xTrainProf01[50000:], yTrain[50000:]),\n",
        "                    verbose=1, shuffle=True)\n",
        "\n",
        "plt.plot(history.history['mae'], \n",
        "         label='Средняя абсолютная ошибка на обучающем наборе')\n",
        "plt.plot(history.history['val_mae'], \n",
        "         label='Средняя абсолютная ошибка на проверочном наборе')\n",
        "plt.xlabel('Эпоха обучения')\n",
        "plt.ylabel('Средняя абсолютная ошибка')\n",
        "plt.legend()\n",
        "plt.show()"
      ],
      "execution_count": null,
      "outputs": [
        {
          "output_type": "stream",
          "text": [
            "Epoch 1/50\n",
            "2481/2500 [============================>.] - ETA: 0s - loss: 1969.6424 - mae: 28.1387"
          ],
          "name": "stdout"
        }
      ]
    },
    {
      "cell_type": "code",
      "metadata": {
        "id": "HbHzBrEzYtIY"
      },
      "source": [
        "del xTrainProf01 # Удаляем переменную, иначе дальше может вылететь из-за нехватки памяти"
      ],
      "execution_count": null,
      "outputs": []
    },
    {
      "cell_type": "code",
      "metadata": {
        "id": "8iWf3vPyJ1fA"
      },
      "source": [
        "modelTProf.save('/content/drive/MyDrive/Hakaton/simple_text.h5')"
      ],
      "execution_count": 44,
      "outputs": []
    },
    {
      "cell_type": "markdown",
      "metadata": {
        "id": "wrTiYc4UNIJ3"
      },
      "source": [
        "##Загружаем сложные текстовые данные\n",
        "\n",
        "*Разбор данного раздела:* https://youtu.be/h8cOCvlYmN8?t=1566"
      ]
    },
    {
      "cell_type": "code",
      "metadata": {
        "id": "aM9L-fDy9fkQ"
      },
      "source": [
        "# Выкачиваем данные по резюме\n",
        "def getXTrainTRez(values):\n",
        "  xTrainTRez = []\n",
        "  \n",
        "  for val in values:\n",
        "    currText = \"\"\n",
        "    if (type(val[6]) != float):\n",
        "      currText += val[6]\n",
        "    \n",
        "    if (getParameterSalary(val[1]) != -1):\n",
        "      xTrainTRez.append(currText)\n",
        "  \n",
        "  xTrainTRez = np.array(xTrainTRez)\n",
        "  \n",
        "  return xTrainTRez"
      ],
      "execution_count": null,
      "outputs": []
    },
    {
      "cell_type": "code",
      "metadata": {
        "id": "YtCuDHOLNO8w"
      },
      "source": [
        "# Вытаскиваем резюме для выборки\n",
        "xTrainTRez = getXTrainTRez(fixed_df.values)"
      ],
      "execution_count": null,
      "outputs": []
    },
    {
      "cell_type": "code",
      "metadata": {
        "id": "8pE1EJ89NcS3"
      },
      "source": [
        "print(xTrainTRez[10]) # Пример профессии 11го резюме"
      ],
      "execution_count": null,
      "outputs": []
    },
    {
      "cell_type": "code",
      "metadata": {
        "id": "8KIK4NSTNhaY"
      },
      "source": [
        "#################\n",
        "#Преобразовываем текстовые данные в числовые/векторные для обучения нейросетью\n",
        "#################\n",
        "\n",
        "maxWordsCount = 5000 #определяем макс.кол-во слов/индексов, учитываемое при обучении текстов\n",
        "\n",
        "#для этого воспользуемся встроенной в Keras функцией Tokenizer для разбиения текста и превращения в матрицу числовых значений\n",
        "tokenizer = Tokenizer(num_words=maxWordsCount, filters='!\"#$%&()*+,-–—./:;<=>?@[\\\\]^_`{|}~\\t\\n\\xa0', lower=True, split=' ', oov_token='unknown', char_level=False)\n",
        "#выше задаем параметры:\n",
        "#(num_words=maxWordsCount) - определяем макс.кол-во слов/индексов, учитываемое при обучении текстов\n",
        "#(filters='!\"#$%&()*+,-./:;<=>?@[\\\\]^_`{|}~\\t\\n') - избавляемся от ненужных символов\n",
        "#(lower=True) - приводим слова к нижнему регистру\n",
        "#(split=' ') - разделяем слова по пробелу\n",
        "#(char_level=False) - просим токенайзер не удалять однобуквенные слова\n",
        "\n",
        "tokenizer.fit_on_texts(xTrainTRez)         # \"скармливаем\" наши тексты, т.е даём в обработку методу, который соберет словарь частотности\n",
        "items = list(tokenizer.word_index.items()) # Вытаскиваем индексы слов для просмотра"
      ],
      "execution_count": null,
      "outputs": []
    },
    {
      "cell_type": "code",
      "metadata": {
        "id": "eQHVb6dqNkXJ"
      },
      "source": [
        "# Преобразовываем текст в последовательность индексов согласно частотному словарю\n",
        "xTrainRezIndexes = tokenizer.texts_to_sequences(xTrainTRez) # Обучающие тесты в индексы"
      ],
      "execution_count": null,
      "outputs": []
    },
    {
      "cell_type": "markdown",
      "metadata": {
        "id": "I3v4ufg9NyKf"
      },
      "source": [
        "## Создание обучающей и проверочной выборки\n",
        "\n",
        "Функции для формирования выборки по отрезкам текста с заданным шагом\n",
        "\n",
        "Подготовка данных"
      ]
    },
    {
      "cell_type": "code",
      "metadata": {
        "id": "EBNaXukiN346",
        "colab": {
          "base_uri": "https://localhost:8080/",
          "height": 119
        },
        "outputId": "db566d04-7060-4037-fb27-c23248852942"
      },
      "source": [
        "xTrainRez01 = tokenizer.sequences_to_matrix(xTrainRezIndexes) # Подаем xTrain в виде списка чтобы метод успешно сработал\n",
        "print(xTrainRez01.shape)                                      # Размер обучающей выборки, сформированной по Bag of Words\n",
        "print(xTrainRez01[0][0:100])    "
      ],
      "execution_count": null,
      "outputs": [
        {
          "output_type": "stream",
          "text": [
            "(62967, 5000)\n",
            "[0. 0. 1. 1. 1. 0. 1. 1. 1. 0. 0. 0. 0. 0. 1. 0. 1. 1. 1. 0. 0. 1. 1. 0.\n",
            " 1. 0. 1. 0. 0. 0. 0. 0. 1. 1. 0. 0. 0. 0. 0. 0. 0. 0. 0. 0. 0. 0. 0. 0.\n",
            " 0. 0. 0. 1. 0. 0. 1. 0. 0. 1. 0. 0. 0. 0. 0. 0. 0. 0. 0. 1. 0. 1. 0. 0.\n",
            " 0. 0. 0. 1. 0. 1. 0. 0. 0. 0. 0. 0. 0. 0. 0. 0. 0. 0. 1. 0. 0. 0. 0. 1.\n",
            " 0. 0. 1. 0.]\n"
          ],
          "name": "stdout"
        }
      ]
    },
    {
      "cell_type": "code",
      "metadata": {
        "id": "x6AY8WUWN6ER",
        "colab": {
          "base_uri": "https://localhost:8080/",
          "height": 51
        },
        "outputId": "1660a9fc-afa8-4363-9cba-a8bf5028505a"
      },
      "source": [
        "print(xTrainRez01.shape) # Размер выборки самых частых слов\n",
        "print(xTrainRez01[555]) # Пример из отформатированной выборки"
      ],
      "execution_count": null,
      "outputs": [
        {
          "output_type": "stream",
          "text": [
            "(62967, 5000)\n",
            "[0. 0. 1. ... 0. 0. 0.]\n"
          ],
          "name": "stdout"
        }
      ]
    },
    {
      "cell_type": "markdown",
      "metadata": {
        "id": "1m-lj10tN9xN"
      },
      "source": [
        "##Обучаем нейронку на сложных текстовых данных\n",
        "\n",
        "\n"
      ]
    },
    {
      "cell_type": "code",
      "metadata": {
        "id": "5yZRQ858OEgA",
        "colab": {
          "base_uri": "https://localhost:8080/",
          "height": 959
        },
        "outputId": "1327d9d4-a29d-4e77-f19c-d17cca547efa"
      },
      "source": [
        "# здесь в параметрах maxWordCount = 2000\n",
        "modelTRez = Sequential()\n",
        "modelTRez.add(Dense(20, activation='relu',input_dim=(xTrainRez01.shape[1])))\n",
        "modelTRez.add(Dense(500, activation='relu'))\n",
        "modelTRez.add(Dropout(0.3))\n",
        "modelTRez.add(Dense(1, activation='linear'))\n",
        " \n",
        "modelTRez.compile(optimizer=Adam(lr=1e-3), loss='mse', metrics=['mae'])\n",
        " \n",
        "history = modelTRez.fit(xTrainRez01[:50000], \n",
        "                    yTrain[:50000], \n",
        "                    batch_size=20,\n",
        "                    epochs=20, \n",
        "                    validation_data=(xTrainRez01[50000:], yTrain[50000:]),\n",
        "                    verbose=1, shuffle=True)\n",
        " \n",
        "plt.plot(history.history['mae'], \n",
        "         label='Средняя абсолютная ошибка на обучающем наборе')\n",
        "plt.plot(history.history['val_mae'], \n",
        "         label='Средняя абсолютная ошибка на проверочном наборе')\n",
        "plt.xlabel('Эпоха обучения')\n",
        "plt.ylabel('Средняя абсолютная ошибка')\n",
        "plt.legend()\n",
        "plt.show()"
      ],
      "execution_count": null,
      "outputs": [
        {
          "output_type": "stream",
          "text": [
            "Epoch 1/20\n",
            "2500/2500 [==============================] - 5s 2ms/step - loss: 15660.3145 - mae: 27.4569 - val_loss: 1513.4458 - val_mae: 24.8467\n",
            "Epoch 2/20\n",
            "2500/2500 [==============================] - 5s 2ms/step - loss: 14903.1260 - mae: 23.8727 - val_loss: 1540.6873 - val_mae: 25.7508\n",
            "Epoch 3/20\n",
            "2500/2500 [==============================] - 5s 2ms/step - loss: 14090.9912 - mae: 22.9985 - val_loss: 1428.7754 - val_mae: 23.5003\n",
            "Epoch 4/20\n",
            "2500/2500 [==============================] - 6s 2ms/step - loss: 13188.4990 - mae: 21.2798 - val_loss: 1505.1117 - val_mae: 23.7810\n",
            "Epoch 5/20\n",
            "2500/2500 [==============================] - 5s 2ms/step - loss: 11952.0039 - mae: 19.8930 - val_loss: 1428.9722 - val_mae: 23.5358\n",
            "Epoch 6/20\n",
            "2500/2500 [==============================] - 5s 2ms/step - loss: 10167.0332 - mae: 18.7258 - val_loss: 2941.7305 - val_mae: 31.4668\n",
            "Epoch 7/20\n",
            "2500/2500 [==============================] - 5s 2ms/step - loss: 9631.6514 - mae: 18.8640 - val_loss: 1475.1525 - val_mae: 23.7413\n",
            "Epoch 8/20\n",
            "2500/2500 [==============================] - 5s 2ms/step - loss: 7854.4580 - mae: 18.2596 - val_loss: 1489.9034 - val_mae: 23.6174\n",
            "Epoch 9/20\n",
            "2500/2500 [==============================] - 5s 2ms/step - loss: 7427.1089 - mae: 17.6362 - val_loss: 1519.5205 - val_mae: 23.7040\n",
            "Epoch 10/20\n",
            "2500/2500 [==============================] - 5s 2ms/step - loss: 6167.9443 - mae: 17.5687 - val_loss: 1517.7040 - val_mae: 23.7693\n",
            "Epoch 11/20\n",
            "2500/2500 [==============================] - 5s 2ms/step - loss: 5042.6377 - mae: 16.9708 - val_loss: 1569.2001 - val_mae: 23.8454\n",
            "Epoch 12/20\n",
            "2500/2500 [==============================] - 5s 2ms/step - loss: 5085.5679 - mae: 16.7754 - val_loss: 1491.9805 - val_mae: 23.4558\n",
            "Epoch 13/20\n",
            "2500/2500 [==============================] - 5s 2ms/step - loss: 4124.8389 - mae: 16.3715 - val_loss: 1606.7446 - val_mae: 23.8070\n",
            "Epoch 14/20\n",
            "2500/2500 [==============================] - 5s 2ms/step - loss: 3150.5625 - mae: 16.1127 - val_loss: 1540.3501 - val_mae: 23.4347\n",
            "Epoch 15/20\n",
            "2500/2500 [==============================] - 5s 2ms/step - loss: 4156.3408 - mae: 15.7519 - val_loss: 1736.9421 - val_mae: 24.0045\n",
            "Epoch 16/20\n",
            "2500/2500 [==============================] - 5s 2ms/step - loss: 3431.4102 - mae: 15.5203 - val_loss: 1551.9884 - val_mae: 23.4296\n",
            "Epoch 17/20\n",
            "2500/2500 [==============================] - 5s 2ms/step - loss: 2872.1389 - mae: 15.2153 - val_loss: 1735.5563 - val_mae: 23.9589\n",
            "Epoch 18/20\n",
            "2500/2500 [==============================] - 6s 2ms/step - loss: 2233.4651 - mae: 15.0534 - val_loss: 1641.1573 - val_mae: 23.7674\n",
            "Epoch 19/20\n",
            "2500/2500 [==============================] - 6s 2ms/step - loss: 2157.6689 - mae: 14.9329 - val_loss: 1620.9928 - val_mae: 23.8635\n",
            "Epoch 20/20\n",
            "2500/2500 [==============================] - 5s 2ms/step - loss: 2410.0823 - mae: 14.7706 - val_loss: 1741.6744 - val_mae: 23.6693\n"
          ],
          "name": "stdout"
        },
        {
          "output_type": "display_data",
          "data": {
            "image/png": "[encoded data removed]",
            "text/plain": [
              "<Figure size 432x288 with 1 Axes>"
            ]
          },
          "metadata": {
            "tags": [],
            "needs_background": "light"
          }
        }
      ]
    },
    {
      "cell_type": "markdown",
      "metadata": {
        "id": "7rvE77OXTiXb"
      },
      "source": [
        "##Составная нейронка\n",
        "\n"
      ]
    },
    {
      "cell_type": "code",
      "metadata": {
        "id": "u76eKcnlTotB",
        "colab": {
          "base_uri": "https://localhost:8080/"
        },
        "outputId": "e4250045-ffb2-4dc1-e6cf-9557b938d2be"
      },
      "source": [
        "input1 = Input((xTrain01.shape[1],))\n",
        "input2 = Input((xTrainProf01.shape[1],))\n",
        "#input3 = Input((xTrainRez01.shape[1],))\n",
        "\n",
        "x1 = BatchNormalization()(input1) # Создаем ветку х1\n",
        "x1 = Dropout(0.5)(x1)\n",
        "x1 = Dense(10, activation=\"relu\")(x1)\n",
        "x1 = Dense(1000, activation=\"relu\")(x1)\n",
        "x1 = Dense(100, activation = \"relu\")(x1)\n",
        "\n",
        "x2 = BatchNormalization()(input2) # Создаем ветку х2\n",
        "x2 = Dense(25, activation=\"relu\")(input2)\n",
        "x2 = Dense(8, activation=\"tanh\")(x2)\n",
        "x2 = Dense(5, activation = \"elu\")(x2)\n",
        "\n",
        "#x3 = BatchNormalization()(input3) # Создаем ветку х3\n",
        "#x3 = Dense(1000, activation=\"tanh\")(input3)\n",
        "#x3 = Dense(20, activation = \"elu\")(x3)\n",
        "#x3 = Dense(5, activation = \"elu\")(x3)\n",
        "\n",
        "x = concatenate([x1, x2]) # Объединяем все три ветки\n",
        "\n",
        "x = Dense(15, activation='linear')(x)\n",
        "x = Dropout(0.5)(x)\n",
        "x = Dense(1, activation='relu')(x) # Финальный нейрон, делает регрессию\n",
        "\n",
        "model = Model((input1, input2), x) # В Model загружаем стартовые и последнюю точки \n",
        "\n",
        "model.compile(optimizer=Adam(lr=1e-3), loss='mse', metrics=['mae'])\n",
        "\n",
        "history = model.fit([xTrain01[:50000], xTrainProf01[:50000]], \n",
        "                    yTrain[:50000], \n",
        "                    epochs= 80, \n",
        "                    validation_data=([xTrain01[50000:], xTrainProf01[50000:]], \n",
        "                    yTrain[50000:]), \n",
        "                    verbose=1, shuffle=True)"
      ],
      "execution_count": 15,
      "outputs": [
        {
          "output_type": "stream",
          "text": [
            "Epoch 1/80\n",
            "1563/1563 [==============================] - 30s 17ms/step - loss: 1500.4421 - mae: 22.3871 - val_loss: 940.3130 - val_mae: 17.3244\n",
            "Epoch 2/80\n",
            "1563/1563 [==============================] - 24s 16ms/step - loss: 1191.5761 - mae: 19.7223 - val_loss: 981.5781 - val_mae: 16.7958\n",
            "Epoch 3/80\n",
            "1563/1563 [==============================] - 25s 16ms/step - loss: 1169.3249 - mae: 19.7083 - val_loss: 959.8932 - val_mae: 16.5889\n",
            "Epoch 4/80\n",
            "1563/1563 [==============================] - 26s 16ms/step - loss: 1142.7996 - mae: 19.2777 - val_loss: 942.5017 - val_mae: 16.7426\n",
            "Epoch 5/80\n",
            "1563/1563 [==============================] - 25s 16ms/step - loss: 1344.0696 - mae: 19.5519 - val_loss: 920.5020 - val_mae: 16.9710\n",
            "Epoch 6/80\n",
            "1563/1563 [==============================] - 25s 16ms/step - loss: 1116.4081 - mae: 19.0428 - val_loss: 985.9606 - val_mae: 16.3841\n",
            "Epoch 7/80\n",
            "1563/1563 [==============================] - 24s 15ms/step - loss: 1215.6286 - mae: 19.2362 - val_loss: 986.0775 - val_mae: 16.3500\n",
            "Epoch 8/80\n",
            "1563/1563 [==============================] - 25s 16ms/step - loss: 1134.9856 - mae: 18.9258 - val_loss: 904.9711 - val_mae: 17.0886\n",
            "Epoch 9/80\n",
            "1563/1563 [==============================] - 24s 15ms/step - loss: 1079.1666 - mae: 19.0648 - val_loss: 925.5150 - val_mae: 16.6872\n",
            "Epoch 10/80\n",
            "1563/1563 [==============================] - 24s 15ms/step - loss: 1029.5776 - mae: 18.7992 - val_loss: 907.2680 - val_mae: 17.5929\n",
            "Epoch 11/80\n",
            "1563/1563 [==============================] - 25s 16ms/step - loss: 1118.1091 - mae: 18.8723 - val_loss: 930.6499 - val_mae: 16.5696\n",
            "Epoch 12/80\n",
            "1563/1563 [==============================] - 24s 15ms/step - loss: 1337.2959 - mae: 18.9453 - val_loss: 918.9095 - val_mae: 17.0095\n",
            "Epoch 13/80\n",
            "1563/1563 [==============================] - 25s 16ms/step - loss: 1038.1183 - mae: 18.5402 - val_loss: 904.9728 - val_mae: 16.7474\n",
            "Epoch 14/80\n",
            "1563/1563 [==============================] - 24s 15ms/step - loss: 1041.6821 - mae: 18.7799 - val_loss: 916.6785 - val_mae: 16.5994\n",
            "Epoch 15/80\n",
            "1563/1563 [==============================] - 24s 16ms/step - loss: 1113.8098 - mae: 18.5740 - val_loss: 917.9315 - val_mae: 16.8466\n",
            "Epoch 16/80\n",
            "1563/1563 [==============================] - 24s 15ms/step - loss: 997.9386 - mae: 18.4505 - val_loss: 915.2992 - val_mae: 16.9395\n",
            "Epoch 17/80\n",
            "1563/1563 [==============================] - 27s 17ms/step - loss: 947.3973 - mae: 18.3769 - val_loss: 933.0094 - val_mae: 16.5419\n",
            "Epoch 18/80\n",
            "1563/1563 [==============================] - 24s 15ms/step - loss: 1066.5416 - mae: 18.5872 - val_loss: 923.9249 - val_mae: 17.1488\n",
            "Epoch 19/80\n",
            "1563/1563 [==============================] - 25s 16ms/step - loss: 1078.9926 - mae: 18.4958 - val_loss: 919.3031 - val_mae: 16.9046\n",
            "Epoch 20/80\n",
            "1563/1563 [==============================] - 23s 15ms/step - loss: 990.7385 - mae: 18.2995 - val_loss: 916.3650 - val_mae: 17.0400\n",
            "Epoch 21/80\n",
            "1563/1563 [==============================] - 25s 16ms/step - loss: 1106.7737 - mae: 18.2928 - val_loss: 908.7714 - val_mae: 17.2176\n",
            "Epoch 22/80\n",
            "1563/1563 [==============================] - 24s 16ms/step - loss: 1012.4967 - mae: 18.1838 - val_loss: 919.9083 - val_mae: 16.9558\n",
            "Epoch 23/80\n",
            "1563/1563 [==============================] - 24s 15ms/step - loss: 914.4272 - mae: 17.7745 - val_loss: 906.2982 - val_mae: 17.1968\n",
            "Epoch 24/80\n",
            "1563/1563 [==============================] - 25s 16ms/step - loss: 1159.1310 - mae: 18.1548 - val_loss: 917.1638 - val_mae: 16.4869\n",
            "Epoch 25/80\n",
            "1563/1563 [==============================] - 25s 16ms/step - loss: 1421.2030 - mae: 18.3472 - val_loss: 921.8241 - val_mae: 16.4229\n",
            "Epoch 26/80\n",
            "1563/1563 [==============================] - 25s 16ms/step - loss: 1023.5179 - mae: 18.0472 - val_loss: 913.5642 - val_mae: 16.7559\n",
            "Epoch 27/80\n",
            "1563/1563 [==============================] - 24s 16ms/step - loss: 1194.0689 - mae: 18.2778 - val_loss: 924.3793 - val_mae: 16.9174\n",
            "Epoch 28/80\n",
            "1563/1563 [==============================] - 25s 16ms/step - loss: 943.7918 - mae: 17.8319 - val_loss: 913.9585 - val_mae: 17.0743\n",
            "Epoch 29/80\n",
            "1563/1563 [==============================] - 25s 16ms/step - loss: 1039.6105 - mae: 17.9750 - val_loss: 919.8021 - val_mae: 17.4192\n",
            "Epoch 30/80\n",
            "1563/1563 [==============================] - 25s 16ms/step - loss: 970.7831 - mae: 17.9269 - val_loss: 910.8968 - val_mae: 16.8963\n",
            "Epoch 31/80\n",
            "1563/1563 [==============================] - 23s 15ms/step - loss: 1056.4761 - mae: 17.9782 - val_loss: 924.5508 - val_mae: 16.8781\n",
            "Epoch 32/80\n",
            "1563/1563 [==============================] - 24s 16ms/step - loss: 1168.4014 - mae: 17.9740 - val_loss: 932.3850 - val_mae: 16.5459\n",
            "Epoch 33/80\n",
            "1563/1563 [==============================] - 24s 15ms/step - loss: 1274.6615 - mae: 18.0041 - val_loss: 919.7224 - val_mae: 17.0707\n",
            "Epoch 34/80\n",
            "1563/1563 [==============================] - 24s 15ms/step - loss: 954.2893 - mae: 17.9600 - val_loss: 915.1798 - val_mae: 17.2041\n",
            "Epoch 35/80\n",
            "1563/1563 [==============================] - 25s 16ms/step - loss: 1172.7892 - mae: 17.9645 - val_loss: 925.0818 - val_mae: 17.1845\n",
            "Epoch 36/80\n",
            "1563/1563 [==============================] - 24s 15ms/step - loss: 929.4205 - mae: 17.6389 - val_loss: 916.6644 - val_mae: 16.8699\n",
            "Epoch 37/80\n",
            "1563/1563 [==============================] - 23s 15ms/step - loss: 1132.3290 - mae: 17.9479 - val_loss: 911.4770 - val_mae: 16.8940\n",
            "Epoch 38/80\n",
            "1563/1563 [==============================] - 23s 15ms/step - loss: 1090.5525 - mae: 17.9797 - val_loss: 945.4541 - val_mae: 16.3578\n",
            "Epoch 39/80\n",
            "1563/1563 [==============================] - 24s 16ms/step - loss: 1123.1811 - mae: 17.8494 - val_loss: 913.5697 - val_mae: 17.0304\n",
            "Epoch 40/80\n",
            "1563/1563 [==============================] - 24s 15ms/step - loss: 1240.5285 - mae: 17.9354 - val_loss: 931.4800 - val_mae: 16.4391\n",
            "Epoch 41/80\n",
            "1563/1563 [==============================] - 25s 16ms/step - loss: 924.3308 - mae: 17.5743 - val_loss: 931.1317 - val_mae: 16.9612\n",
            "Epoch 42/80\n",
            "1563/1563 [==============================] - 25s 16ms/step - loss: 938.1853 - mae: 17.6882 - val_loss: 913.7125 - val_mae: 17.3506\n",
            "Epoch 43/80\n",
            "1563/1563 [==============================] - 24s 15ms/step - loss: 1041.0685 - mae: 17.6827 - val_loss: 911.3925 - val_mae: 16.7420\n",
            "Epoch 44/80\n",
            "1563/1563 [==============================] - 24s 15ms/step - loss: 1062.6873 - mae: 17.5518 - val_loss: 916.8769 - val_mae: 17.1107\n",
            "Epoch 45/80\n",
            "1563/1563 [==============================] - 24s 15ms/step - loss: 980.0024 - mae: 17.8617 - val_loss: 925.6934 - val_mae: 16.5602\n",
            "Epoch 46/80\n",
            "1563/1563 [==============================] - 24s 16ms/step - loss: 1102.0512 - mae: 17.8478 - val_loss: 923.4241 - val_mae: 17.1199\n",
            "Epoch 47/80\n",
            "1563/1563 [==============================] - 24s 15ms/step - loss: 890.2647 - mae: 17.4544 - val_loss: 922.2485 - val_mae: 16.7120\n",
            "Epoch 48/80\n",
            "1563/1563 [==============================] - 23s 15ms/step - loss: 969.3552 - mae: 17.9139 - val_loss: 932.1611 - val_mae: 17.1452\n",
            "Epoch 49/80\n",
            "1563/1563 [==============================] - 24s 15ms/step - loss: 913.0016 - mae: 17.4625 - val_loss: 926.9548 - val_mae: 17.2551\n",
            "Epoch 50/80\n",
            "1563/1563 [==============================] - 23s 15ms/step - loss: 1153.2449 - mae: 17.8360 - val_loss: 931.9069 - val_mae: 17.0457\n",
            "Epoch 51/80\n",
            "1563/1563 [==============================] - 23s 15ms/step - loss: 1065.9943 - mae: 17.6123 - val_loss: 922.9906 - val_mae: 17.5098\n",
            "Epoch 52/80\n",
            "1563/1563 [==============================] - 24s 15ms/step - loss: 1063.9467 - mae: 17.7836 - val_loss: 918.4005 - val_mae: 16.8000\n",
            "Epoch 53/80\n",
            "1563/1563 [==============================] - 24s 15ms/step - loss: 948.7204 - mae: 17.5169 - val_loss: 922.7385 - val_mae: 16.9200\n",
            "Epoch 54/80\n",
            "1563/1563 [==============================] - 24s 15ms/step - loss: 1056.1220 - mae: 17.5787 - val_loss: 937.4546 - val_mae: 17.8579\n",
            "Epoch 55/80\n",
            "1563/1563 [==============================] - 24s 15ms/step - loss: 906.3932 - mae: 17.5421 - val_loss: 926.8508 - val_mae: 17.1629\n",
            "Epoch 56/80\n",
            "1563/1563 [==============================] - 24s 15ms/step - loss: 971.7797 - mae: 17.5026 - val_loss: 930.9076 - val_mae: 17.3006\n",
            "Epoch 57/80\n",
            "1563/1563 [==============================] - 23s 15ms/step - loss: 909.8866 - mae: 17.6120 - val_loss: 940.5541 - val_mae: 18.0583\n",
            "Epoch 58/80\n",
            "1563/1563 [==============================] - 24s 15ms/step - loss: 920.4517 - mae: 17.6936 - val_loss: 929.2228 - val_mae: 17.0154\n",
            "Epoch 59/80\n",
            "1563/1563 [==============================] - 23s 15ms/step - loss: 998.2443 - mae: 17.5766 - val_loss: 921.8574 - val_mae: 17.3324\n",
            "Epoch 60/80\n",
            "1563/1563 [==============================] - 23s 14ms/step - loss: 972.9616 - mae: 17.5490 - val_loss: 932.6731 - val_mae: 17.2252\n",
            "Epoch 61/80\n",
            "1563/1563 [==============================] - 24s 16ms/step - loss: 831.0533 - mae: 17.2657 - val_loss: 937.9673 - val_mae: 16.9210\n",
            "Epoch 62/80\n",
            "1563/1563 [==============================] - 22s 14ms/step - loss: 1090.8391 - mae: 17.5743 - val_loss: 926.1812 - val_mae: 16.9306\n",
            "Epoch 63/80\n",
            "1563/1563 [==============================] - 24s 15ms/step - loss: 1101.2889 - mae: 17.4814 - val_loss: 932.6762 - val_mae: 17.7264\n",
            "Epoch 64/80\n",
            "1563/1563 [==============================] - 23s 14ms/step - loss: 1179.0789 - mae: 17.7065 - val_loss: 939.0894 - val_mae: 16.9242\n",
            "Epoch 65/80\n",
            "1563/1563 [==============================] - 24s 15ms/step - loss: 1034.5910 - mae: 17.6834 - val_loss: 934.8458 - val_mae: 17.3738\n",
            "Epoch 66/80\n",
            "1563/1563 [==============================] - 24s 15ms/step - loss: 1005.1288 - mae: 17.6267 - val_loss: 930.6068 - val_mae: 16.9177\n",
            "Epoch 67/80\n",
            "1563/1563 [==============================] - 23s 15ms/step - loss: 1134.8005 - mae: 17.6975 - val_loss: 929.4477 - val_mae: 17.4411\n",
            "Epoch 68/80\n",
            "1563/1563 [==============================] - 23s 14ms/step - loss: 914.6536 - mae: 17.5276 - val_loss: 927.9776 - val_mae: 17.5749\n",
            "Epoch 69/80\n",
            "1563/1563 [==============================] - 25s 16ms/step - loss: 940.5020 - mae: 17.5144 - val_loss: 937.2732 - val_mae: 16.7436\n",
            "Epoch 70/80\n",
            "1563/1563 [==============================] - 23s 14ms/step - loss: 913.6257 - mae: 17.3649 - val_loss: 928.7342 - val_mae: 17.2082\n",
            "Epoch 71/80\n",
            "1563/1563 [==============================] - 24s 16ms/step - loss: 1018.4904 - mae: 17.5747 - val_loss: 942.2647 - val_mae: 17.5939\n",
            "Epoch 72/80\n",
            "1563/1563 [==============================] - 23s 15ms/step - loss: 864.8716 - mae: 17.4892 - val_loss: 941.8052 - val_mae: 17.4188\n",
            "Epoch 73/80\n",
            "1563/1563 [==============================] - 23s 14ms/step - loss: 1166.6794 - mae: 17.7785 - val_loss: 934.6318 - val_mae: 17.1150\n",
            "Epoch 74/80\n",
            "1563/1563 [==============================] - 24s 15ms/step - loss: 956.2084 - mae: 17.2126 - val_loss: 931.7037 - val_mae: 17.2058\n",
            "Epoch 75/80\n",
            "1563/1563 [==============================] - 24s 15ms/step - loss: 1016.9049 - mae: 17.5892 - val_loss: 939.7891 - val_mae: 17.0878\n",
            "Epoch 76/80\n",
            "1563/1563 [==============================] - 23s 15ms/step - loss: 935.8511 - mae: 17.3153 - val_loss: 933.0279 - val_mae: 17.2406\n",
            "Epoch 77/80\n",
            "1563/1563 [==============================] - 23s 14ms/step - loss: 917.0808 - mae: 17.3600 - val_loss: 943.3341 - val_mae: 16.7376\n",
            "Epoch 78/80\n",
            "1563/1563 [==============================] - 25s 16ms/step - loss: 984.1992 - mae: 17.5736 - val_loss: 940.1340 - val_mae: 17.4713\n",
            "Epoch 79/80\n",
            "1563/1563 [==============================] - 22s 14ms/step - loss: 983.0069 - mae: 17.6218 - val_loss: 932.3015 - val_mae: 16.9293\n",
            "Epoch 80/80\n",
            "1563/1563 [==============================] - 23s 15ms/step - loss: 931.3138 - mae: 17.3579 - val_loss: 956.0430 - val_mae: 17.9745\n"
          ],
          "name": "stdout"
        }
      ]
    },
    {
      "cell_type": "code",
      "metadata": {
        "id": "TlExFRlPdF2r",
        "colab": {
          "base_uri": "https://localhost:8080/",
          "height": 237
        },
        "outputId": "15016119-72a6-4e92-e27d-d4e47696aada"
      },
      "source": [
        "plt.plot(history.history['mae'], \n",
        "         label='Средняя абсолютная ошибка на обучающем наборе')\n",
        "plt.plot(history.history['val_mae'], \n",
        "         label='Средняя абсолютная ошибка на проверочном наборе')\n",
        "plt.xlabel('Эпоха обучения')\n",
        "plt.ylabel('Средняя абсолютная ошибка')\n",
        "plt.legend()\n",
        "plt.show()"
      ],
      "execution_count": 1,
      "outputs": [
        {
          "output_type": "error",
          "ename": "NameError",
          "evalue": "ignored",
          "traceback": [
            "\u001b[0;31m---------------------------------------------------------------------------\u001b[0m",
            "\u001b[0;31mNameError\u001b[0m                                 Traceback (most recent call last)",
            "\u001b[0;32m<ipython-input-1-122d225e5ff0>\u001b[0m in \u001b[0;36m<module>\u001b[0;34m()\u001b[0m\n\u001b[0;32m----> 1\u001b[0;31m plt.plot(history.history['mae'], \n\u001b[0m\u001b[1;32m      2\u001b[0m          label='Средняя абсолютная ошибка на обучающем наборе')\n\u001b[1;32m      3\u001b[0m plt.plot(history.history['val_mae'], \n\u001b[1;32m      4\u001b[0m          label='Средняя абсолютная ошибка на проверочном наборе')\n\u001b[1;32m      5\u001b[0m \u001b[0mplt\u001b[0m\u001b[0;34m.\u001b[0m\u001b[0mxlabel\u001b[0m\u001b[0;34m(\u001b[0m\u001b[0;34m'Эпоха обучения'\u001b[0m\u001b[0;34m)\u001b[0m\u001b[0;34m\u001b[0m\u001b[0;34m\u001b[0m\u001b[0m\n",
            "\u001b[0;31mNameError\u001b[0m: name 'plt' is not defined"
          ]
        }
      ]
    },
    {
      "cell_type": "code",
      "metadata": {
        "id": "7RoIK_UkRBRU"
      },
      "source": [
        "model.save('/content/drive/MyDrive/Hakaton/complex.h5')"
      ],
      "execution_count": 47,
      "outputs": []
    },
    {
      "cell_type": "code",
      "metadata": {
        "id": "gfZbZHjqdQtG",
        "colab": {
          "base_uri": "https://localhost:8080/",
          "height": 280
        },
        "outputId": "8efc1de2-f401-4d4f-cf48-aee76fe32346"
      },
      "source": [
        "yy = yTrain[50000:] # Зарплата\n",
        "pred = model.predict([xTrain01[50000:], xTrainRez01[50000:]]) # Предсказанная зарплата\n",
        "plt.scatter(yy, pred)\n",
        "plt.xlabel('Правильные значение')\n",
        "plt.ylabel('Предсказания')\n",
        "plt.axis('equal')\n",
        "plt.xlim(plt.xlim())\n",
        "plt.ylim(plt.ylim())\n",
        "plt.plot([-1000, 1000], [-1000, 1000])\n",
        "plt.show()"
      ],
      "execution_count": null,
      "outputs": [
        {
          "output_type": "display_data",
          "data": {
            "image/png": "[encoded data removed]",
            "text/plain": [
              "<Figure size 432x288 with 1 Axes>"
            ]
          },
          "metadata": {
            "tags": [],
            "needs_background": "light"
          }
        }
      ]
    },
    {
      "cell_type": "code",
      "metadata": {
        "id": "_jafWlnbfRPV",
        "colab": {
          "base_uri": "https://localhost:8080/",
          "height": 185
        },
        "outputId": "41fe7181-fad8-43c8-e85b-01ca2b3ef046"
      },
      "source": [
        "del xTrainRez01, xTrainRezIndexes # Удаляем некоторые переменные, иначе дальше может вылететь из-за нехватки памяти"
      ],
      "execution_count": 64,
      "outputs": [
        {
          "output_type": "error",
          "ename": "NameError",
          "evalue": "ignored",
          "traceback": [
            "\u001b[0;31m---------------------------------------------------------------------------\u001b[0m",
            "\u001b[0;31mNameError\u001b[0m                                 Traceback (most recent call last)",
            "\u001b[0;32m<ipython-input-64-45d22cb8d636>\u001b[0m in \u001b[0;36m<module>\u001b[0;34m()\u001b[0m\n\u001b[0;32m----> 1\u001b[0;31m \u001b[0;32mdel\u001b[0m \u001b[0mxTrainRez01\u001b[0m\u001b[0;34m,\u001b[0m \u001b[0mxTrainRezIndexes\u001b[0m \u001b[0;31m# Удаляем некоторые переменные, иначе дальше может вылететь из-за нехватки памяти\u001b[0m\u001b[0;34m\u001b[0m\u001b[0;34m\u001b[0m\u001b[0m\n\u001b[0m",
            "\u001b[0;31mNameError\u001b[0m: name 'xTrainRez01' is not defined"
          ]
        }
      ]
    },
    {
      "cell_type": "code",
      "metadata": {
        "id": "fjyil6OZRfze"
      },
      "source": [
        "XTest = getXTrainTProf(test.position) "
      ],
      "execution_count": 48,
      "outputs": []
    },
    {
      "cell_type": "code",
      "metadata": {
        "id": "8joAzhR9SxC2"
      },
      "source": [
        "#################\r\n",
        "#Преобразовываем текстовые данные в числовые/векторные для обучения нейросетью\r\n",
        "#################\r\n",
        "\r\n",
        "maxWordsCount = 1000 #определяем макс.кол-во слов/индексов, учитываемое при обучении текстов\r\n",
        "\r\n",
        "#для этого воспользуемся встроенной в Keras функцией Tokenizer для разбиения текста и превращения в матрицу числовых значений\r\n",
        "tokenizer = Tokenizer(num_words=maxWordsCount, filters='!\"#$%&()*+,-–—./:;<=>?@[\\\\]^_`{|}~\\t\\n\\xa0', lower=True, split=' ', oov_token='unknown', char_level=True)\r\n",
        "#выше задаем параметры:\r\n",
        "#(num_words=maxWordsCount) - определяем макс.кол-во слов/индексов, учитываемое при обучении текстов0\r\n",
        "#(filters='!\"#$%&()*+,-./:;<=>?@[\\\\]^_`{|}~\\t\\n') - избавляемся от ненужных символов\r\n",
        "#(lower=True) - приводим слова к нижнему регистру\r\n",
        "#(split=' ') - разделяем слова по пробелу\r\n",
        "#(char_level=False) - просим токенайзер не удалять однобуквенные слова\r\n",
        "\r\n",
        "tokenizer.fit_on_texts(XTest) # \"скармливаем\" наши тексты, т.е даём в обработку методу, который соберет словарь частотности\r\n",
        "items = list(tokenizer.word_index.items())  #Вытаскиваем индексы слов для просмотра"
      ],
      "execution_count": 50,
      "outputs": []
    },
    {
      "cell_type": "code",
      "metadata": {
        "id": "wqXtJF1kS4PZ"
      },
      "source": [
        "# Преобразовываем текст в последовательность индексов согласно частотному словарю\r\n",
        "XTestIndexes = tokenizer.texts_to_sequences(XTest) # Обучающие тесты в индексы"
      ],
      "execution_count": 51,
      "outputs": []
    },
    {
      "cell_type": "code",
      "metadata": {
        "colab": {
          "base_uri": "https://localhost:8080/"
        },
        "id": "m1BWjrT_THCs",
        "outputId": "71c30e74-6ed2-4e6e-8b0c-423f82a258fb"
      },
      "source": [
        "XTest01 = tokenizer.sequences_to_matrix(XTestIndexes) # Подаем xTrain в виде списка чтобы метод успешно сработал\r\n",
        "print(XTest01.shape)                                      # Размер обучающей выборки, сформированной по Bag of Words\r\n",
        "print(XTest01[0][0:100])"
      ],
      "execution_count": 52,
      "outputs": [
        {
          "output_type": "stream",
          "text": [
            "(131259, 1000)\n",
            "[0. 0. 0. 1. 1. 0. 1. 0. 0. 1. 0. 0. 0. 0. 0. 0. 0. 0. 0. 0. 0. 0. 1. 0.\n",
            " 0. 0. 0. 0. 0. 0. 0. 0. 0. 0. 0. 0. 0. 0. 0. 0. 0. 0. 0. 0. 0. 0. 0. 0.\n",
            " 0. 0. 0. 0. 0. 0. 0. 0. 0. 0. 0. 0. 0. 0. 0. 0. 0. 0. 0. 0. 0. 0. 0. 0.\n",
            " 0. 0. 0. 0. 0. 0. 0. 0. 0. 0. 0. 0. 0. 0. 0. 0. 0. 0. 0. 0. 0. 0. 0. 0.\n",
            " 0. 0. 0. 0.]\n"
          ],
          "name": "stdout"
        }
      ]
    },
    {
      "cell_type": "code",
      "metadata": {
        "id": "b80zOt71URpR"
      },
      "source": [
        "pred = model.predict([xTest, XTest01])"
      ],
      "execution_count": 56,
      "outputs": []
    },
    {
      "cell_type": "code",
      "metadata": {
        "id": "okSi0DQcV4R2"
      },
      "source": [
        "pred=pred*1000"
      ],
      "execution_count": 59,
      "outputs": []
    },
    {
      "cell_type": "markdown",
      "metadata": {
        "id": "OTZXoJr_UQKn"
      },
      "source": [
        ""
      ]
    },
    {
      "cell_type": "code",
      "metadata": {
        "colab": {
          "base_uri": "https://localhost:8080/"
        },
        "id": "ScbmAvX9WTT-",
        "outputId": "797de3a4-aebd-467e-dcf2-e85c67dc4519"
      },
      "source": [
        "pred.reshape(-1,1)"
      ],
      "execution_count": 61,
      "outputs": [
        {
          "output_type": "execute_result",
          "data": {
            "text/plain": [
              "array([[42021.547],\n",
              "       [44199.656],\n",
              "       [57172.805],\n",
              "       ...,\n",
              "       [49404.832],\n",
              "       [35103.473],\n",
              "       [26353.844]], dtype=float32)"
            ]
          },
          "metadata": {
            "tags": []
          },
          "execution_count": 61
        }
      ]
    },
    {
      "cell_type": "code",
      "metadata": {
        "id": "I_i_vDOEWTUH"
      },
      "source": [
        "test['salary'] = pred\r\n",
        "solution = test[['id','salary']]"
      ],
      "execution_count": 62,
      "outputs": []
    },
    {
      "cell_type": "code",
      "metadata": {
        "id": "NujeCNK4WTUH"
      },
      "source": [
        "solution.to_csv('/content/drive/MyDrive/Hakaton/solution1.csv', sep=',', index=False)"
      ],
      "execution_count": 63,
      "outputs": []
    }
  ]
}